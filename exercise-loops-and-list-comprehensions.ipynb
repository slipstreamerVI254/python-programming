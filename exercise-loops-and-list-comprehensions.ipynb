{
 "cells": [
  {
   "cell_type": "markdown",
   "id": "e7f848aa",
   "metadata": {
    "papermill": {
     "duration": 0.004625,
     "end_time": "2025-04-28T20:42:04.170654",
     "exception": false,
     "start_time": "2025-04-28T20:42:04.166029",
     "status": "completed"
    },
    "tags": []
   },
   "source": [
    "**This notebook is an exercise in the [Python](https://www.kaggle.com/learn/python) course.  You can reference the tutorial at [this link](https://www.kaggle.com/colinmorris/loops-and-list-comprehensions).**\n",
    "\n",
    "---\n"
   ]
  },
  {
   "cell_type": "markdown",
   "id": "a142e3b5",
   "metadata": {
    "papermill": {
     "duration": 0.004093,
     "end_time": "2025-04-28T20:42:04.178975",
     "exception": false,
     "start_time": "2025-04-28T20:42:04.174882",
     "status": "completed"
    },
    "tags": []
   },
   "source": [
    "With all you've learned, you can start writing much more interesting programs. See if you can solve the problems below.\n",
    "\n",
    "As always, run the setup code below before working on the questions."
   ]
  },
  {
   "cell_type": "code",
   "execution_count": 1,
   "id": "bebb83dd",
   "metadata": {
    "execution": {
     "iopub.execute_input": "2025-04-28T20:42:04.188355Z",
     "iopub.status.busy": "2025-04-28T20:42:04.188038Z",
     "iopub.status.idle": "2025-04-28T20:42:06.425910Z",
     "shell.execute_reply": "2025-04-28T20:42:06.424553Z"
    },
    "papermill": {
     "duration": 2.244877,
     "end_time": "2025-04-28T20:42:06.427970",
     "exception": false,
     "start_time": "2025-04-28T20:42:04.183093",
     "status": "completed"
    },
    "tags": []
   },
   "outputs": [
    {
     "name": "stdout",
     "output_type": "stream",
     "text": [
      "Setup complete.\n"
     ]
    }
   ],
   "source": [
    "from learntools.core import binder; binder.bind(globals())\n",
    "from learntools.python.ex5 import *\n",
    "print('Setup complete.')"
   ]
  },
  {
   "cell_type": "markdown",
   "id": "9f124b58",
   "metadata": {
    "papermill": {
     "duration": 0.003864,
     "end_time": "2025-04-28T20:42:06.436103",
     "exception": false,
     "start_time": "2025-04-28T20:42:06.432239",
     "status": "completed"
    },
    "tags": []
   },
   "source": [
    "# 1.\n",
    "\n",
    "Have you ever felt debugging involved a bit of luck? The following program has a bug. Try to identify the bug and fix it."
   ]
  },
  {
   "cell_type": "code",
   "execution_count": 2,
   "id": "9a8522f9",
   "metadata": {
    "execution": {
     "iopub.execute_input": "2025-04-28T20:42:06.447124Z",
     "iopub.status.busy": "2025-04-28T20:42:06.446297Z",
     "iopub.status.idle": "2025-04-28T20:42:06.453867Z",
     "shell.execute_reply": "2025-04-28T20:42:06.452445Z"
    },
    "papermill": {
     "duration": 0.015218,
     "end_time": "2025-04-28T20:42:06.455761",
     "exception": false,
     "start_time": "2025-04-28T20:42:06.440543",
     "status": "completed"
    },
    "tags": []
   },
   "outputs": [],
   "source": [
    "def has_lucky_number(nums):\n",
    "    \"\"\"Return whether the given list of numbers is lucky. A lucky list contains\n",
    "    at least one number divisible by 7.\n",
    "    \"\"\"\n",
    "    for num in nums:\n",
    "        if num % 7 == 0:\n",
    "            return True\n",
    "        else:\n",
    "            return False"
   ]
  },
  {
   "cell_type": "markdown",
   "id": "ad54d7b1",
   "metadata": {
    "papermill": {
     "duration": 0.003857,
     "end_time": "2025-04-28T20:42:06.463946",
     "exception": false,
     "start_time": "2025-04-28T20:42:06.460089",
     "status": "completed"
    },
    "tags": []
   },
   "source": [
    "Try to identify the bug and fix it in the cell below:"
   ]
  },
  {
   "cell_type": "code",
   "execution_count": 3,
   "id": "f1a499c1",
   "metadata": {
    "execution": {
     "iopub.execute_input": "2025-04-28T20:42:06.473450Z",
     "iopub.status.busy": "2025-04-28T20:42:06.473118Z",
     "iopub.status.idle": "2025-04-28T20:42:06.482341Z",
     "shell.execute_reply": "2025-04-28T20:42:06.481412Z"
    },
    "papermill": {
     "duration": 0.015848,
     "end_time": "2025-04-28T20:42:06.483815",
     "exception": false,
     "start_time": "2025-04-28T20:42:06.467967",
     "status": "completed"
    },
    "tags": []
   },
   "outputs": [
    {
     "data": {
      "application/javascript": [
       "parent.postMessage({\"jupyterEvent\": \"custom.exercise_interaction\", \"data\": {\"outcomeType\": 1, \"valueTowardsCompletion\": 0.25, \"interactionType\": 1, \"questionType\": 2, \"questionId\": \"1_EarlyExitDebugging\", \"learnToolsVersion\": \"0.3.5\", \"failureMessage\": \"\", \"exceptionClass\": \"\", \"trace\": \"\"}}, \"*\")"
      ],
      "text/plain": [
       "<IPython.core.display.Javascript object>"
      ]
     },
     "metadata": {},
     "output_type": "display_data"
    },
    {
     "data": {
      "text/markdown": [
       "<span style=\"color:#33cc33\">Correct:</span> \n",
       "\n",
       "Remember that `return` causes a function to exit immediately. So our original implementation always ran for just one iteration. We can only return `False` if we've looked at every element of the list (and confirmed that none of them are lucky). Though we can return early if the answer is `True`:\n",
       "\n",
       "```python\n",
       "def has_lucky_number(nums):\n",
       "    for num in nums:\n",
       "        if num % 7 == 0:\n",
       "            return True\n",
       "    # We've exhausted the list without finding a lucky number\n",
       "    return False\n",
       "```\n",
       "\n",
       "Here's a one-line version using a list comprehension with Python's `any` function (you can read about what it does by calling `help(any)`):\n",
       "\n",
       "```python\n",
       "def has_lucky_number(nums):\n",
       "    return any([num % 7 == 0 for num in nums])\n",
       "```\n"
      ],
      "text/plain": [
       "Correct: \n",
       "\n",
       "Remember that `return` causes a function to exit immediately. So our original implementation always ran for just one iteration. We can only return `False` if we've looked at every element of the list (and confirmed that none of them are lucky). Though we can return early if the answer is `True`:\n",
       "\n",
       "```python\n",
       "def has_lucky_number(nums):\n",
       "    for num in nums:\n",
       "        if num % 7 == 0:\n",
       "            return True\n",
       "    # We've exhausted the list without finding a lucky number\n",
       "    return False\n",
       "```\n",
       "\n",
       "Here's a one-line version using a list comprehension with Python's `any` function (you can read about what it does by calling `help(any)`):\n",
       "\n",
       "```python\n",
       "def has_lucky_number(nums):\n",
       "    return any([num % 7 == 0 for num in nums])\n",
       "```"
      ]
     },
     "metadata": {},
     "output_type": "display_data"
    }
   ],
   "source": [
    "def has_lucky_number(nums):\n",
    "    \"\"\"Return whether the given list of numbers is lucky. A lucky list contains\n",
    "    at least one number divisible by 7.\n",
    "    \"\"\" \n",
    "    return any([num % 7 == 0 for num in nums])\n",
    "\n",
    "# Check your answer\n",
    "q1.check()"
   ]
  },
  {
   "cell_type": "code",
   "execution_count": 4,
   "id": "66f20559",
   "metadata": {
    "execution": {
     "iopub.execute_input": "2025-04-28T20:42:06.494451Z",
     "iopub.status.busy": "2025-04-28T20:42:06.494132Z",
     "iopub.status.idle": "2025-04-28T20:42:06.498554Z",
     "shell.execute_reply": "2025-04-28T20:42:06.497475Z"
    },
    "papermill": {
     "duration": 0.011764,
     "end_time": "2025-04-28T20:42:06.500178",
     "exception": false,
     "start_time": "2025-04-28T20:42:06.488414",
     "status": "completed"
    },
    "tags": []
   },
   "outputs": [],
   "source": [
    "#q1.hint()\n",
    "#q1.solution()"
   ]
  },
  {
   "cell_type": "markdown",
   "id": "020d08c2",
   "metadata": {
    "papermill": {
     "duration": 0.004219,
     "end_time": "2025-04-28T20:42:06.509181",
     "exception": false,
     "start_time": "2025-04-28T20:42:06.504962",
     "status": "completed"
    },
    "tags": []
   },
   "source": [
    "# 2.\n",
    "Look at the Python expression below. What do you think we'll get when we run it? When you've made your prediction, uncomment the code and run the cell to see if you were right."
   ]
  },
  {
   "cell_type": "code",
   "execution_count": 5,
   "id": "3244a9a4",
   "metadata": {
    "execution": {
     "iopub.execute_input": "2025-04-28T20:42:06.518800Z",
     "iopub.status.busy": "2025-04-28T20:42:06.518509Z",
     "iopub.status.idle": "2025-04-28T20:42:06.522605Z",
     "shell.execute_reply": "2025-04-28T20:42:06.521688Z"
    },
    "papermill": {
     "duration": 0.010852,
     "end_time": "2025-04-28T20:42:06.524217",
     "exception": false,
     "start_time": "2025-04-28T20:42:06.513365",
     "status": "completed"
    },
    "tags": []
   },
   "outputs": [],
   "source": [
    "#[1, 2, 3, 4] > 2"
   ]
  },
  {
   "cell_type": "markdown",
   "id": "22586330",
   "metadata": {
    "papermill": {
     "duration": 0.004419,
     "end_time": "2025-04-28T20:42:06.533013",
     "exception": false,
     "start_time": "2025-04-28T20:42:06.528594",
     "status": "completed"
    },
    "tags": []
   },
   "source": [
    "R and Python have some libraries (like numpy and pandas) compare each element of the list to 2 (i.e. do an 'element-wise' comparison) and give us a list of booleans like `[False, False, True, True]`. \n",
    "\n",
    "Implement a function that reproduces this behaviour, returning a list of booleans corresponding to whether the corresponding element is greater than n."
   ]
  },
  {
   "cell_type": "code",
   "execution_count": 6,
   "id": "9b3f076d",
   "metadata": {
    "execution": {
     "iopub.execute_input": "2025-04-28T20:42:06.544110Z",
     "iopub.status.busy": "2025-04-28T20:42:06.543757Z",
     "iopub.status.idle": "2025-04-28T20:42:06.552050Z",
     "shell.execute_reply": "2025-04-28T20:42:06.550965Z"
    },
    "papermill": {
     "duration": 0.015125,
     "end_time": "2025-04-28T20:42:06.553650",
     "exception": false,
     "start_time": "2025-04-28T20:42:06.538525",
     "status": "completed"
    },
    "tags": []
   },
   "outputs": [
    {
     "data": {
      "application/javascript": [
       "parent.postMessage({\"jupyterEvent\": \"custom.exercise_interaction\", \"data\": {\"outcomeType\": 1, \"valueTowardsCompletion\": 0.25, \"interactionType\": 1, \"questionType\": 2, \"questionId\": \"2_ElementWiseComparison\", \"learnToolsVersion\": \"0.3.5\", \"failureMessage\": \"\", \"exceptionClass\": \"\", \"trace\": \"\"}}, \"*\")"
      ],
      "text/plain": [
       "<IPython.core.display.Javascript object>"
      ]
     },
     "metadata": {},
     "output_type": "display_data"
    },
    {
     "data": {
      "text/markdown": [
       "<span style=\"color:#33cc33\">Correct:</span> \n",
       "\n",
       "Here's one solution:\n",
       "```python\n",
       "def elementwise_greater_than(L, thresh):\n",
       "    res = []\n",
       "    for ele in L:\n",
       "        res.append(ele > thresh)\n",
       "    return res\n",
       "```\n",
       "\n",
       "And here's the list comprehension version:\n",
       "```python\n",
       "def elementwise_greater_than(L, thresh):\n",
       "    return [ele > thresh for ele in L]\n",
       "```\n"
      ],
      "text/plain": [
       "Correct: \n",
       "\n",
       "Here's one solution:\n",
       "```python\n",
       "def elementwise_greater_than(L, thresh):\n",
       "    res = []\n",
       "    for ele in L:\n",
       "        res.append(ele > thresh)\n",
       "    return res\n",
       "```\n",
       "\n",
       "And here's the list comprehension version:\n",
       "```python\n",
       "def elementwise_greater_than(L, thresh):\n",
       "    return [ele > thresh for ele in L]\n",
       "```"
      ]
     },
     "metadata": {},
     "output_type": "display_data"
    }
   ],
   "source": [
    "def elementwise_greater_than(L, thresh):\n",
    "    \"\"\"Return a list with the same length as L, where the value at index i is \n",
    "    True if L[i] is greater than thresh, and False otherwise.\n",
    "    \n",
    "    >>> elementwise_greater_than([1, 2, 3, 4], 2)\n",
    "    [False, False, True, True]\n",
    "    \"\"\"\n",
    "    res = []\n",
    "    for ele in L:\n",
    "        res.append(ele > thresh)\n",
    "    return res\n",
    "\n",
    "# Check your answer\n",
    "q2.check()"
   ]
  },
  {
   "cell_type": "code",
   "execution_count": 7,
   "id": "f2333207",
   "metadata": {
    "execution": {
     "iopub.execute_input": "2025-04-28T20:42:06.564831Z",
     "iopub.status.busy": "2025-04-28T20:42:06.564525Z",
     "iopub.status.idle": "2025-04-28T20:42:06.569318Z",
     "shell.execute_reply": "2025-04-28T20:42:06.568361Z"
    },
    "papermill": {
     "duration": 0.012282,
     "end_time": "2025-04-28T20:42:06.570933",
     "exception": false,
     "start_time": "2025-04-28T20:42:06.558651",
     "status": "completed"
    },
    "tags": []
   },
   "outputs": [],
   "source": [
    "#q2.solution()"
   ]
  },
  {
   "cell_type": "markdown",
   "id": "734fccef",
   "metadata": {
    "papermill": {
     "duration": 0.004331,
     "end_time": "2025-04-28T20:42:06.580306",
     "exception": false,
     "start_time": "2025-04-28T20:42:06.575975",
     "status": "completed"
    },
    "tags": []
   },
   "source": [
    "# 3.\n",
    "\n",
    "Complete the body of the function below according to its docstring."
   ]
  },
  {
   "cell_type": "code",
   "execution_count": 8,
   "id": "65a594e3",
   "metadata": {
    "execution": {
     "iopub.execute_input": "2025-04-28T20:42:06.591605Z",
     "iopub.status.busy": "2025-04-28T20:42:06.591217Z",
     "iopub.status.idle": "2025-04-28T20:42:06.599153Z",
     "shell.execute_reply": "2025-04-28T20:42:06.598261Z"
    },
    "papermill": {
     "duration": 0.015047,
     "end_time": "2025-04-28T20:42:06.600548",
     "exception": false,
     "start_time": "2025-04-28T20:42:06.585501",
     "status": "completed"
    },
    "tags": []
   },
   "outputs": [
    {
     "data": {
      "application/javascript": [
       "parent.postMessage({\"jupyterEvent\": \"custom.exercise_interaction\", \"data\": {\"outcomeType\": 1, \"valueTowardsCompletion\": 0.25, \"interactionType\": 1, \"questionType\": 2, \"questionId\": \"3_BoringMenu\", \"learnToolsVersion\": \"0.3.5\", \"failureMessage\": \"\", \"exceptionClass\": \"\", \"trace\": \"\"}}, \"*\")"
      ],
      "text/plain": [
       "<IPython.core.display.Javascript object>"
      ]
     },
     "metadata": {},
     "output_type": "display_data"
    },
    {
     "data": {
      "text/markdown": [
       "<span style=\"color:#33cc33\">Correct:</span> \n",
       "\n",
       "\n",
       "\n",
       "```python\n",
       "def menu_is_boring(meals):\n",
       "    # Iterate over all indices of the list, except the last one\n",
       "    for i in range(len(meals)-1):\n",
       "        if meals[i] == meals[i+1]:\n",
       "            return True\n",
       "    return False\n",
       "```\n",
       "\n",
       "The key to our solution is the call to `range`. `range(len(meals))` would give us all the indices of `meals`. If we had used that range, the last iteration of the loop would be comparing the last element to the element after it, which is... `IndexError`! `range(len(meals)-1)` gives us all the indices except the index of the last element.\n",
       "\n",
       "But don't we need to check if `meals` is empty? Turns out that `range(0) == range(-1)` - they're both empty. So if `meals` has length 0 or 1, we just won't do any iterations of our for loop.\n"
      ],
      "text/plain": [
       "Correct: \n",
       "\n",
       "\n",
       "\n",
       "```python\n",
       "def menu_is_boring(meals):\n",
       "    # Iterate over all indices of the list, except the last one\n",
       "    for i in range(len(meals)-1):\n",
       "        if meals[i] == meals[i+1]:\n",
       "            return True\n",
       "    return False\n",
       "```\n",
       "\n",
       "The key to our solution is the call to `range`. `range(len(meals))` would give us all the indices of `meals`. If we had used that range, the last iteration of the loop would be comparing the last element to the element after it, which is... `IndexError`! `range(len(meals)-1)` gives us all the indices except the index of the last element.\n",
       "\n",
       "But don't we need to check if `meals` is empty? Turns out that `range(0) == range(-1)` - they're both empty. So if `meals` has length 0 or 1, we just won't do any iterations of our for loop."
      ]
     },
     "metadata": {},
     "output_type": "display_data"
    }
   ],
   "source": [
    "def menu_is_boring(meals):\n",
    "    \"\"\"Given a list of meals served over some period of time, return True if the\n",
    "    same meal has ever been served two days in a row, and False otherwise.\n",
    "    \"\"\"\n",
    "    for i in range(len(meals)-1):\n",
    "        if meals[i] == meals[i+1]:\n",
    "            return True\n",
    "    return False\n",
    "\n",
    "# Check your answer\n",
    "q3.check()"
   ]
  },
  {
   "cell_type": "code",
   "execution_count": 9,
   "id": "a2c48ea6",
   "metadata": {
    "execution": {
     "iopub.execute_input": "2025-04-28T20:42:06.610950Z",
     "iopub.status.busy": "2025-04-28T20:42:06.610656Z",
     "iopub.status.idle": "2025-04-28T20:42:06.614460Z",
     "shell.execute_reply": "2025-04-28T20:42:06.613721Z"
    },
    "papermill": {
     "duration": 0.010502,
     "end_time": "2025-04-28T20:42:06.615807",
     "exception": false,
     "start_time": "2025-04-28T20:42:06.605305",
     "status": "completed"
    },
    "tags": []
   },
   "outputs": [],
   "source": [
    "#q3.hint()\n",
    "#q3.solution()"
   ]
  },
  {
   "cell_type": "markdown",
   "id": "31efec08",
   "metadata": {
    "papermill": {
     "duration": 0.004727,
     "end_time": "2025-04-28T20:42:06.626207",
     "exception": false,
     "start_time": "2025-04-28T20:42:06.621480",
     "status": "completed"
    },
    "tags": []
   },
   "source": [
    "# 4. <span title=\"A bit spicy\" style=\"color: darkgreen \">🌶️</span>\n",
    "\n",
    "Next to the Blackjack table, the Python Challenge Casino has a slot machine. You can get a result from the slot machine by calling `play_slot_machine()`. The number it returns is your winnings in dollars. Usually it returns 0.  But sometimes you'll get lucky and get a big payday. Try running it below:"
   ]
  },
  {
   "cell_type": "code",
   "execution_count": 10,
   "id": "12fd452f",
   "metadata": {
    "execution": {
     "iopub.execute_input": "2025-04-28T20:42:06.636630Z",
     "iopub.status.busy": "2025-04-28T20:42:06.636332Z",
     "iopub.status.idle": "2025-04-28T20:42:06.641904Z",
     "shell.execute_reply": "2025-04-28T20:42:06.641056Z"
    },
    "papermill": {
     "duration": 0.01249,
     "end_time": "2025-04-28T20:42:06.643309",
     "exception": false,
     "start_time": "2025-04-28T20:42:06.630819",
     "status": "completed"
    },
    "tags": []
   },
   "outputs": [
    {
     "data": {
      "text/plain": [
       "0"
      ]
     },
     "execution_count": 10,
     "metadata": {},
     "output_type": "execute_result"
    }
   ],
   "source": [
    "play_slot_machine()"
   ]
  },
  {
   "cell_type": "markdown",
   "id": "aefd5c1d",
   "metadata": {
    "papermill": {
     "duration": 0.004459,
     "end_time": "2025-04-28T20:42:06.652818",
     "exception": false,
     "start_time": "2025-04-28T20:42:06.648359",
     "status": "completed"
    },
    "tags": []
   },
   "source": [
    "By the way, did we mention that each play costs $1? Don't worry, we'll send you the bill later.\n",
    "\n",
    "On average, how much money can you expect to gain (or lose) every time you play the machine?  The casino keeps it a secret, but you can estimate the average value of each pull using a technique called the **Monte Carlo method**. To estimate the average outcome, we simulate the scenario many times, and return the average result.\n",
    "\n",
    "Complete the following function to calculate the average value per play of the slot machine."
   ]
  },
  {
   "cell_type": "code",
   "execution_count": 11,
   "id": "c8f4fc3b",
   "metadata": {
    "execution": {
     "iopub.execute_input": "2025-04-28T20:42:06.663521Z",
     "iopub.status.busy": "2025-04-28T20:42:06.662836Z",
     "iopub.status.idle": "2025-04-28T20:42:08.668604Z",
     "shell.execute_reply": "2025-04-28T20:42:08.667839Z"
    },
    "papermill": {
     "duration": 2.012695,
     "end_time": "2025-04-28T20:42:08.670047",
     "exception": false,
     "start_time": "2025-04-28T20:42:06.657352",
     "status": "completed"
    },
    "tags": []
   },
   "outputs": [
    {
     "data": {
      "text/plain": [
       "0.02642585"
      ]
     },
     "execution_count": 11,
     "metadata": {},
     "output_type": "execute_result"
    }
   ],
   "source": [
    "def estimate_average_slot_payout(n_runs):\n",
    "    \"\"\"Run the slot machine n_runs times and return the average net profit per run.\n",
    "    Example calls (note that return value is nondeterministic!):\n",
    "    >>> estimate_average_slot_payout(1)\n",
    "    -1\n",
    "    >>> estimate_average_slot_payout(1)\n",
    "    0.5\n",
    "    \"\"\"\n",
    "    payouts = [play_slot_machine()-1 for i in range(n_runs)]\n",
    "    # Calculate the average value\n",
    "    avg_payout = sum(payouts) / n_runs\n",
    "    return avg_payout\n",
    "    \n",
    "estimate_average_slot_payout(10000000)"
   ]
  },
  {
   "cell_type": "markdown",
   "id": "3a78107f",
   "metadata": {
    "papermill": {
     "duration": 0.004691,
     "end_time": "2025-04-28T20:42:08.679734",
     "exception": false,
     "start_time": "2025-04-28T20:42:08.675043",
     "status": "completed"
    },
    "tags": []
   },
   "source": [
    "When you think you know the expected value per spin, run the code cell below to view the solution and get credit for answering the question."
   ]
  },
  {
   "cell_type": "code",
   "execution_count": 12,
   "id": "1b3bddfc",
   "metadata": {
    "execution": {
     "iopub.execute_input": "2025-04-28T20:42:08.690854Z",
     "iopub.status.busy": "2025-04-28T20:42:08.690232Z",
     "iopub.status.idle": "2025-04-28T20:42:08.696962Z",
     "shell.execute_reply": "2025-04-28T20:42:08.696264Z"
    },
    "papermill": {
     "duration": 0.013992,
     "end_time": "2025-04-28T20:42:08.698494",
     "exception": false,
     "start_time": "2025-04-28T20:42:08.684502",
     "status": "completed"
    },
    "tags": []
   },
   "outputs": [
    {
     "data": {
      "application/javascript": [
       "parent.postMessage({\"jupyterEvent\": \"custom.exercise_interaction\", \"data\": {\"interactionType\": 3, \"questionType\": 4, \"questionId\": \"4_ExpectedSlotsPayout\", \"learnToolsVersion\": \"0.3.5\", \"valueTowardsCompletion\": 0.0, \"failureMessage\": \"\", \"exceptionClass\": \"\", \"trace\": \"\", \"outcomeType\": 4}}, \"*\")"
      ],
      "text/plain": [
       "<IPython.core.display.Javascript object>"
      ]
     },
     "metadata": {},
     "output_type": "display_data"
    },
    {
     "data": {
      "text/markdown": [
       "<span style=\"color:#33cc99\">Solution:</span> \n",
       "    \n",
       "The exact expected value of one pull of the slot machine is 0.025 - i.e. a little more than 2 cents.  See?  Not every game in the Python Challenge Casino is rigged against the player!\n",
       "\n",
       "In order to get this answer, you'll need to implement the `estimate_average_slot_payout(n_runs)` function to simulate pulling the slot machine `n_runs` times.  It should return the payout averaged over those `n_runs`.\n",
       "\n",
       "Then, once the function is defined, in order to estimate the average slot payout, we need only call the function.\n",
       "\n",
       "Because of the high variance of the outcome (there are some very rare high payout results that significantly affect the average) you might need to run your function with a very high value of `n_runs` to get a stable answer close to the true expectation.  For instance, you might use a value for `n_runs` of 1000000.\n",
       "\n",
       "Here's an example for how the function could look:\n",
       "```python\n",
       "def estimate_average_slot_payout(n_runs):\n",
       "    # Play slot machine n_runs times, calculate payout of each\n",
       "    payouts = [play_slot_machine()-1 for i in range(n_runs)]\n",
       "    # Calculate the average value\n",
       "    avg_payout = sum(payouts) / n_runs\n",
       "    return avg_payout\n",
       "    \n",
       "estimate_average_slot_payout(10000000)\n",
       "\n",
       "```\n",
       "\n",
       "This should return an answer close to 0.025!\n",
       "            \n"
      ],
      "text/plain": [
       "Solution: \n",
       "    \n",
       "The exact expected value of one pull of the slot machine is 0.025 - i.e. a little more than 2 cents.  See?  Not every game in the Python Challenge Casino is rigged against the player!\n",
       "\n",
       "In order to get this answer, you'll need to implement the `estimate_average_slot_payout(n_runs)` function to simulate pulling the slot machine `n_runs` times.  It should return the payout averaged over those `n_runs`.\n",
       "\n",
       "Then, once the function is defined, in order to estimate the average slot payout, we need only call the function.\n",
       "\n",
       "Because of the high variance of the outcome (there are some very rare high payout results that significantly affect the average) you might need to run your function with a very high value of `n_runs` to get a stable answer close to the true expectation.  For instance, you might use a value for `n_runs` of 1000000.\n",
       "\n",
       "Here's an example for how the function could look:\n",
       "```python\n",
       "def estimate_average_slot_payout(n_runs):\n",
       "    # Play slot machine n_runs times, calculate payout of each\n",
       "    payouts = [play_slot_machine()-1 for i in range(n_runs)]\n",
       "    # Calculate the average value\n",
       "    avg_payout = sum(payouts) / n_runs\n",
       "    return avg_payout\n",
       "    \n",
       "estimate_average_slot_payout(10000000)\n",
       "\n",
       "```\n",
       "\n",
       "This should return an answer close to 0.025!\n",
       "            "
      ]
     },
     "metadata": {},
     "output_type": "display_data"
    }
   ],
   "source": [
    "# Check your answer (Run this code cell to receive credit!)\n",
    "q4.solution()"
   ]
  },
  {
   "cell_type": "markdown",
   "id": "648a3621",
   "metadata": {
    "papermill": {
     "duration": 0.004893,
     "end_time": "2025-04-28T20:42:08.708860",
     "exception": false,
     "start_time": "2025-04-28T20:42:08.703967",
     "status": "completed"
    },
    "tags": []
   },
   "source": [
    "# Keep Going\n",
    "\n",
    "Many programmers report that dictionaries are their favorite data structure. You'll get to **[learn about them](https://www.kaggle.com/colinmorris/strings-and-dictionaries)** (as well as strings) in the next lesson."
   ]
  },
  {
   "cell_type": "markdown",
   "id": "b722b720",
   "metadata": {
    "papermill": {
     "duration": 0.004815,
     "end_time": "2025-04-28T20:42:08.718760",
     "exception": false,
     "start_time": "2025-04-28T20:42:08.713945",
     "status": "completed"
    },
    "tags": []
   },
   "source": [
    "---\n",
    "\n",
    "\n",
    "\n",
    "\n",
    "*Have questions or comments? Visit the [course discussion forum](https://www.kaggle.com/learn/python/discussion) to chat with other learners.*"
   ]
  }
 ],
 "metadata": {
  "kaggle": {
   "accelerator": "none",
   "dataSources": [],
   "isGpuEnabled": false,
   "isInternetEnabled": false,
   "language": "python",
   "sourceType": "notebook"
  },
  "kernelspec": {
   "display_name": "Python 3",
   "language": "python",
   "name": "python3"
  },
  "language_info": {
   "codemirror_mode": {
    "name": "ipython",
    "version": 3
   },
   "file_extension": ".py",
   "mimetype": "text/x-python",
   "name": "python",
   "nbconvert_exporter": "python",
   "pygments_lexer": "ipython3",
   "version": "3.11.11"
  },
  "learntools_metadata": {
   "lesson_index": 4,
   "type": "exercise"
  },
  "papermill": {
   "default_parameters": {},
   "duration": 10.560534,
   "end_time": "2025-04-28T20:42:09.244276",
   "environment_variables": {},
   "exception": null,
   "input_path": "__notebook__.ipynb",
   "output_path": "__notebook__.ipynb",
   "parameters": {},
   "start_time": "2025-04-28T20:41:58.683742",
   "version": "2.6.0"
  }
 },
 "nbformat": 4,
 "nbformat_minor": 5
}
