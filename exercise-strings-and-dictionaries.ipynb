{
 "cells": [
  {
   "cell_type": "markdown",
   "id": "53cc4df2",
   "metadata": {
    "papermill": {
     "duration": 0.005027,
     "end_time": "2025-04-28T20:48:10.493219",
     "exception": false,
     "start_time": "2025-04-28T20:48:10.488192",
     "status": "completed"
    },
    "tags": []
   },
   "source": [
    "**This notebook is an exercise in the [Python](https://www.kaggle.com/learn/python) course.  You can reference the tutorial at [this link](https://www.kaggle.com/colinmorris/strings-and-dictionaries).**\n",
    "\n",
    "---\n"
   ]
  },
  {
   "cell_type": "markdown",
   "id": "fc8cb426",
   "metadata": {
    "papermill": {
     "duration": 0.00364,
     "end_time": "2025-04-28T20:48:10.501094",
     "exception": false,
     "start_time": "2025-04-28T20:48:10.497454",
     "status": "completed"
    },
    "tags": []
   },
   "source": [
    "You are almost done with the course. Nice job!\n",
    "\n",
    "We have a couple more interesting problems for you before you go. \n",
    "\n",
    "As always, run the setup code below before working on the questions."
   ]
  },
  {
   "cell_type": "code",
   "execution_count": 1,
   "id": "8239524d",
   "metadata": {
    "execution": {
     "iopub.execute_input": "2025-04-28T20:48:10.510243Z",
     "iopub.status.busy": "2025-04-28T20:48:10.509896Z",
     "iopub.status.idle": "2025-04-28T20:48:12.719046Z",
     "shell.execute_reply": "2025-04-28T20:48:12.717954Z"
    },
    "papermill": {
     "duration": 2.215883,
     "end_time": "2025-04-28T20:48:12.720975",
     "exception": false,
     "start_time": "2025-04-28T20:48:10.505092",
     "status": "completed"
    },
    "tags": []
   },
   "outputs": [
    {
     "name": "stdout",
     "output_type": "stream",
     "text": [
      "Setup complete.\n"
     ]
    }
   ],
   "source": [
    "from learntools.core import binder; binder.bind(globals())\n",
    "from learntools.python.ex6 import *\n",
    "print('Setup complete.')"
   ]
  },
  {
   "cell_type": "markdown",
   "id": "3213a683",
   "metadata": {
    "papermill": {
     "duration": 0.006559,
     "end_time": "2025-04-28T20:48:12.734356",
     "exception": false,
     "start_time": "2025-04-28T20:48:12.727797",
     "status": "completed"
    },
    "tags": []
   },
   "source": [
    "Let's start with a string lightning round to warm up. What are the lengths of the strings below?\n",
    "\n",
    "For each of the five strings below, predict what `len()` would return when passed that string. Use the variable `length` to record your answer, then run the cell to check whether you were right.  \n",
    "\n",
    "# 0a."
   ]
  },
  {
   "cell_type": "code",
   "execution_count": 2,
   "id": "29b54e4f",
   "metadata": {
    "execution": {
     "iopub.execute_input": "2025-04-28T20:48:12.746922Z",
     "iopub.status.busy": "2025-04-28T20:48:12.745843Z",
     "iopub.status.idle": "2025-04-28T20:48:12.758462Z",
     "shell.execute_reply": "2025-04-28T20:48:12.757221Z"
    },
    "papermill": {
     "duration": 0.019959,
     "end_time": "2025-04-28T20:48:12.760456",
     "exception": false,
     "start_time": "2025-04-28T20:48:12.740497",
     "status": "completed"
    },
    "tags": []
   },
   "outputs": [
    {
     "data": {
      "application/javascript": [
       "parent.postMessage({\"jupyterEvent\": \"custom.exercise_interaction\", \"data\": {\"outcomeType\": 1, \"valueTowardsCompletion\": 0.3333333333333333, \"interactionType\": 1, \"questionType\": 1, \"questionId\": \"0.1_ZA\", \"learnToolsVersion\": \"0.3.5\", \"failureMessage\": \"\", \"exceptionClass\": \"\", \"trace\": \"\"}}, \"*\")"
      ],
      "text/plain": [
       "<IPython.core.display.Javascript object>"
      ]
     },
     "metadata": {},
     "output_type": "display_data"
    },
    {
     "data": {
      "text/markdown": [
       "<span style=\"color:#33cc33\">Correct:</span> \n",
       "\n",
       "The empty string has length zero. Note that the empty string is also the only string that Python considers as False when converting to boolean."
      ],
      "text/plain": [
       "Correct: \n",
       "\n",
       "The empty string has length zero. Note that the empty string is also the only string that Python considers as False when converting to boolean."
      ]
     },
     "metadata": {},
     "output_type": "display_data"
    }
   ],
   "source": [
    "a = \"\"\n",
    "length = len(a)\n",
    "q0.a.check()"
   ]
  },
  {
   "cell_type": "markdown",
   "id": "805b0f88",
   "metadata": {
    "papermill": {
     "duration": 0.00417,
     "end_time": "2025-04-28T20:48:12.772437",
     "exception": false,
     "start_time": "2025-04-28T20:48:12.768267",
     "status": "completed"
    },
    "tags": []
   },
   "source": [
    "# 0b."
   ]
  },
  {
   "cell_type": "code",
   "execution_count": 3,
   "id": "0f2f6380",
   "metadata": {
    "execution": {
     "iopub.execute_input": "2025-04-28T20:48:12.783156Z",
     "iopub.status.busy": "2025-04-28T20:48:12.782115Z",
     "iopub.status.idle": "2025-04-28T20:48:12.790783Z",
     "shell.execute_reply": "2025-04-28T20:48:12.789846Z"
    },
    "papermill": {
     "duration": 0.01567,
     "end_time": "2025-04-28T20:48:12.792342",
     "exception": false,
     "start_time": "2025-04-28T20:48:12.776672",
     "status": "completed"
    },
    "tags": []
   },
   "outputs": [
    {
     "data": {
      "application/javascript": [
       "parent.postMessage({\"jupyterEvent\": \"custom.exercise_interaction\", \"data\": {\"outcomeType\": 1, \"valueTowardsCompletion\": 0.3333333333333333, \"interactionType\": 1, \"questionType\": 1, \"questionId\": \"0.2_ZB\", \"learnToolsVersion\": \"0.3.5\", \"failureMessage\": \"\", \"exceptionClass\": \"\", \"trace\": \"\"}}, \"*\")"
      ],
      "text/plain": [
       "<IPython.core.display.Javascript object>"
      ]
     },
     "metadata": {},
     "output_type": "display_data"
    },
    {
     "data": {
      "text/markdown": [
       "<span style=\"color:#33cc33\">Correct:</span> \n",
       "\n",
       "Keep in mind Python includes spaces (and punctuation) when counting string length."
      ],
      "text/plain": [
       "Correct: \n",
       "\n",
       "Keep in mind Python includes spaces (and punctuation) when counting string length."
      ]
     },
     "metadata": {},
     "output_type": "display_data"
    }
   ],
   "source": [
    "b = \"it's ok\"\n",
    "length = len(b)\n",
    "q0.b.check()"
   ]
  },
  {
   "cell_type": "markdown",
   "id": "61011837",
   "metadata": {
    "papermill": {
     "duration": 0.005002,
     "end_time": "2025-04-28T20:48:12.801851",
     "exception": false,
     "start_time": "2025-04-28T20:48:12.796849",
     "status": "completed"
    },
    "tags": []
   },
   "source": [
    "# 0c."
   ]
  },
  {
   "cell_type": "code",
   "execution_count": 4,
   "id": "4a28e1e8",
   "metadata": {
    "execution": {
     "iopub.execute_input": "2025-04-28T20:48:12.818455Z",
     "iopub.status.busy": "2025-04-28T20:48:12.818122Z",
     "iopub.status.idle": "2025-04-28T20:48:12.826299Z",
     "shell.execute_reply": "2025-04-28T20:48:12.825147Z"
    },
    "papermill": {
     "duration": 0.019093,
     "end_time": "2025-04-28T20:48:12.828116",
     "exception": false,
     "start_time": "2025-04-28T20:48:12.809023",
     "status": "completed"
    },
    "tags": []
   },
   "outputs": [
    {
     "data": {
      "application/javascript": [
       "parent.postMessage({\"jupyterEvent\": \"custom.exercise_interaction\", \"data\": {\"outcomeType\": 1, \"valueTowardsCompletion\": 0.3333333333333333, \"interactionType\": 1, \"questionType\": 1, \"questionId\": \"0.3_ZC\", \"learnToolsVersion\": \"0.3.5\", \"failureMessage\": \"\", \"exceptionClass\": \"\", \"trace\": \"\"}}, \"*\")"
      ],
      "text/plain": [
       "<IPython.core.display.Javascript object>"
      ]
     },
     "metadata": {},
     "output_type": "display_data"
    },
    {
     "data": {
      "text/markdown": [
       "<span style=\"color:#33cc33\">Correct:</span> \n",
       "\n",
       "Even though we use different syntax to create it, the string `c` is identical to `b`. In particular, note that the backslash is not part of the string, so it doesn't contribute to its length."
      ],
      "text/plain": [
       "Correct: \n",
       "\n",
       "Even though we use different syntax to create it, the string `c` is identical to `b`. In particular, note that the backslash is not part of the string, so it doesn't contribute to its length."
      ]
     },
     "metadata": {},
     "output_type": "display_data"
    }
   ],
   "source": [
    "c = 'it\\'s ok'\n",
    "length = len(c)\n",
    "q0.c.check()"
   ]
  },
  {
   "cell_type": "markdown",
   "id": "e23d9c48",
   "metadata": {
    "papermill": {
     "duration": 0.007349,
     "end_time": "2025-04-28T20:48:12.843356",
     "exception": false,
     "start_time": "2025-04-28T20:48:12.836007",
     "status": "completed"
    },
    "tags": []
   },
   "source": [
    "# 0d."
   ]
  },
  {
   "cell_type": "code",
   "execution_count": 5,
   "id": "d6eddd4d",
   "metadata": {
    "execution": {
     "iopub.execute_input": "2025-04-28T20:48:12.854400Z",
     "iopub.status.busy": "2025-04-28T20:48:12.853475Z",
     "iopub.status.idle": "2025-04-28T20:48:12.861687Z",
     "shell.execute_reply": "2025-04-28T20:48:12.860719Z"
    },
    "papermill": {
     "duration": 0.015194,
     "end_time": "2025-04-28T20:48:12.863143",
     "exception": false,
     "start_time": "2025-04-28T20:48:12.847949",
     "status": "completed"
    },
    "tags": []
   },
   "outputs": [
    {
     "data": {
      "application/javascript": [
       "parent.postMessage({\"jupyterEvent\": \"custom.exercise_interaction\", \"data\": {\"outcomeType\": 1, \"valueTowardsCompletion\": 0.3333333333333333, \"interactionType\": 1, \"questionType\": 1, \"questionId\": \"0.4_ZD\", \"learnToolsVersion\": \"0.3.5\", \"failureMessage\": \"\", \"exceptionClass\": \"\", \"trace\": \"\"}}, \"*\")"
      ],
      "text/plain": [
       "<IPython.core.display.Javascript object>"
      ]
     },
     "metadata": {},
     "output_type": "display_data"
    },
    {
     "data": {
      "text/markdown": [
       "<span style=\"color:#33cc33\">Correct:</span> \n",
       "\n",
       "The fact that this string was created using triple-quote syntax doesn't make any difference in terms of its content or length. This string is exactly the same as `'hey'`."
      ],
      "text/plain": [
       "Correct: \n",
       "\n",
       "The fact that this string was created using triple-quote syntax doesn't make any difference in terms of its content or length. This string is exactly the same as `'hey'`."
      ]
     },
     "metadata": {},
     "output_type": "display_data"
    }
   ],
   "source": [
    "d = \"\"\"hey\"\"\"\n",
    "length = len(d)\n",
    "q0.d.check()"
   ]
  },
  {
   "cell_type": "markdown",
   "id": "d5072ab5",
   "metadata": {
    "papermill": {
     "duration": 0.004559,
     "end_time": "2025-04-28T20:48:12.872518",
     "exception": false,
     "start_time": "2025-04-28T20:48:12.867959",
     "status": "completed"
    },
    "tags": []
   },
   "source": [
    "# 0e."
   ]
  },
  {
   "cell_type": "code",
   "execution_count": 6,
   "id": "7256e903",
   "metadata": {
    "execution": {
     "iopub.execute_input": "2025-04-28T20:48:12.883425Z",
     "iopub.status.busy": "2025-04-28T20:48:12.883126Z",
     "iopub.status.idle": "2025-04-28T20:48:12.891081Z",
     "shell.execute_reply": "2025-04-28T20:48:12.890059Z"
    },
    "papermill": {
     "duration": 0.015325,
     "end_time": "2025-04-28T20:48:12.892616",
     "exception": false,
     "start_time": "2025-04-28T20:48:12.877291",
     "status": "completed"
    },
    "tags": []
   },
   "outputs": [
    {
     "data": {
      "application/javascript": [
       "parent.postMessage({\"jupyterEvent\": \"custom.exercise_interaction\", \"data\": {\"outcomeType\": 1, \"valueTowardsCompletion\": 0.3333333333333333, \"interactionType\": 1, \"questionType\": 1, \"questionId\": \"0.5_ZE\", \"learnToolsVersion\": \"0.3.5\", \"failureMessage\": \"\", \"exceptionClass\": \"\", \"trace\": \"\"}}, \"*\")"
      ],
      "text/plain": [
       "<IPython.core.display.Javascript object>"
      ]
     },
     "metadata": {},
     "output_type": "display_data"
    },
    {
     "data": {
      "text/markdown": [
       "<span style=\"color:#33cc33\">Correct:</span> \n",
       "\n",
       "The newline character is just a single character! (Even though we represent it to Python using a combination of two characters.)"
      ],
      "text/plain": [
       "Correct: \n",
       "\n",
       "The newline character is just a single character! (Even though we represent it to Python using a combination of two characters.)"
      ]
     },
     "metadata": {},
     "output_type": "display_data"
    }
   ],
   "source": [
    "e = '\\n'\n",
    "length = len(e)\n",
    "q0.e.check()"
   ]
  },
  {
   "cell_type": "markdown",
   "id": "1a82e492",
   "metadata": {
    "papermill": {
     "duration": 0.004675,
     "end_time": "2025-04-28T20:48:12.902376",
     "exception": false,
     "start_time": "2025-04-28T20:48:12.897701",
     "status": "completed"
    },
    "tags": []
   },
   "source": [
    "# 1.\n",
    "\n",
    "There is a saying that \"Data scientists spend 80% of their time cleaning data, and 20% of their time complaining about cleaning data.\" Let's see if you can write a function to help clean US zip code data. Given a string, it should return whether or not that string represents a valid zip code. For our purposes, a valid zip code is any string consisting of exactly 5 digits.\n",
    "\n",
    "HINT: `str` has a method that will be useful here. Use `help(str)` to review a list of string methods."
   ]
  },
  {
   "cell_type": "code",
   "execution_count": 7,
   "id": "e5c2baad",
   "metadata": {
    "execution": {
     "iopub.execute_input": "2025-04-28T20:48:12.914028Z",
     "iopub.status.busy": "2025-04-28T20:48:12.913124Z",
     "iopub.status.idle": "2025-04-28T20:48:12.921987Z",
     "shell.execute_reply": "2025-04-28T20:48:12.920943Z"
    },
    "papermill": {
     "duration": 0.016323,
     "end_time": "2025-04-28T20:48:12.923457",
     "exception": false,
     "start_time": "2025-04-28T20:48:12.907134",
     "status": "completed"
    },
    "tags": []
   },
   "outputs": [
    {
     "data": {
      "application/javascript": [
       "parent.postMessage({\"jupyterEvent\": \"custom.exercise_interaction\", \"data\": {\"outcomeType\": 1, \"valueTowardsCompletion\": 0.3333333333333333, \"interactionType\": 1, \"questionType\": 2, \"questionId\": \"1_ZipValidator\", \"learnToolsVersion\": \"0.3.5\", \"failureMessage\": \"\", \"exceptionClass\": \"\", \"trace\": \"\"}}, \"*\")"
      ],
      "text/plain": [
       "<IPython.core.display.Javascript object>"
      ]
     },
     "metadata": {},
     "output_type": "display_data"
    },
    {
     "data": {
      "text/markdown": [
       "<span style=\"color:#33cc33\">Correct</span>"
      ],
      "text/plain": [
       "Correct"
      ]
     },
     "metadata": {},
     "output_type": "display_data"
    }
   ],
   "source": [
    "def is_valid_zip(zip_code):\n",
    "    \"\"\"Returns whether the input string is a valid (5 digit) zip code\n",
    "    \"\"\"\n",
    "    return len(zip_code) == 5 and zip_code.isdigit()\n",
    "\n",
    "# Check your answer\n",
    "q1.check()"
   ]
  },
  {
   "cell_type": "code",
   "execution_count": 8,
   "id": "98b4be72",
   "metadata": {
    "execution": {
     "iopub.execute_input": "2025-04-28T20:48:12.935684Z",
     "iopub.status.busy": "2025-04-28T20:48:12.935292Z",
     "iopub.status.idle": "2025-04-28T20:48:12.939891Z",
     "shell.execute_reply": "2025-04-28T20:48:12.938966Z"
    },
    "papermill": {
     "duration": 0.012777,
     "end_time": "2025-04-28T20:48:12.941454",
     "exception": false,
     "start_time": "2025-04-28T20:48:12.928677",
     "status": "completed"
    },
    "tags": []
   },
   "outputs": [],
   "source": [
    "#q1.hint()\n",
    "#q1.solution()"
   ]
  },
  {
   "cell_type": "markdown",
   "id": "54d3143c",
   "metadata": {
    "papermill": {
     "duration": 0.006895,
     "end_time": "2025-04-28T20:48:12.953586",
     "exception": false,
     "start_time": "2025-04-28T20:48:12.946691",
     "status": "completed"
    },
    "tags": []
   },
   "source": [
    "# 2.\n",
    "\n",
    "A researcher has gathered thousands of news articles. But she wants to focus her attention on articles including a specific word. Complete the function below to help her filter her list of articles.\n",
    "\n",
    "Your function should meet the following criteria:\n",
    "\n",
    "- Do not include documents where the keyword string shows up only as a part of a larger word. For example, if she were looking for the keyword “closed”, you would not include the string “enclosed.” \n",
    "- She does not want you to distinguish upper case from lower case letters. So the phrase “Closed the case.” would be included when the keyword is “closed”\n",
    "- Do not let periods or commas affect what is matched. “It is closed.” would be included when the keyword is “closed”. But you can assume there are no other types of punctuation."
   ]
  },
  {
   "cell_type": "code",
   "execution_count": 9,
   "id": "9acde321",
   "metadata": {
    "execution": {
     "iopub.execute_input": "2025-04-28T20:48:12.969730Z",
     "iopub.status.busy": "2025-04-28T20:48:12.969298Z",
     "iopub.status.idle": "2025-04-28T20:48:12.980326Z",
     "shell.execute_reply": "2025-04-28T20:48:12.979262Z"
    },
    "papermill": {
     "duration": 0.020655,
     "end_time": "2025-04-28T20:48:12.982300",
     "exception": false,
     "start_time": "2025-04-28T20:48:12.961645",
     "status": "completed"
    },
    "tags": []
   },
   "outputs": [
    {
     "data": {
      "application/javascript": [
       "parent.postMessage({\"jupyterEvent\": \"custom.exercise_interaction\", \"data\": {\"outcomeType\": 1, \"valueTowardsCompletion\": 0.3333333333333333, \"interactionType\": 1, \"questionType\": 2, \"questionId\": \"2_WordSearch\", \"learnToolsVersion\": \"0.3.5\", \"failureMessage\": \"\", \"exceptionClass\": \"\", \"trace\": \"\"}}, \"*\")"
      ],
      "text/plain": [
       "<IPython.core.display.Javascript object>"
      ]
     },
     "metadata": {},
     "output_type": "display_data"
    },
    {
     "data": {
      "text/markdown": [
       "<span style=\"color:#33cc33\">Correct</span>"
      ],
      "text/plain": [
       "Correct"
      ]
     },
     "metadata": {},
     "output_type": "display_data"
    }
   ],
   "source": [
    "def word_search(doc_list, keyword):\n",
    "    \"\"\"\n",
    "    Takes a list of documents (each document is a string) and a keyword. \n",
    "    Returns list of the index values into the original list for all documents \n",
    "    containing the keyword.\n",
    "\n",
    "    Example:\n",
    "    doc_list = [\"The Learn Python Challenge Casino.\", \"They bought a car\", \"Casinoville\"]\n",
    "    >>> word_search(doc_list, 'casino')\n",
    "    >>> [0]\n",
    "    \"\"\"\n",
    "     # list to hold the indices of matching documents\n",
    "    indices = [] \n",
    "    # Iterate through the indices (i) and elements (doc) of documents\n",
    "    for i, doc in enumerate(doc_list):\n",
    "        # Split the string doc into a list of words (according to whitespace)\n",
    "        tokens = doc.split()\n",
    "        # Make a transformed list where we 'normalize' each word to facilitate matching.\n",
    "        # Periods and commas are removed from the end of each word, and it's set to all lowercase.\n",
    "        normalized = [token.rstrip('.,').lower() for token in tokens]\n",
    "        # Is there a match? If so, update the list of matching indices.\n",
    "        if keyword.lower() in normalized:\n",
    "            indices.append(i)\n",
    "    return indices\n",
    "\n",
    "# Check your answer\n",
    "q2.check()"
   ]
  },
  {
   "cell_type": "code",
   "execution_count": 10,
   "id": "a4aca30a",
   "metadata": {
    "execution": {
     "iopub.execute_input": "2025-04-28T20:48:13.002209Z",
     "iopub.status.busy": "2025-04-28T20:48:13.001867Z",
     "iopub.status.idle": "2025-04-28T20:48:13.006212Z",
     "shell.execute_reply": "2025-04-28T20:48:13.005209Z"
    },
    "papermill": {
     "duration": 0.016299,
     "end_time": "2025-04-28T20:48:13.007888",
     "exception": false,
     "start_time": "2025-04-28T20:48:12.991589",
     "status": "completed"
    },
    "tags": []
   },
   "outputs": [],
   "source": [
    "#q2.hint()\n",
    "#q2.solution()"
   ]
  },
  {
   "cell_type": "markdown",
   "id": "35f11a0e",
   "metadata": {
    "papermill": {
     "duration": 0.005384,
     "end_time": "2025-04-28T20:48:13.019018",
     "exception": false,
     "start_time": "2025-04-28T20:48:13.013634",
     "status": "completed"
    },
    "tags": []
   },
   "source": [
    "# 3.\n",
    "\n",
    "Now the researcher wants to supply multiple keywords to search for. Complete the function below to help her.\n",
    "\n",
    "(You're encouraged to use the `word_search` function you just wrote when implementing this function. Reusing code in this way makes your programs more robust and readable - and it saves typing!)"
   ]
  },
  {
   "cell_type": "code",
   "execution_count": 11,
   "id": "fe402ce8",
   "metadata": {
    "execution": {
     "iopub.execute_input": "2025-04-28T20:48:13.031116Z",
     "iopub.status.busy": "2025-04-28T20:48:13.030681Z",
     "iopub.status.idle": "2025-04-28T20:48:13.041409Z",
     "shell.execute_reply": "2025-04-28T20:48:13.040361Z"
    },
    "papermill": {
     "duration": 0.018774,
     "end_time": "2025-04-28T20:48:13.043055",
     "exception": false,
     "start_time": "2025-04-28T20:48:13.024281",
     "status": "completed"
    },
    "tags": []
   },
   "outputs": [
    {
     "data": {
      "application/javascript": [
       "parent.postMessage({\"jupyterEvent\": \"custom.exercise_interaction\", \"data\": {\"outcomeType\": 1, \"valueTowardsCompletion\": 0.3333333333333333, \"interactionType\": 1, \"questionType\": 2, \"questionId\": \"3_MultiWordSearch\", \"learnToolsVersion\": \"0.3.5\", \"failureMessage\": \"\", \"exceptionClass\": \"\", \"trace\": \"\"}}, \"*\")"
      ],
      "text/plain": [
       "<IPython.core.display.Javascript object>"
      ]
     },
     "metadata": {},
     "output_type": "display_data"
    },
    {
     "data": {
      "text/markdown": [
       "<span style=\"color:#33cc33\">Correct</span>"
      ],
      "text/plain": [
       "Correct"
      ]
     },
     "metadata": {},
     "output_type": "display_data"
    }
   ],
   "source": [
    "def multi_word_search(documents, keywords):\n",
    "    \"\"\"\n",
    "    Takes list of documents (each document is a string) and a list of keywords.  \n",
    "    Returns a dictionary where each key is a keyword, and the value is a list of indices\n",
    "    (from doc_list) of the documents containing that keyword\n",
    "\n",
    "    >>> doc_list = [\"The Learn Python Challenge Casino.\", \"They bought a car and a casino\", \"Casinoville\"]\n",
    "    >>> keywords = ['casino', 'they']\n",
    "    >>> multi_word_search(doc_list, keywords)\n",
    "    {'casino': [0, 1], 'they': [1]}\n",
    "    \"\"\"\n",
    "    keyword_to_indices = {}\n",
    "    for keyword in keywords:\n",
    "        keyword_to_indices[keyword] = word_search(documents, keyword)\n",
    "    return keyword_to_indices\n",
    "\n",
    "# Check your answer\n",
    "q3.check()"
   ]
  },
  {
   "cell_type": "code",
   "execution_count": 12,
   "id": "bdaf152c",
   "metadata": {
    "execution": {
     "iopub.execute_input": "2025-04-28T20:48:13.055970Z",
     "iopub.status.busy": "2025-04-28T20:48:13.055568Z",
     "iopub.status.idle": "2025-04-28T20:48:13.060661Z",
     "shell.execute_reply": "2025-04-28T20:48:13.059510Z"
    },
    "papermill": {
     "duration": 0.013424,
     "end_time": "2025-04-28T20:48:13.062246",
     "exception": false,
     "start_time": "2025-04-28T20:48:13.048822",
     "status": "completed"
    },
    "tags": []
   },
   "outputs": [],
   "source": [
    "#q3.solution()"
   ]
  },
  {
   "cell_type": "markdown",
   "id": "58effc78",
   "metadata": {
    "papermill": {
     "duration": 0.005319,
     "end_time": "2025-04-28T20:48:13.074954",
     "exception": false,
     "start_time": "2025-04-28T20:48:13.069635",
     "status": "completed"
    },
    "tags": []
   },
   "source": [
    "# Keep Going\n",
    "\n",
    "You've learned a lot. But even the best programmers rely heavily on \"libraries\" of code from other programmers. You'll learn about that in **[the last lesson](https://www.kaggle.com/colinmorris/working-with-external-libraries)**.\n"
   ]
  },
  {
   "cell_type": "markdown",
   "id": "554d3615",
   "metadata": {
    "papermill": {
     "duration": 0.005236,
     "end_time": "2025-04-28T20:48:13.085661",
     "exception": false,
     "start_time": "2025-04-28T20:48:13.080425",
     "status": "completed"
    },
    "tags": []
   },
   "source": [
    "---\n",
    "\n",
    "\n",
    "\n",
    "\n",
    "*Have questions or comments? Visit the [course discussion forum](https://www.kaggle.com/learn/python/discussion) to chat with other learners.*"
   ]
  }
 ],
 "metadata": {
  "kaggle": {
   "accelerator": "none",
   "dataSources": [],
   "isGpuEnabled": false,
   "isInternetEnabled": false,
   "language": "python",
   "sourceType": "notebook"
  },
  "kernelspec": {
   "display_name": "Python 3",
   "language": "python",
   "name": "python3"
  },
  "language_info": {
   "codemirror_mode": {
    "name": "ipython",
    "version": 3
   },
   "file_extension": ".py",
   "mimetype": "text/x-python",
   "name": "python",
   "nbconvert_exporter": "python",
   "pygments_lexer": "ipython3",
   "version": "3.11.11"
  },
  "learntools_metadata": {
   "lesson_index": 5,
   "type": "exercise"
  },
  "papermill": {
   "default_parameters": {},
   "duration": 9.889373,
   "end_time": "2025-04-28T20:48:13.711349",
   "environment_variables": {},
   "exception": null,
   "input_path": "__notebook__.ipynb",
   "output_path": "__notebook__.ipynb",
   "parameters": {},
   "start_time": "2025-04-28T20:48:03.821976",
   "version": "2.6.0"
  }
 },
 "nbformat": 4,
 "nbformat_minor": 5
}
