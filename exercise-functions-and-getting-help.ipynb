{
 "cells": [
  {
   "cell_type": "markdown",
   "id": "1b9b0a94",
   "metadata": {
    "papermill": {
     "duration": 0.004152,
     "end_time": "2025-04-28T20:09:14.855708",
     "exception": false,
     "start_time": "2025-04-28T20:09:14.851556",
     "status": "completed"
    },
    "tags": []
   },
   "source": [
    "**This notebook is an exercise in the [Python](https://www.kaggle.com/learn/python) course.  You can reference the tutorial at [this link](https://www.kaggle.com/colinmorris/functions-and-getting-help).**\n",
    "\n",
    "---\n"
   ]
  },
  {
   "cell_type": "markdown",
   "id": "0a122870",
   "metadata": {
    "papermill": {
     "duration": 0.0032,
     "end_time": "2025-04-28T20:09:14.862573",
     "exception": false,
     "start_time": "2025-04-28T20:09:14.859373",
     "status": "completed"
    },
    "tags": []
   },
   "source": [
    "Functions are powerful. Try writing some yourself.\n",
    "\n",
    "As before, don't forget to run the setup code below before jumping into question 1."
   ]
  },
  {
   "cell_type": "code",
   "execution_count": 1,
   "id": "5e4815af",
   "metadata": {
    "_kg_hide-input": true,
    "_kg_hide-output": true,
    "execution": {
     "iopub.execute_input": "2025-04-28T20:09:14.870632Z",
     "iopub.status.busy": "2025-04-28T20:09:14.870328Z",
     "iopub.status.idle": "2025-04-28T20:09:16.884724Z",
     "shell.execute_reply": "2025-04-28T20:09:16.883828Z"
    },
    "papermill": {
     "duration": 2.020178,
     "end_time": "2025-04-28T20:09:16.886206",
     "exception": false,
     "start_time": "2025-04-28T20:09:14.866028",
     "status": "completed"
    },
    "tags": []
   },
   "outputs": [
    {
     "name": "stdout",
     "output_type": "stream",
     "text": [
      "Setup complete.\n"
     ]
    }
   ],
   "source": [
    "# SETUP. You don't need to worry for now about what this code does or how it works.\n",
    "from learntools.core import binder; binder.bind(globals())\n",
    "from learntools.python.ex2 import *\n",
    "print('Setup complete.')"
   ]
  },
  {
   "cell_type": "markdown",
   "id": "ea70c0e2",
   "metadata": {
    "papermill": {
     "duration": 0.00336,
     "end_time": "2025-04-28T20:09:16.893286",
     "exception": false,
     "start_time": "2025-04-28T20:09:16.889926",
     "status": "completed"
    },
    "tags": []
   },
   "source": [
    "# 1.\n",
    "\n",
    "Complete the body of the following function according to its docstring.\n",
    "\n",
    "HINT: Python has a built-in function `round`."
   ]
  },
  {
   "cell_type": "code",
   "execution_count": 2,
   "id": "0ce5536d",
   "metadata": {
    "execution": {
     "iopub.execute_input": "2025-04-28T20:09:16.901666Z",
     "iopub.status.busy": "2025-04-28T20:09:16.901247Z",
     "iopub.status.idle": "2025-04-28T20:09:16.910021Z",
     "shell.execute_reply": "2025-04-28T20:09:16.909149Z"
    },
    "papermill": {
     "duration": 0.014674,
     "end_time": "2025-04-28T20:09:16.911516",
     "exception": false,
     "start_time": "2025-04-28T20:09:16.896842",
     "status": "completed"
    },
    "tags": []
   },
   "outputs": [
    {
     "data": {
      "application/javascript": [
       "parent.postMessage({\"jupyterEvent\": \"custom.exercise_interaction\", \"data\": {\"outcomeType\": 1, \"valueTowardsCompletion\": 0.16666666666666666, \"interactionType\": 1, \"questionType\": 2, \"questionId\": \"1_RoundFunctionProblem\", \"learnToolsVersion\": \"0.3.5\", \"failureMessage\": \"\", \"exceptionClass\": \"\", \"trace\": \"\"}}, \"*\")"
      ],
      "text/plain": [
       "<IPython.core.display.Javascript object>"
      ]
     },
     "metadata": {},
     "output_type": "display_data"
    },
    {
     "data": {
      "text/markdown": [
       "<span style=\"color:#33cc33\">Correct</span>"
      ],
      "text/plain": [
       "Correct"
      ]
     },
     "metadata": {},
     "output_type": "display_data"
    }
   ],
   "source": [
    "def round_to_two_places(num):\n",
    "    \"\"\"Return the given number rounded to two decimal places. \n",
    "    \n",
    "    >>> round_to_two_places(3.14159)\n",
    "    3.14\n",
    "    \"\"\"\n",
    "    # Replace this body with your own code.\n",
    "    # (\"pass\" is a keyword that does literally nothing. We used it as a placeholder\n",
    "    # because after we begin a code block, Python requires at least one line of code)\n",
    "    return round(num, 2)\n",
    "    pass\n",
    "\n",
    "# Check your answer\n",
    "q1.check()"
   ]
  },
  {
   "cell_type": "code",
   "execution_count": 3,
   "id": "be12ce21",
   "metadata": {
    "execution": {
     "iopub.execute_input": "2025-04-28T20:09:16.920939Z",
     "iopub.status.busy": "2025-04-28T20:09:16.920180Z",
     "iopub.status.idle": "2025-04-28T20:09:16.923946Z",
     "shell.execute_reply": "2025-04-28T20:09:16.923232Z"
    },
    "papermill": {
     "duration": 0.009886,
     "end_time": "2025-04-28T20:09:16.925354",
     "exception": false,
     "start_time": "2025-04-28T20:09:16.915468",
     "status": "completed"
    },
    "tags": []
   },
   "outputs": [],
   "source": [
    "# Uncomment the following for a hint\n",
    "#q1.hint()\n",
    "# Or uncomment the following to peek at the solution\n",
    "#q1.solution()"
   ]
  },
  {
   "cell_type": "markdown",
   "id": "c2f6d101",
   "metadata": {
    "papermill": {
     "duration": 0.003369,
     "end_time": "2025-04-28T20:09:16.932449",
     "exception": false,
     "start_time": "2025-04-28T20:09:16.929080",
     "status": "completed"
    },
    "tags": []
   },
   "source": [
    "# 2.\n",
    "The help for `round` says that `ndigits` (the second argument) may be negative.\n",
    "What do you think will happen when it is? Try some examples in the following cell."
   ]
  },
  {
   "cell_type": "code",
   "execution_count": 4,
   "id": "d8cf6a1e",
   "metadata": {
    "execution": {
     "iopub.execute_input": "2025-04-28T20:09:16.940916Z",
     "iopub.status.busy": "2025-04-28T20:09:16.940585Z",
     "iopub.status.idle": "2025-04-28T20:09:16.946044Z",
     "shell.execute_reply": "2025-04-28T20:09:16.945316Z"
    },
    "papermill": {
     "duration": 0.01135,
     "end_time": "2025-04-28T20:09:16.947372",
     "exception": false,
     "start_time": "2025-04-28T20:09:16.936022",
     "status": "completed"
    },
    "tags": []
   },
   "outputs": [
    {
     "data": {
      "text/plain": [
       "2166000"
      ]
     },
     "execution_count": 4,
     "metadata": {},
     "output_type": "execute_result"
    }
   ],
   "source": [
    "# Put your test code here\n",
    "round( 2166086,-3)"
   ]
  },
  {
   "cell_type": "markdown",
   "id": "8b404bf1",
   "metadata": {
    "papermill": {
     "duration": 0.003427,
     "end_time": "2025-04-28T20:09:16.954796",
     "exception": false,
     "start_time": "2025-04-28T20:09:16.951369",
     "status": "completed"
    },
    "tags": []
   },
   "source": [
    "Can you think of a case where this would be useful?  Once you're ready, run the code cell below to see the answer and to receive credit for completing the problem."
   ]
  },
  {
   "cell_type": "code",
   "execution_count": 5,
   "id": "13643cd8",
   "metadata": {
    "execution": {
     "iopub.execute_input": "2025-04-28T20:09:16.963156Z",
     "iopub.status.busy": "2025-04-28T20:09:16.962801Z",
     "iopub.status.idle": "2025-04-28T20:09:16.966618Z",
     "shell.execute_reply": "2025-04-28T20:09:16.965883Z"
    },
    "papermill": {
     "duration": 0.009581,
     "end_time": "2025-04-28T20:09:16.968034",
     "exception": false,
     "start_time": "2025-04-28T20:09:16.958453",
     "status": "completed"
    },
    "tags": []
   },
   "outputs": [],
   "source": [
    " #Check # (Run this code cell to receive credit!)\n",
    "#q2.solution()"
   ]
  },
  {
   "cell_type": "markdown",
   "id": "797f14e5",
   "metadata": {
    "papermill": {
     "duration": 0.003557,
     "end_time": "2025-04-28T20:09:16.975545",
     "exception": false,
     "start_time": "2025-04-28T20:09:16.971988",
     "status": "completed"
    },
    "tags": []
   },
   "source": [
    "# 3.\n",
    "\n",
    "In the previous exercise, the candy-sharing friends Alice, Bob and Carol tried to split candies evenly. For the sake of their friendship, any candies left over would be smashed. For example, if they collectively bring home 91 candies, they'll take 30 each and smash 1.\n",
    "\n",
    "Below is a simple function that will calculate the number of candies to smash for *any* number of total candies.\n",
    "\n",
    "Modify it so that it optionally takes a second argument representing the number of friends the candies are being split between. If no second argument is provided, it should assume 3 friends, as before.\n",
    "\n",
    "Update the docstring to reflect this new behaviour."
   ]
  },
  {
   "cell_type": "code",
   "execution_count": 6,
   "id": "3eb963fa",
   "metadata": {
    "execution": {
     "iopub.execute_input": "2025-04-28T20:09:16.984497Z",
     "iopub.status.busy": "2025-04-28T20:09:16.983907Z",
     "iopub.status.idle": "2025-04-28T20:09:16.991721Z",
     "shell.execute_reply": "2025-04-28T20:09:16.990660Z"
    },
    "papermill": {
     "duration": 0.01421,
     "end_time": "2025-04-28T20:09:16.993480",
     "exception": false,
     "start_time": "2025-04-28T20:09:16.979270",
     "status": "completed"
    },
    "tags": []
   },
   "outputs": [
    {
     "data": {
      "application/javascript": [
       "parent.postMessage({\"jupyterEvent\": \"custom.exercise_interaction\", \"data\": {\"outcomeType\": 1, \"valueTowardsCompletion\": 0.16666666666666666, \"interactionType\": 1, \"questionType\": 2, \"questionId\": \"3_CandySmashingFunctionProblem\", \"learnToolsVersion\": \"0.3.5\", \"failureMessage\": \"\", \"exceptionClass\": \"\", \"trace\": \"\"}}, \"*\")"
      ],
      "text/plain": [
       "<IPython.core.display.Javascript object>"
      ]
     },
     "metadata": {},
     "output_type": "display_data"
    },
    {
     "data": {
      "text/markdown": [
       "<span style=\"color:#33cc33\">Correct</span>"
      ],
      "text/plain": [
       "Correct"
      ]
     },
     "metadata": {},
     "output_type": "display_data"
    }
   ],
   "source": [
    "def to_smash(total_candies, n_friends=3):\n",
    "    \"\"\"Return the number of leftover candies that must be smashed after distributing\n",
    "    the given number of candies evenly between 3 friends.\n",
    "    \n",
    "    >>> to_smash(91)\n",
    "    1\n",
    "    \"\"\"\n",
    "    return total_candies % n_friends\n",
    "\n",
    "# Check your answer\n",
    "q3.check()"
   ]
  },
  {
   "cell_type": "code",
   "execution_count": 7,
   "id": "18973eba",
   "metadata": {
    "execution": {
     "iopub.execute_input": "2025-04-28T20:09:17.002369Z",
     "iopub.status.busy": "2025-04-28T20:09:17.002096Z",
     "iopub.status.idle": "2025-04-28T20:09:17.006224Z",
     "shell.execute_reply": "2025-04-28T20:09:17.005310Z"
    },
    "papermill": {
     "duration": 0.01026,
     "end_time": "2025-04-28T20:09:17.007634",
     "exception": false,
     "start_time": "2025-04-28T20:09:16.997374",
     "status": "completed"
    },
    "tags": []
   },
   "outputs": [],
   "source": [
    "#q3.hint()"
   ]
  },
  {
   "cell_type": "code",
   "execution_count": 8,
   "id": "6346857e",
   "metadata": {
    "execution": {
     "iopub.execute_input": "2025-04-28T20:09:17.017528Z",
     "iopub.status.busy": "2025-04-28T20:09:17.017226Z",
     "iopub.status.idle": "2025-04-28T20:09:17.021159Z",
     "shell.execute_reply": "2025-04-28T20:09:17.020218Z"
    },
    "papermill": {
     "duration": 0.010281,
     "end_time": "2025-04-28T20:09:17.022611",
     "exception": false,
     "start_time": "2025-04-28T20:09:17.012330",
     "status": "completed"
    },
    "tags": []
   },
   "outputs": [],
   "source": [
    "#q3.solution()"
   ]
  },
  {
   "cell_type": "markdown",
   "id": "ea8a1aee",
   "metadata": {
    "papermill": {
     "duration": 0.003633,
     "end_time": "2025-04-28T20:09:17.030341",
     "exception": false,
     "start_time": "2025-04-28T20:09:17.026708",
     "status": "completed"
    },
    "tags": []
   },
   "source": [
    "# 4. (Optional)\n",
    "\n",
    "It may not be fun, but reading and understanding error messages will be an important part of your Python career.\n",
    "\n",
    "Each code cell below contains some commented buggy code. For each cell...\n",
    "\n",
    "1. Read the code and predict what you think will happen when it's run.\n",
    "2. Then uncomment the code and run it to see what happens. (**Tip**: In the kernel editor, you can highlight several lines and press `ctrl`+`/` to toggle commenting.)\n",
    "3. Fix the code (so that it accomplishes its intended purpose without throwing an exception)\n",
    "\n",
    "<!-- TODO: should this be autochecked? Delta is probably pretty small. -->"
   ]
  },
  {
   "cell_type": "code",
   "execution_count": 9,
   "id": "7045f5a6",
   "metadata": {
    "execution": {
     "iopub.execute_input": "2025-04-28T20:09:17.039439Z",
     "iopub.status.busy": "2025-04-28T20:09:17.038692Z",
     "iopub.status.idle": "2025-04-28T20:09:17.044214Z",
     "shell.execute_reply": "2025-04-28T20:09:17.043371Z"
    },
    "papermill": {
     "duration": 0.011471,
     "end_time": "2025-04-28T20:09:17.045544",
     "exception": false,
     "start_time": "2025-04-28T20:09:17.034073",
     "status": "completed"
    },
    "tags": []
   },
   "outputs": [
    {
     "data": {
      "text/plain": [
       "10.0"
      ]
     },
     "execution_count": 9,
     "metadata": {},
     "output_type": "execute_result"
    }
   ],
   "source": [
    "round_to_two_places(9.9999)"
   ]
  },
  {
   "cell_type": "code",
   "execution_count": 10,
   "id": "6e9bfae3",
   "metadata": {
    "execution": {
     "iopub.execute_input": "2025-04-28T20:09:17.054602Z",
     "iopub.status.busy": "2025-04-28T20:09:17.054340Z",
     "iopub.status.idle": "2025-04-28T20:09:17.058327Z",
     "shell.execute_reply": "2025-04-28T20:09:17.057497Z"
    },
    "papermill": {
     "duration": 0.01004,
     "end_time": "2025-04-28T20:09:17.059668",
     "exception": false,
     "start_time": "2025-04-28T20:09:17.049628",
     "status": "completed"
    },
    "tags": []
   },
   "outputs": [],
   "source": [
    "x = -10\n",
    "y = 5\n",
    "# # Which of the two variables above has the smallest absolute value?\n",
    "#smallest_abs =min(abs(x))"
   ]
  },
  {
   "cell_type": "code",
   "execution_count": 11,
   "id": "8781913c",
   "metadata": {
    "execution": {
     "iopub.execute_input": "2025-04-28T20:09:17.069149Z",
     "iopub.status.busy": "2025-04-28T20:09:17.068500Z",
     "iopub.status.idle": "2025-04-28T20:09:17.073815Z",
     "shell.execute_reply": "2025-04-28T20:09:17.072735Z"
    },
    "papermill": {
     "duration": 0.011465,
     "end_time": "2025-04-28T20:09:17.075215",
     "exception": false,
     "start_time": "2025-04-28T20:09:17.063750",
     "status": "completed"
    },
    "tags": []
   },
   "outputs": [
    {
     "name": "stdout",
     "output_type": "stream",
     "text": [
      "5\n"
     ]
    }
   ],
   "source": [
    " def f(x):\n",
    "     y = abs(x)\n",
    "     return y\n",
    "\n",
    " print(f(5))"
   ]
  },
  {
   "cell_type": "markdown",
   "id": "b4fe079d",
   "metadata": {
    "papermill": {
     "duration": 0.005062,
     "end_time": "2025-04-28T20:09:17.085439",
     "exception": false,
     "start_time": "2025-04-28T20:09:17.080377",
     "status": "completed"
    },
    "tags": []
   },
   "source": [
    "# Keep Going\n",
    "\n",
    "Nice job with the code. Next up, you'll learn about *conditionals*, which you'll need to **[write interesting programs](https://www.kaggle.com/colinmorris/booleans-and-conditionals)**. "
   ]
  },
  {
   "cell_type": "markdown",
   "id": "c7e65d25",
   "metadata": {
    "papermill": {
     "duration": 0.004065,
     "end_time": "2025-04-28T20:09:17.093610",
     "exception": false,
     "start_time": "2025-04-28T20:09:17.089545",
     "status": "completed"
    },
    "tags": []
   },
   "source": [
    "---\n",
    "\n",
    "\n",
    "\n",
    "\n",
    "*Have questions or comments? Visit the [course discussion forum](https://www.kaggle.com/learn/python/discussion) to chat with other learners.*"
   ]
  }
 ],
 "metadata": {
  "kaggle": {
   "accelerator": "none",
   "dataSources": [],
   "isGpuEnabled": false,
   "isInternetEnabled": false,
   "language": "python",
   "sourceType": "notebook"
  },
  "kernelspec": {
   "display_name": "Python 3",
   "language": "python",
   "name": "python3"
  },
  "language_info": {
   "codemirror_mode": {
    "name": "ipython",
    "version": 3
   },
   "file_extension": ".py",
   "mimetype": "text/x-python",
   "name": "python",
   "nbconvert_exporter": "python",
   "pygments_lexer": "ipython3",
   "version": "3.11.11"
  },
  "learntools_metadata": {
   "lesson_index": 1,
   "type": "exercise"
  },
  "papermill": {
   "default_parameters": {},
   "duration": 7.629792,
   "end_time": "2025-04-28T20:09:17.618138",
   "environment_variables": {},
   "exception": null,
   "input_path": "__notebook__.ipynb",
   "output_path": "__notebook__.ipynb",
   "parameters": {},
   "start_time": "2025-04-28T20:09:09.988346",
   "version": "2.6.0"
  }
 },
 "nbformat": 4,
 "nbformat_minor": 5
}
