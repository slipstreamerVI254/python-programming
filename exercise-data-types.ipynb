{
 "cells": [
  {
   "cell_type": "markdown",
   "id": "c3767687",
   "metadata": {
    "papermill": {
     "duration": 0.00572,
     "end_time": "2025-02-22T13:10:52.545960",
     "exception": false,
     "start_time": "2025-02-22T13:10:52.540240",
     "status": "completed"
    },
    "tags": []
   },
   "source": [
    "**This notebook is an exercise in the [Intro to Programming](https://www.kaggle.com/learn/intro-to-programming) course.  You can reference the tutorial at [this link](https://www.kaggle.com/alexisbcook/data-types).**\n",
    "\n",
    "---\n"
   ]
  },
  {
   "cell_type": "markdown",
   "id": "29b4df8b",
   "metadata": {
    "papermill": {
     "duration": 0.004761,
     "end_time": "2025-02-22T13:10:52.556003",
     "exception": false,
     "start_time": "2025-02-22T13:10:52.551242",
     "status": "completed"
    },
    "tags": []
   },
   "source": [
    "In the tutorial, you learned about four different data types: floats, integers, strings, and booleans.  In this exercise, you'll experiment with them.\n",
    "\n",
    "# Set up the notebook\n",
    "\n",
    "Run the next code cell without changes to set up the notebook."
   ]
  },
  {
   "cell_type": "code",
   "execution_count": 1,
   "id": "059298bf",
   "metadata": {
    "execution": {
     "iopub.execute_input": "2025-02-22T13:10:52.567038Z",
     "iopub.status.busy": "2025-02-22T13:10:52.566710Z",
     "iopub.status.idle": "2025-02-22T13:10:53.420899Z",
     "shell.execute_reply": "2025-02-22T13:10:53.419728Z"
    },
    "papermill": {
     "duration": 0.861564,
     "end_time": "2025-02-22T13:10:53.422496",
     "exception": false,
     "start_time": "2025-02-22T13:10:52.560932",
     "status": "completed"
    },
    "tags": []
   },
   "outputs": [
    {
     "name": "stdout",
     "output_type": "stream",
     "text": [
      "Setup complete.\n"
     ]
    }
   ],
   "source": [
    "# Set up the exercise\n",
    "from learntools.core import binder\n",
    "binder.bind(globals())\n",
    "from learntools.intro_to_programming.ex3 import *\n",
    "print('Setup complete.')"
   ]
  },
  {
   "cell_type": "markdown",
   "id": "3c3c50c6",
   "metadata": {
    "papermill": {
     "duration": 0.004813,
     "end_time": "2025-02-22T13:10:53.432706",
     "exception": false,
     "start_time": "2025-02-22T13:10:53.427893",
     "status": "completed"
    },
    "tags": []
   },
   "source": [
    "# Question 1\n",
    "\n",
    "You have seen how to convert a float to an integer with the `int` function.  Try this out yourself by running the code cell below."
   ]
  },
  {
   "cell_type": "code",
   "execution_count": 2,
   "id": "bec982df",
   "metadata": {
    "execution": {
     "iopub.execute_input": "2025-02-22T13:10:53.443997Z",
     "iopub.status.busy": "2025-02-22T13:10:53.443559Z",
     "iopub.status.idle": "2025-02-22T13:10:53.449175Z",
     "shell.execute_reply": "2025-02-22T13:10:53.448259Z"
    },
    "papermill": {
     "duration": 0.013037,
     "end_time": "2025-02-22T13:10:53.450743",
     "exception": false,
     "start_time": "2025-02-22T13:10:53.437706",
     "status": "completed"
    },
    "tags": []
   },
   "outputs": [
    {
     "name": "stdout",
     "output_type": "stream",
     "text": [
      "1.0\n",
      "<class 'float'>\n",
      "1\n",
      "<class 'int'>\n"
     ]
    }
   ],
   "source": [
    "# Define a float\n",
    "y = 1.\n",
    "print(y)\n",
    "print(type(y))\n",
    "\n",
    "# Convert float to integer with the int function\n",
    "z = int(y)\n",
    "print(z)\n",
    "print(type(z))"
   ]
  },
  {
   "cell_type": "markdown",
   "id": "282fd6e3",
   "metadata": {
    "papermill": {
     "duration": 0.004939,
     "end_time": "2025-02-22T13:10:53.460814",
     "exception": false,
     "start_time": "2025-02-22T13:10:53.455875",
     "status": "completed"
    },
    "tags": []
   },
   "source": [
    "In this case, the float you are using has no numbers after the decimal.  \n",
    "- But what happens when you try to convert a float with a fractional part to an integer?  \n",
    "- How does the outcome of the `int` function change for positive and negative numbers?\n",
    "\n",
    "Use the next code cell to investigate and answer these questions.  Feel free to add or remove any lines of code -- it is your workspace!"
   ]
  },
  {
   "cell_type": "code",
   "execution_count": 3,
   "id": "03149a3b",
   "metadata": {
    "execution": {
     "iopub.execute_input": "2025-02-22T13:10:53.471938Z",
     "iopub.status.busy": "2025-02-22T13:10:53.471616Z",
     "iopub.status.idle": "2025-02-22T13:10:53.476991Z",
     "shell.execute_reply": "2025-02-22T13:10:53.476179Z"
    },
    "papermill": {
     "duration": 0.012716,
     "end_time": "2025-02-22T13:10:53.478557",
     "exception": false,
     "start_time": "2025-02-22T13:10:53.465841",
     "status": "completed"
    },
    "tags": []
   },
   "outputs": [
    {
     "name": "stdout",
     "output_type": "stream",
     "text": [
      "1\n",
      "1\n",
      "-3\n",
      "-2\n"
     ]
    }
   ],
   "source": [
    "# Uncomment and run this code to get started!\n",
    "print(int(1.2321))\n",
    "print(int(1.747))\n",
    "print(int(-3.94535))\n",
    "print(int(-2.19774))"
   ]
  },
  {
   "cell_type": "markdown",
   "id": "ec638c19",
   "metadata": {
    "papermill": {
     "duration": 0.004703,
     "end_time": "2025-02-22T13:10:53.488391",
     "exception": false,
     "start_time": "2025-02-22T13:10:53.483688",
     "status": "completed"
    },
    "tags": []
   },
   "source": [
    "Once you have an answer, run the code cell below to see the solution.  Viewing the solution will give you credit for answering the problem."
   ]
  },
  {
   "cell_type": "code",
   "execution_count": 4,
   "id": "db9369e6",
   "metadata": {
    "execution": {
     "iopub.execute_input": "2025-02-22T13:10:53.499327Z",
     "iopub.status.busy": "2025-02-22T13:10:53.498950Z",
     "iopub.status.idle": "2025-02-22T13:10:53.506035Z",
     "shell.execute_reply": "2025-02-22T13:10:53.505264Z"
    },
    "papermill": {
     "duration": 0.014145,
     "end_time": "2025-02-22T13:10:53.507413",
     "exception": false,
     "start_time": "2025-02-22T13:10:53.493268",
     "status": "completed"
    },
    "tags": []
   },
   "outputs": [
    {
     "data": {
      "application/javascript": [
       "parent.postMessage({\"jupyterEvent\": \"custom.exercise_interaction\", \"data\": {\"outcomeType\": 1, \"valueTowardsCompletion\": 0.2, \"interactionType\": 1, \"questionType\": 4, \"questionId\": \"1_FloatToInt\", \"learnToolsVersion\": \"0.3.4\", \"failureMessage\": \"\", \"exceptionClass\": \"\", \"trace\": \"\"}}, \"*\")"
      ],
      "text/plain": [
       "<IPython.core.display.Javascript object>"
      ]
     },
     "metadata": {},
     "output_type": "display_data"
    },
    {
     "data": {
      "text/markdown": [
       "<span style=\"color:#33cc33\">Correct:</span> \n",
       "\n",
       "Negative floats are always rounded UP to the closest integer (for instance, both -1.1 and -1.9 are rounded up to -1). Positive floats are always rounded DOWN to the closest integer (for instance, 2.1 and 2.9 are rounded down to 2)."
      ],
      "text/plain": [
       "Correct: \n",
       "\n",
       "Negative floats are always rounded UP to the closest integer (for instance, both -1.1 and -1.9 are rounded up to -1). Positive floats are always rounded DOWN to the closest integer (for instance, 2.1 and 2.9 are rounded down to 2)."
      ]
     },
     "metadata": {},
     "output_type": "display_data"
    }
   ],
   "source": [
    "# Check your answer (Run this code cell to receive credit!)\n",
    "q1.check()"
   ]
  },
  {
   "cell_type": "markdown",
   "id": "2e528815",
   "metadata": {
    "papermill": {
     "duration": 0.005014,
     "end_time": "2025-02-22T13:10:53.517935",
     "exception": false,
     "start_time": "2025-02-22T13:10:53.512921",
     "status": "completed"
    },
    "tags": []
   },
   "source": [
    "# Question 2\n",
    "\n",
    "In the tutorial, you learned about booleans (which can take a value of `True` or `False`), in addition to integers, floats, and strings.  For this question, your goal is to determine what happens when you multiply a boolean by any of these data types.  Specifically, \n",
    "- What happens when you multiply an integer or float by `True`?  What happens when you multiply them by `False`?  How does the answer change if the numbers are positive or negative?\n",
    "- What happens when you multiply a string by `True`?  By `False`?\n",
    "\n",
    "Use the next code cell for your investigation. "
   ]
  },
  {
   "cell_type": "code",
   "execution_count": 5,
   "id": "f4462867",
   "metadata": {
    "execution": {
     "iopub.execute_input": "2025-02-22T13:10:53.529529Z",
     "iopub.status.busy": "2025-02-22T13:10:53.529150Z",
     "iopub.status.idle": "2025-02-22T13:10:53.534947Z",
     "shell.execute_reply": "2025-02-22T13:10:53.533796Z"
    },
    "papermill": {
     "duration": 0.013225,
     "end_time": "2025-02-22T13:10:53.536383",
     "exception": false,
     "start_time": "2025-02-22T13:10:53.523158",
     "status": "completed"
    },
    "tags": []
   },
   "outputs": [
    {
     "name": "stdout",
     "output_type": "stream",
     "text": [
      "3\n",
      "-3.1\n",
      "<class 'str'>\n",
      "0\n"
     ]
    }
   ],
   "source": [
    "# Uncomment and run this code to get started!\n",
    "print(3 * True)\n",
    "print(-3.1 * True)\n",
    "print(type(\"abc\" * False))\n",
    "print(len(\"abc\" * False))"
   ]
  },
  {
   "cell_type": "markdown",
   "id": "fe772e14",
   "metadata": {
    "papermill": {
     "duration": 0.005094,
     "end_time": "2025-02-22T13:10:53.547074",
     "exception": false,
     "start_time": "2025-02-22T13:10:53.541980",
     "status": "completed"
    },
    "tags": []
   },
   "source": [
    "Once you have an answer, run the code cell below to see the solution.  Viewing the solution will give you credit for answering the problem."
   ]
  },
  {
   "cell_type": "code",
   "execution_count": 6,
   "id": "26265e55",
   "metadata": {
    "execution": {
     "iopub.execute_input": "2025-02-22T13:10:53.558979Z",
     "iopub.status.busy": "2025-02-22T13:10:53.558649Z",
     "iopub.status.idle": "2025-02-22T13:10:53.565240Z",
     "shell.execute_reply": "2025-02-22T13:10:53.564364Z"
    },
    "papermill": {
     "duration": 0.014346,
     "end_time": "2025-02-22T13:10:53.566756",
     "exception": false,
     "start_time": "2025-02-22T13:10:53.552410",
     "status": "completed"
    },
    "tags": []
   },
   "outputs": [
    {
     "data": {
      "application/javascript": [
       "parent.postMessage({\"jupyterEvent\": \"custom.exercise_interaction\", \"data\": {\"outcomeType\": 1, \"valueTowardsCompletion\": 0.2, \"interactionType\": 1, \"questionType\": 4, \"questionId\": \"2_MultiplyBooleans\", \"learnToolsVersion\": \"0.3.4\", \"failureMessage\": \"\", \"exceptionClass\": \"\", \"trace\": \"\"}}, \"*\")"
      ],
      "text/plain": [
       "<IPython.core.display.Javascript object>"
      ]
     },
     "metadata": {},
     "output_type": "display_data"
    },
    {
     "data": {
      "text/markdown": [
       "<span style=\"color:#33cc33\">Correct:</span> \n",
       "\n",
       "When you multiple an integer or float by a boolean with value `True`, it just returns that same integer or float (and is equivalent to multiplying by 1).  If you multiply an integer or float by a boolean with value `False`, it always returns 0.  This is true for both positive and negative numbers.  If you multiply a string by a boolean with value `True`, it just returns that same string.  And if you multiply a string by a boolean with value `False`, it returns an empty string (or a string with length zero)."
      ],
      "text/plain": [
       "Correct: \n",
       "\n",
       "When you multiple an integer or float by a boolean with value `True`, it just returns that same integer or float (and is equivalent to multiplying by 1).  If you multiply an integer or float by a boolean with value `False`, it always returns 0.  This is true for both positive and negative numbers.  If you multiply a string by a boolean with value `True`, it just returns that same string.  And if you multiply a string by a boolean with value `False`, it returns an empty string (or a string with length zero)."
      ]
     },
     "metadata": {},
     "output_type": "display_data"
    }
   ],
   "source": [
    "# Check your answer (Run this code cell to receive credit!)\n",
    "q2.check()"
   ]
  },
  {
   "cell_type": "markdown",
   "id": "a46930c3",
   "metadata": {
    "papermill": {
     "duration": 0.005224,
     "end_time": "2025-02-22T13:10:53.577711",
     "exception": false,
     "start_time": "2025-02-22T13:10:53.572487",
     "status": "completed"
    },
    "tags": []
   },
   "source": [
    "# Question 3\n",
    "\n",
    "In this question, you will build off your work from the previous exercise to write a function that estimates the value of a house.\n",
    "\n",
    "Use the next code cell to create a function `get_expected_cost` that takes as input three variables:\n",
    "- `beds` - number of bedrooms (data type float)\n",
    "- `baths` - number of bathrooms (data type float)\n",
    "- `has_basement` - whether or not the house has a basement (data type boolean)\n",
    "\n",
    "It should return the expected cost of a house with those characteristics. Assume that:\n",
    "- the expected cost for a house with 0 bedrooms and 0 bathrooms, and no basement is 80000, \n",
    "- each bedroom adds 30000 to the expected cost,\n",
    "- each bathroom adds 10000 to the expected cost, and\n",
    "- a basement adds 40000 to the expected cost.\n",
    "\n",
    "For instance,\n",
    "- a house with 1 bedroom, 1 bathroom, and no basement has an expected cost of 80000 + 30000 + 10000 = 120000.  This value will be calculated with `get_expected_cost(1, 1, False)`.\n",
    "- a house with 2 bedrooms, 1 bathroom, and a basement has an expected cost of 80000 + 2*30000 + 10000 + 40000 = 190000.  This value will be calculated with `get_expected_cost(2, 1, True)`.\n",
    "\n",
    "Remember you can always get a hint by uncommenting `q3.hint()` in the code cell following the next!"
   ]
  },
  {
   "cell_type": "code",
   "execution_count": 7,
   "id": "17a3535e",
   "metadata": {
    "execution": {
     "iopub.execute_input": "2025-02-22T13:10:53.589714Z",
     "iopub.status.busy": "2025-02-22T13:10:53.589369Z",
     "iopub.status.idle": "2025-02-22T13:10:53.596724Z",
     "shell.execute_reply": "2025-02-22T13:10:53.595791Z"
    },
    "papermill": {
     "duration": 0.015164,
     "end_time": "2025-02-22T13:10:53.598294",
     "exception": false,
     "start_time": "2025-02-22T13:10:53.583130",
     "status": "completed"
    },
    "tags": []
   },
   "outputs": [
    {
     "data": {
      "application/javascript": [
       "parent.postMessage({\"jupyterEvent\": \"custom.exercise_interaction\", \"data\": {\"outcomeType\": 1, \"valueTowardsCompletion\": 0.2, \"interactionType\": 1, \"questionType\": 2, \"questionId\": \"3_EstimateHouseValueBool\", \"learnToolsVersion\": \"0.3.4\", \"failureMessage\": \"\", \"exceptionClass\": \"\", \"trace\": \"\"}}, \"*\")"
      ],
      "text/plain": [
       "<IPython.core.display.Javascript object>"
      ]
     },
     "metadata": {},
     "output_type": "display_data"
    },
    {
     "data": {
      "text/markdown": [
       "<span style=\"color:#33cc33\">Correct</span>"
      ],
      "text/plain": [
       "Correct"
      ]
     },
     "metadata": {},
     "output_type": "display_data"
    }
   ],
   "source": [
    "# TODO: Complete the function\n",
    "def get_expected_cost(beds, baths, has_basement):\n",
    "    value = 80000+beds*30000+baths*10000+(has_basement)*40000\n",
    "    return value\n",
    "\n",
    "# Check your answer \n",
    "q3.check()"
   ]
  },
  {
   "cell_type": "code",
   "execution_count": 8,
   "id": "4f444819",
   "metadata": {
    "execution": {
     "iopub.execute_input": "2025-02-22T13:10:53.610979Z",
     "iopub.status.busy": "2025-02-22T13:10:53.610697Z",
     "iopub.status.idle": "2025-02-22T13:10:53.614101Z",
     "shell.execute_reply": "2025-02-22T13:10:53.613325Z"
    },
    "papermill": {
     "duration": 0.011263,
     "end_time": "2025-02-22T13:10:53.615541",
     "exception": false,
     "start_time": "2025-02-22T13:10:53.604278",
     "status": "completed"
    },
    "tags": []
   },
   "outputs": [],
   "source": [
    "# Uncomment to see a hint\n",
    "#q3.hint()\n",
    "\n",
    "# Uncomment to view the solution\n",
    "#q3.solution()"
   ]
  },
  {
   "cell_type": "markdown",
   "id": "be24523a",
   "metadata": {
    "papermill": {
     "duration": 0.005487,
     "end_time": "2025-02-22T13:10:53.627023",
     "exception": false,
     "start_time": "2025-02-22T13:10:53.621536",
     "status": "completed"
    },
    "tags": []
   },
   "source": [
    "# Question 4\n",
    "\n",
    "We'll continue our study of boolean arithmetic.  For this question, your task is to provide a description of what happpens when you add booleans. \n",
    "\n",
    "Use the next code cell for your investigation.  Feel free to add or remove any lines of code - use it as your workspace!"
   ]
  },
  {
   "cell_type": "code",
   "execution_count": 9,
   "id": "25bfb130",
   "metadata": {
    "execution": {
     "iopub.execute_input": "2025-02-22T13:10:53.639791Z",
     "iopub.status.busy": "2025-02-22T13:10:53.639463Z",
     "iopub.status.idle": "2025-02-22T13:10:53.645323Z",
     "shell.execute_reply": "2025-02-22T13:10:53.644425Z"
    },
    "papermill": {
     "duration": 0.01392,
     "end_time": "2025-02-22T13:10:53.646768",
     "exception": false,
     "start_time": "2025-02-22T13:10:53.632848",
     "status": "completed"
    },
    "tags": []
   },
   "outputs": [
    {
     "name": "stdout",
     "output_type": "stream",
     "text": [
      "0\n",
      "1\n",
      "1\n",
      "2\n",
      "3\n"
     ]
    }
   ],
   "source": [
    "print(False + False)\n",
    "print(True + False)\n",
    "print(False + True)\n",
    "print(True + True)\n",
    "print(False + True + True + True)"
   ]
  },
  {
   "cell_type": "markdown",
   "id": "4eeb7458",
   "metadata": {
    "papermill": {
     "duration": 0.00557,
     "end_time": "2025-02-22T13:10:53.658230",
     "exception": false,
     "start_time": "2025-02-22T13:10:53.652660",
     "status": "completed"
    },
    "tags": []
   },
   "source": [
    "Once you have an answer, run the code cell below to see the solution.  Viewing the solution will give you credit for answering the problem."
   ]
  },
  {
   "cell_type": "code",
   "execution_count": 10,
   "id": "78e1cb3a",
   "metadata": {
    "execution": {
     "iopub.execute_input": "2025-02-22T13:10:53.670839Z",
     "iopub.status.busy": "2025-02-22T13:10:53.670540Z",
     "iopub.status.idle": "2025-02-22T13:10:53.677166Z",
     "shell.execute_reply": "2025-02-22T13:10:53.676264Z"
    },
    "papermill": {
     "duration": 0.01468,
     "end_time": "2025-02-22T13:10:53.678752",
     "exception": false,
     "start_time": "2025-02-22T13:10:53.664072",
     "status": "completed"
    },
    "tags": []
   },
   "outputs": [
    {
     "data": {
      "application/javascript": [
       "parent.postMessage({\"jupyterEvent\": \"custom.exercise_interaction\", \"data\": {\"outcomeType\": 1, \"valueTowardsCompletion\": 0.2, \"interactionType\": 1, \"questionType\": 4, \"questionId\": \"4_AddingBooleans\", \"learnToolsVersion\": \"0.3.4\", \"failureMessage\": \"\", \"exceptionClass\": \"\", \"trace\": \"\"}}, \"*\")"
      ],
      "text/plain": [
       "<IPython.core.display.Javascript object>"
      ]
     },
     "metadata": {},
     "output_type": "display_data"
    },
    {
     "data": {
      "text/markdown": [
       "<span style=\"color:#33cc33\">Correct:</span> \n",
       "\n",
       "When you add booleans, adding `False` is equivalent to adding 0, and adding `True` is equivalent to adding 1."
      ],
      "text/plain": [
       "Correct: \n",
       "\n",
       "When you add booleans, adding `False` is equivalent to adding 0, and adding `True` is equivalent to adding 1."
      ]
     },
     "metadata": {},
     "output_type": "display_data"
    }
   ],
   "source": [
    "# Check your answer (Run this code cell to receive credit!)\n",
    "q4.check()"
   ]
  },
  {
   "cell_type": "markdown",
   "id": "2ac25426",
   "metadata": {
    "papermill": {
     "duration": 0.005885,
     "end_time": "2025-02-22T13:10:53.691179",
     "exception": false,
     "start_time": "2025-02-22T13:10:53.685294",
     "status": "completed"
    },
    "tags": []
   },
   "source": [
    "# 🌶️ Question 5\n",
    "\n",
    "You own an online shop where you sell rings with custom engravings.  You offer both gold plated and solid gold rings.\n",
    "- Gold plated rings have a base cost of \\\\$50, and you charge \\\\$7 per engraved unit.  \n",
    "- Solid gold rings have a base cost of \\\\$100, and you charge \\\\$10 per engraved unit.\n",
    "- Spaces and punctuation are counted as engraved units.\n",
    "\n",
    "Write a function `cost_of_project()` that takes two arguments:\n",
    "- `engraving` - a Python string with the text of the engraving\n",
    "- `solid_gold` - a Boolean that indicates whether the ring is solid gold\n",
    "\n",
    "It should return the cost of the project.  This question should be fairly challenging, and you may need a hint."
   ]
  },
  {
   "cell_type": "code",
   "execution_count": 11,
   "id": "0137218b",
   "metadata": {
    "execution": {
     "iopub.execute_input": "2025-02-22T13:10:53.704315Z",
     "iopub.status.busy": "2025-02-22T13:10:53.703958Z",
     "iopub.status.idle": "2025-02-22T13:10:53.711062Z",
     "shell.execute_reply": "2025-02-22T13:10:53.710272Z"
    },
    "papermill": {
     "duration": 0.015308,
     "end_time": "2025-02-22T13:10:53.712488",
     "exception": false,
     "start_time": "2025-02-22T13:10:53.697180",
     "status": "completed"
    },
    "tags": []
   },
   "outputs": [
    {
     "data": {
      "application/javascript": [
       "parent.postMessage({\"jupyterEvent\": \"custom.exercise_interaction\", \"data\": {\"outcomeType\": 1, \"valueTowardsCompletion\": 0.2, \"interactionType\": 1, \"questionType\": 2, \"questionId\": \"5_CustomEngravings\", \"learnToolsVersion\": \"0.3.4\", \"failureMessage\": \"\", \"exceptionClass\": \"\", \"trace\": \"\"}}, \"*\")"
      ],
      "text/plain": [
       "<IPython.core.display.Javascript object>"
      ]
     },
     "metadata": {},
     "output_type": "display_data"
    },
    {
     "data": {
      "text/markdown": [
       "<span style=\"color:#33cc33\">Correct</span>"
      ],
      "text/plain": [
       "Correct"
      ]
     },
     "metadata": {},
     "output_type": "display_data"
    }
   ],
   "source": [
    "def cost_of_project(engraving, solid_gold):\n",
    "    cost = solid_gold * (100 + 10 * len(engraving)) + (not solid_gold) * (50 + 7 * len(engraving)) \n",
    "    return cost\n",
    "\n",
    "# Check your answer\n",
    "q5.check()"
   ]
  },
  {
   "cell_type": "code",
   "execution_count": 12,
   "id": "c88ade0f",
   "metadata": {
    "execution": {
     "iopub.execute_input": "2025-02-22T13:10:53.726161Z",
     "iopub.status.busy": "2025-02-22T13:10:53.725825Z",
     "iopub.status.idle": "2025-02-22T13:10:53.729335Z",
     "shell.execute_reply": "2025-02-22T13:10:53.728516Z"
    },
    "papermill": {
     "duration": 0.011928,
     "end_time": "2025-02-22T13:10:53.730795",
     "exception": false,
     "start_time": "2025-02-22T13:10:53.718867",
     "status": "completed"
    },
    "tags": []
   },
   "outputs": [],
   "source": [
    "# Uncomment to see a hint\n",
    "#q5.hint()\n",
    "\n",
    "# Uncomment to view the solution\n",
    "#q5.solution()"
   ]
  },
  {
   "cell_type": "markdown",
   "id": "e23fc5ba",
   "metadata": {
    "papermill": {
     "duration": 0.006441,
     "end_time": "2025-02-22T13:10:53.743734",
     "exception": false,
     "start_time": "2025-02-22T13:10:53.737293",
     "status": "completed"
    },
    "tags": []
   },
   "source": [
    "Run the next code cell to calculate the cost of engraving `Charlie+Denver` on a solid gold ring."
   ]
  },
  {
   "cell_type": "code",
   "execution_count": 13,
   "id": "01ad1211",
   "metadata": {
    "execution": {
     "iopub.execute_input": "2025-02-22T13:10:53.757768Z",
     "iopub.status.busy": "2025-02-22T13:10:53.757459Z",
     "iopub.status.idle": "2025-02-22T13:10:53.762110Z",
     "shell.execute_reply": "2025-02-22T13:10:53.761139Z"
    },
    "papermill": {
     "duration": 0.013582,
     "end_time": "2025-02-22T13:10:53.763608",
     "exception": false,
     "start_time": "2025-02-22T13:10:53.750026",
     "status": "completed"
    },
    "tags": []
   },
   "outputs": [
    {
     "name": "stdout",
     "output_type": "stream",
     "text": [
      "240\n"
     ]
    }
   ],
   "source": [
    "project_one = cost_of_project(\"Charlie+Denver\", True)\n",
    "print(project_one)"
   ]
  },
  {
   "cell_type": "markdown",
   "id": "585b7325",
   "metadata": {
    "papermill": {
     "duration": 0.00634,
     "end_time": "2025-02-22T13:10:53.776632",
     "exception": false,
     "start_time": "2025-02-22T13:10:53.770292",
     "status": "completed"
    },
    "tags": []
   },
   "source": [
    "Use the next code cell to calculate the cost of engraving `08/10/2000` on a gold plated ring."
   ]
  },
  {
   "cell_type": "code",
   "execution_count": 14,
   "id": "a13c1ee0",
   "metadata": {
    "execution": {
     "iopub.execute_input": "2025-02-22T13:10:53.790707Z",
     "iopub.status.busy": "2025-02-22T13:10:53.790354Z",
     "iopub.status.idle": "2025-02-22T13:10:53.794825Z",
     "shell.execute_reply": "2025-02-22T13:10:53.793808Z"
    },
    "papermill": {
     "duration": 0.013156,
     "end_time": "2025-02-22T13:10:53.796235",
     "exception": false,
     "start_time": "2025-02-22T13:10:53.783079",
     "status": "completed"
    },
    "tags": []
   },
   "outputs": [
    {
     "name": "stdout",
     "output_type": "stream",
     "text": [
      "120\n"
     ]
    }
   ],
   "source": [
    "project_two = cost_of_project(\"08/10/2000\", False)\n",
    "print(project_two)"
   ]
  },
  {
   "cell_type": "markdown",
   "id": "3ba694dc",
   "metadata": {
    "papermill": {
     "duration": 0.006075,
     "end_time": "2025-02-22T13:10:53.809625",
     "exception": false,
     "start_time": "2025-02-22T13:10:53.803550",
     "status": "completed"
    },
    "tags": []
   },
   "source": [
    "# Keep going\n",
    "\n",
    "Continue to the next lesson to **[learn about conditions and conditional statements](https://www.kaggle.com/alexisbcook/conditions-and-conditional-statements)**."
   ]
  },
  {
   "cell_type": "markdown",
   "id": "2cd11de1",
   "metadata": {
    "papermill": {
     "duration": 0.006054,
     "end_time": "2025-02-22T13:10:53.822044",
     "exception": false,
     "start_time": "2025-02-22T13:10:53.815990",
     "status": "completed"
    },
    "tags": []
   },
   "source": [
    "---\n",
    "\n",
    "\n",
    "\n",
    "\n",
    "*Have questions or comments? Visit the [course discussion forum](https://www.kaggle.com/learn/intro-to-programming/discussion) to chat with other learners.*"
   ]
  }
 ],
 "metadata": {
  "kaggle": {
   "accelerator": "none",
   "dataSources": [],
   "isGpuEnabled": false,
   "isInternetEnabled": false,
   "language": "python",
   "sourceType": "notebook"
  },
  "kernelspec": {
   "display_name": "Python 3",
   "language": "python",
   "name": "python3"
  },
  "language_info": {
   "codemirror_mode": {
    "name": "ipython",
    "version": 3
   },
   "file_extension": ".py",
   "mimetype": "text/x-python",
   "name": "python",
   "nbconvert_exporter": "python",
   "pygments_lexer": "ipython3",
   "version": "3.10.12"
  },
  "papermill": {
   "default_parameters": {},
   "duration": 4.458746,
   "end_time": "2025-02-22T13:10:54.347868",
   "environment_variables": {},
   "exception": null,
   "input_path": "__notebook__.ipynb",
   "output_path": "__notebook__.ipynb",
   "parameters": {},
   "start_time": "2025-02-22T13:10:49.889122",
   "version": "2.3.3"
  }
 },
 "nbformat": 4,
 "nbformat_minor": 5
}
