{
 "cells": [
  {
   "cell_type": "markdown",
   "id": "288b9924",
   "metadata": {
    "papermill": {
     "duration": 0.005674,
     "end_time": "2025-02-22T14:30:06.489074",
     "exception": false,
     "start_time": "2025-02-22T14:30:06.483400",
     "status": "completed"
    },
    "tags": []
   },
   "source": [
    "**This notebook is an exercise in the [Intro to Programming](https://www.kaggle.com/learn/intro-to-programming) course.  You can reference the tutorial at [this link](https://www.kaggle.com/alexisbcook/intro-to-lists).**\n",
    "\n",
    "---\n"
   ]
  },
  {
   "cell_type": "markdown",
   "id": "0d33e1d9",
   "metadata": {
    "papermill": {
     "duration": 0.004709,
     "end_time": "2025-02-22T14:30:06.498962",
     "exception": false,
     "start_time": "2025-02-22T14:30:06.494253",
     "status": "completed"
    },
    "tags": []
   },
   "source": [
    "In the tutorial, you learned how to define and modify Python lists.  In this exercise, you will use your new knowledge to solve several problems.\n",
    "\n",
    "# Set up the notebook\n",
    "\n",
    "Run the next code cell without changes to set up the notebook."
   ]
  },
  {
   "cell_type": "code",
   "execution_count": 1,
   "id": "215cb343",
   "metadata": {
    "execution": {
     "iopub.execute_input": "2025-02-22T14:30:06.509931Z",
     "iopub.status.busy": "2025-02-22T14:30:06.509585Z",
     "iopub.status.idle": "2025-02-22T14:30:07.580142Z",
     "shell.execute_reply": "2025-02-22T14:30:07.579081Z"
    },
    "papermill": {
     "duration": 1.07803,
     "end_time": "2025-02-22T14:30:07.581881",
     "exception": false,
     "start_time": "2025-02-22T14:30:06.503851",
     "status": "completed"
    },
    "tags": []
   },
   "outputs": [
    {
     "name": "stdout",
     "output_type": "stream",
     "text": [
      "Setup complete.\n"
     ]
    }
   ],
   "source": [
    "from learntools.core import binder\n",
    "binder.bind(globals())\n",
    "from learntools.intro_to_programming.ex5 import *\n",
    "print('Setup complete.')"
   ]
  },
  {
   "cell_type": "markdown",
   "id": "8a61bcb0",
   "metadata": {
    "papermill": {
     "duration": 0.00481,
     "end_time": "2025-02-22T14:30:07.592375",
     "exception": false,
     "start_time": "2025-02-22T14:30:07.587565",
     "status": "completed"
    },
    "tags": []
   },
   "source": [
    "# Question 1\n",
    "\n",
    "You own a restaurant with five food dishes, organized in the Python list `menu` below.  One day, you decide to:\n",
    "- remove bean soup (`'bean soup'`) from the menu, and\n",
    "- add roasted beet salad (`'roasted beet salad'`) to the menu.\n",
    "\n",
    "Implement this change to the list below.  While completing this task, \n",
    "- do not change the line that creates the `menu` list.  \n",
    "- your answer should use `.remove()` and `.append()`.  "
   ]
  },
  {
   "cell_type": "code",
   "execution_count": 2,
   "id": "7a7c9c7b",
   "metadata": {
    "execution": {
     "iopub.execute_input": "2025-02-22T14:30:07.603706Z",
     "iopub.status.busy": "2025-02-22T14:30:07.603200Z",
     "iopub.status.idle": "2025-02-22T14:30:07.611388Z",
     "shell.execute_reply": "2025-02-22T14:30:07.610237Z"
    },
    "papermill": {
     "duration": 0.015631,
     "end_time": "2025-02-22T14:30:07.612956",
     "exception": false,
     "start_time": "2025-02-22T14:30:07.597325",
     "status": "completed"
    },
    "tags": []
   },
   "outputs": [
    {
     "data": {
      "application/javascript": [
       "parent.postMessage({\"jupyterEvent\": \"custom.exercise_interaction\", \"data\": {\"outcomeType\": 1, \"valueTowardsCompletion\": 0.2, \"interactionType\": 1, \"questionType\": 2, \"questionId\": \"1_FoodMenu\", \"learnToolsVersion\": \"0.3.4\", \"failureMessage\": \"\", \"exceptionClass\": \"\", \"trace\": \"\"}}, \"*\")"
      ],
      "text/plain": [
       "<IPython.core.display.Javascript object>"
      ]
     },
     "metadata": {},
     "output_type": "display_data"
    },
    {
     "data": {
      "text/markdown": [
       "<span style=\"color:#33cc33\">Correct</span>"
      ],
      "text/plain": [
       "Correct"
      ]
     },
     "metadata": {},
     "output_type": "display_data"
    }
   ],
   "source": [
    "# Do not change: Initial menu for your restaurant\n",
    "menu = ['stewed meat with onions', 'bean soup', 'risotto with trout and shrimp',\n",
    "       'fish soup with cream and onion', 'gyro']\n",
    "\n",
    "# TODO: remove 'bean soup', and add 'roasted beet salad' to the end of the menu\n",
    "menu.remove('bean soup')\n",
    "menu.append('roasted beet salad')\n",
    "\n",
    "# Do not change: Check your answer\n",
    "q1.check()"
   ]
  },
  {
   "cell_type": "code",
   "execution_count": 3,
   "id": "9908c8ad",
   "metadata": {
    "execution": {
     "iopub.execute_input": "2025-02-22T14:30:07.624880Z",
     "iopub.status.busy": "2025-02-22T14:30:07.624572Z",
     "iopub.status.idle": "2025-02-22T14:30:07.628111Z",
     "shell.execute_reply": "2025-02-22T14:30:07.627169Z"
    },
    "papermill": {
     "duration": 0.011641,
     "end_time": "2025-02-22T14:30:07.630053",
     "exception": false,
     "start_time": "2025-02-22T14:30:07.618412",
     "status": "completed"
    },
    "tags": []
   },
   "outputs": [],
   "source": [
    "# Uncomment to see a hint\n",
    "#q1.hint()\n",
    "\n",
    "# Uncomment to see the solution\n",
    "#q1.solution()"
   ]
  },
  {
   "cell_type": "markdown",
   "id": "90d41600",
   "metadata": {
    "papermill": {
     "duration": 0.005195,
     "end_time": "2025-02-22T14:30:07.640598",
     "exception": false,
     "start_time": "2025-02-22T14:30:07.635403",
     "status": "completed"
    },
    "tags": []
   },
   "source": [
    "# Question 2\n",
    "\n",
    "The list `num_customers` contains the number of customers who came into your restaurant every day over the last month (which lasted thirty days).  Fill in values for each of the following:\n",
    "- `avg_first_seven` - average number of customers who visited in the first seven days\n",
    "- `avg_last_seven` - average number of customers who visited in the last seven days\n",
    "- `max_month` - number of customers on the day that got the most customers in the last month\n",
    "- `min_month` - number of customers on the day that got the least customers in the last month\n",
    "\n",
    "Answer this question by writing code.  For instance, if you have to find the minimum value in a list, use `min()` instead of scanning for the smallest value and directly filling in a number."
   ]
  },
  {
   "cell_type": "code",
   "execution_count": 4,
   "id": "26a1ef17",
   "metadata": {
    "execution": {
     "iopub.execute_input": "2025-02-22T14:30:07.652345Z",
     "iopub.status.busy": "2025-02-22T14:30:07.652027Z",
     "iopub.status.idle": "2025-02-22T14:30:07.660124Z",
     "shell.execute_reply": "2025-02-22T14:30:07.659326Z"
    },
    "papermill": {
     "duration": 0.015756,
     "end_time": "2025-02-22T14:30:07.661688",
     "exception": false,
     "start_time": "2025-02-22T14:30:07.645932",
     "status": "completed"
    },
    "tags": []
   },
   "outputs": [
    {
     "data": {
      "application/javascript": [
       "parent.postMessage({\"jupyterEvent\": \"custom.exercise_interaction\", \"data\": {\"outcomeType\": 1, \"valueTowardsCompletion\": 0.2, \"interactionType\": 1, \"questionType\": 1, \"questionId\": \"2_NumCustomers\", \"learnToolsVersion\": \"0.3.4\", \"failureMessage\": \"\", \"exceptionClass\": \"\", \"trace\": \"\"}}, \"*\")"
      ],
      "text/plain": [
       "<IPython.core.display.Javascript object>"
      ]
     },
     "metadata": {},
     "output_type": "display_data"
    },
    {
     "data": {
      "text/markdown": [
       "<span style=\"color:#33cc33\">Correct</span>"
      ],
      "text/plain": [
       "Correct"
      ]
     },
     "metadata": {},
     "output_type": "display_data"
    }
   ],
   "source": [
    "# Do not change: Number of customers each day for the last month\n",
    "num_customers = [137, 147, 135, 128, 170, 174, 165, 146, 126, 159,\n",
    "                 141, 148, 132, 147, 168, 153, 170, 161, 148, 152,\n",
    "                 141, 151, 131, 149, 164, 163, 143, 143, 166, 171]\n",
    "\n",
    "# TODO: Fill in values for the variables below\n",
    "avg_first_seven = sum(num_customers[:7])/7  \n",
    "avg_last_seven = sum(num_customers[-7:])/7 \n",
    "max_month = max(num_customers)\n",
    "min_month =  min(num_customers)\n",
    "\n",
    "# Do not change: Check your answer\n",
    "q2.check()"
   ]
  },
  {
   "cell_type": "code",
   "execution_count": 5,
   "id": "cbd06a5d",
   "metadata": {
    "execution": {
     "iopub.execute_input": "2025-02-22T14:30:07.674374Z",
     "iopub.status.busy": "2025-02-22T14:30:07.674034Z",
     "iopub.status.idle": "2025-02-22T14:30:07.677222Z",
     "shell.execute_reply": "2025-02-22T14:30:07.676475Z"
    },
    "papermill": {
     "duration": 0.011294,
     "end_time": "2025-02-22T14:30:07.678564",
     "exception": false,
     "start_time": "2025-02-22T14:30:07.667270",
     "status": "completed"
    },
    "tags": []
   },
   "outputs": [],
   "source": [
    "# Uncomment to see a hint\n",
    "#q2.hint()\n",
    "\n",
    "# Uncomment to see the solution\n",
    "#q2.solution()"
   ]
  },
  {
   "cell_type": "markdown",
   "id": "e57fd8b4",
   "metadata": {
    "papermill": {
     "duration": 0.005333,
     "end_time": "2025-02-22T14:30:07.689623",
     "exception": false,
     "start_time": "2025-02-22T14:30:07.684290",
     "status": "completed"
    },
    "tags": []
   },
   "source": [
    "# Question 3\n",
    "\n",
    "In the tutorial, we gave an example of a Python string with information that was better as a list."
   ]
  },
  {
   "cell_type": "code",
   "execution_count": 6,
   "id": "c760b255",
   "metadata": {
    "execution": {
     "iopub.execute_input": "2025-02-22T14:30:07.701511Z",
     "iopub.status.busy": "2025-02-22T14:30:07.701155Z",
     "iopub.status.idle": "2025-02-22T14:30:07.704986Z",
     "shell.execute_reply": "2025-02-22T14:30:07.704006Z"
    },
    "jupyter": {
     "source_hidden": true
    },
    "papermill": {
     "duration": 0.011921,
     "end_time": "2025-02-22T14:30:07.706928",
     "exception": false,
     "start_time": "2025-02-22T14:30:07.695007",
     "status": "completed"
    },
    "tags": []
   },
   "outputs": [],
   "source": [
    "flowers = \"pink primrose,hard-leaved pocket orchid,canterbury bells,sweet pea,english marigold,tiger lily,moon orchid,bird of paradise,monkshood,globe thistle\""
   ]
  },
  {
   "cell_type": "markdown",
   "id": "4958fac7",
   "metadata": {
    "papermill": {
     "duration": 0.005341,
     "end_time": "2025-02-22T14:30:07.717973",
     "exception": false,
     "start_time": "2025-02-22T14:30:07.712632",
     "status": "completed"
    },
    "tags": []
   },
   "source": [
    "You can actually use Python to quickly turn this string into a list with `.split()`.  In the parentheses, we need to provide the character should be used to mark the end of one list item and the beginning of another, and enclose it in quotation marks.  In this case, that character is a comma."
   ]
  },
  {
   "cell_type": "code",
   "execution_count": 7,
   "id": "8e7e8cdd",
   "metadata": {
    "execution": {
     "iopub.execute_input": "2025-02-22T14:30:07.730203Z",
     "iopub.status.busy": "2025-02-22T14:30:07.729885Z",
     "iopub.status.idle": "2025-02-22T14:30:07.734628Z",
     "shell.execute_reply": "2025-02-22T14:30:07.733637Z"
    },
    "papermill": {
     "duration": 0.012684,
     "end_time": "2025-02-22T14:30:07.736096",
     "exception": false,
     "start_time": "2025-02-22T14:30:07.723412",
     "status": "completed"
    },
    "tags": []
   },
   "outputs": [
    {
     "name": "stdout",
     "output_type": "stream",
     "text": [
      "['pink primrose', 'hard-leaved pocket orchid', 'canterbury bells', 'sweet pea', 'english marigold', 'tiger lily', 'moon orchid', 'bird of paradise', 'monkshood', 'globe thistle']\n"
     ]
    }
   ],
   "source": [
    " print(flowers.split(\",\"))"
   ]
  },
  {
   "cell_type": "markdown",
   "id": "bc98c265",
   "metadata": {
    "papermill": {
     "duration": 0.005409,
     "end_time": "2025-02-22T14:30:07.747166",
     "exception": false,
     "start_time": "2025-02-22T14:30:07.741757",
     "status": "completed"
    },
    "tags": []
   },
   "source": [
    "Now it is your turn to try this out!  Create two Python lists:\n",
    "- `letters` should be a Python list where each entry is an uppercase letter of the English alphabet.  For instance, the first two entries should be `\"A\"` and `\"B\"`, and the final two entries should be `\"Y\"` and `\"Z\"`.  Use the string `alphabet` to create this list.\n",
    "- `address` should be a Python list where each row in `address` is a different item in the list.  Currently, each row in `address` is separated by a comma. "
   ]
  },
  {
   "cell_type": "code",
   "execution_count": 8,
   "id": "08dabd81",
   "metadata": {
    "execution": {
     "iopub.execute_input": "2025-02-22T14:30:07.759421Z",
     "iopub.status.busy": "2025-02-22T14:30:07.759093Z",
     "iopub.status.idle": "2025-02-22T14:30:07.767202Z",
     "shell.execute_reply": "2025-02-22T14:30:07.765747Z"
    },
    "papermill": {
     "duration": 0.016465,
     "end_time": "2025-02-22T14:30:07.769185",
     "exception": false,
     "start_time": "2025-02-22T14:30:07.752720",
     "status": "completed"
    },
    "tags": []
   },
   "outputs": [
    {
     "data": {
      "application/javascript": [
       "parent.postMessage({\"jupyterEvent\": \"custom.exercise_interaction\", \"data\": {\"outcomeType\": 1, \"valueTowardsCompletion\": 0.2, \"interactionType\": 1, \"questionType\": 1, \"questionId\": \"3_SplitString\", \"learnToolsVersion\": \"0.3.4\", \"failureMessage\": \"\", \"exceptionClass\": \"\", \"trace\": \"\"}}, \"*\")"
      ],
      "text/plain": [
       "<IPython.core.display.Javascript object>"
      ]
     },
     "metadata": {},
     "output_type": "display_data"
    },
    {
     "data": {
      "text/markdown": [
       "<span style=\"color:#33cc33\">Correct</span>"
      ],
      "text/plain": [
       "Correct"
      ]
     },
     "metadata": {},
     "output_type": "display_data"
    }
   ],
   "source": [
    "# DO not change: Define two Python strings\n",
    "alphabet = \"A.B.C.D.E.F.G.H.I.J.K.L.M.N.O.P.Q.R.S.T.U.V.W.X.Y.Z\"\n",
    "address = \"Mr. H. Potter,The cupboard under the Stairs,4 Privet Drive,Little Whinging,Surrey\"\n",
    "\n",
    "# TODO: Convert strings into Python lists\n",
    "letters =alphabet.split(\".\")\n",
    "formatted_address = address.split(\",\")\n",
    "\n",
    "# Do not change: Check your answer\n",
    "q3.check()"
   ]
  },
  {
   "cell_type": "code",
   "execution_count": 9,
   "id": "b3d68713",
   "metadata": {
    "execution": {
     "iopub.execute_input": "2025-02-22T14:30:07.782131Z",
     "iopub.status.busy": "2025-02-22T14:30:07.781827Z",
     "iopub.status.idle": "2025-02-22T14:30:07.785206Z",
     "shell.execute_reply": "2025-02-22T14:30:07.784350Z"
    },
    "papermill": {
     "duration": 0.011767,
     "end_time": "2025-02-22T14:30:07.786836",
     "exception": false,
     "start_time": "2025-02-22T14:30:07.775069",
     "status": "completed"
    },
    "tags": []
   },
   "outputs": [],
   "source": [
    "# Uncomment to see a hint\n",
    "#q3.hint()\n",
    "\n",
    "# Uncomment to see the solution\n",
    "#q3.solution()"
   ]
  },
  {
   "cell_type": "markdown",
   "id": "ea7e4700",
   "metadata": {
    "papermill": {
     "duration": 0.005579,
     "end_time": "2025-02-22T14:30:07.798210",
     "exception": false,
     "start_time": "2025-02-22T14:30:07.792631",
     "status": "completed"
    },
    "tags": []
   },
   "source": [
    "# Question 4\n",
    "\n",
    "In the Python course, you'll learn all about **list comprehensions**, which allow you to create a list based on the values in another list.  In this question, you'll get a brief preview of how they work.\n",
    "\n",
    "Say we're working with the list below."
   ]
  },
  {
   "cell_type": "code",
   "execution_count": 10,
   "id": "c049ba7d",
   "metadata": {
    "execution": {
     "iopub.execute_input": "2025-02-22T14:30:07.810826Z",
     "iopub.status.busy": "2025-02-22T14:30:07.810506Z",
     "iopub.status.idle": "2025-02-22T14:30:07.814312Z",
     "shell.execute_reply": "2025-02-22T14:30:07.813483Z"
    },
    "papermill": {
     "duration": 0.012047,
     "end_time": "2025-02-22T14:30:07.815824",
     "exception": false,
     "start_time": "2025-02-22T14:30:07.803777",
     "status": "completed"
    },
    "tags": []
   },
   "outputs": [],
   "source": [
    "test_ratings = [1, 2, 3, 4, 5]"
   ]
  },
  {
   "cell_type": "markdown",
   "id": "6309db45",
   "metadata": {
    "papermill": {
     "duration": 0.005675,
     "end_time": "2025-02-22T14:30:07.827273",
     "exception": false,
     "start_time": "2025-02-22T14:30:07.821598",
     "status": "completed"
    },
    "tags": []
   },
   "source": [
    "Then we can use this list (`test_ratings`) to create a new list (`test_liked`) where each item has been turned into a boolean, depending on whether or not the item is greater than or equal to four."
   ]
  },
  {
   "cell_type": "code",
   "execution_count": 11,
   "id": "376ce375",
   "metadata": {
    "execution": {
     "iopub.execute_input": "2025-02-22T14:30:07.840258Z",
     "iopub.status.busy": "2025-02-22T14:30:07.839930Z",
     "iopub.status.idle": "2025-02-22T14:30:07.844567Z",
     "shell.execute_reply": "2025-02-22T14:30:07.843322Z"
    },
    "papermill": {
     "duration": 0.013171,
     "end_time": "2025-02-22T14:30:07.846288",
     "exception": false,
     "start_time": "2025-02-22T14:30:07.833117",
     "status": "completed"
    },
    "tags": []
   },
   "outputs": [
    {
     "name": "stdout",
     "output_type": "stream",
     "text": [
      "[False, False, False, True, True]\n"
     ]
    }
   ],
   "source": [
    "test_liked = [i>=4 for i in test_ratings]\n",
    "print(test_liked)"
   ]
  },
  {
   "cell_type": "markdown",
   "id": "a744fe7e",
   "metadata": {
    "papermill": {
     "duration": 0.00545,
     "end_time": "2025-02-22T14:30:07.857801",
     "exception": false,
     "start_time": "2025-02-22T14:30:07.852351",
     "status": "completed"
    },
    "tags": []
   },
   "source": [
    "In this question, you'll use this list comprehension to define a function `percentage_liked()` that takes one argument as input:\n",
    "- `ratings`: list of ratings that people gave to a movie, where each rating is a number between 1-5, inclusive\n",
    "\n",
    "We say someone liked the movie, if they gave a rating of either 4 or 5.  Your function should return the percentage of people who liked the movie.\n",
    "\n",
    "For instance, if we supply a value of `[1, 2, 3, 4, 5, 4, 5, 1]`, then 50% (4/8) of the people liked the movie, and the function should return `0.5`.\n",
    "\n",
    "Part of the function has already been completed for you.  You need only use `list_liked` to calculate `percentage_liked`."
   ]
  },
  {
   "cell_type": "code",
   "execution_count": 12,
   "id": "e186c802",
   "metadata": {
    "execution": {
     "iopub.execute_input": "2025-02-22T14:30:07.870703Z",
     "iopub.status.busy": "2025-02-22T14:30:07.870345Z",
     "iopub.status.idle": "2025-02-22T14:30:07.878164Z",
     "shell.execute_reply": "2025-02-22T14:30:07.877202Z"
    },
    "papermill": {
     "duration": 0.016281,
     "end_time": "2025-02-22T14:30:07.879752",
     "exception": false,
     "start_time": "2025-02-22T14:30:07.863471",
     "status": "completed"
    },
    "tags": []
   },
   "outputs": [
    {
     "data": {
      "application/javascript": [
       "parent.postMessage({\"jupyterEvent\": \"custom.exercise_interaction\", \"data\": {\"outcomeType\": 1, \"valueTowardsCompletion\": 0.2, \"interactionType\": 1, \"questionType\": 2, \"questionId\": \"4_PercentageLiked\", \"learnToolsVersion\": \"0.3.4\", \"failureMessage\": \"\", \"exceptionClass\": \"\", \"trace\": \"\"}}, \"*\")"
      ],
      "text/plain": [
       "<IPython.core.display.Javascript object>"
      ]
     },
     "metadata": {},
     "output_type": "display_data"
    },
    {
     "data": {
      "text/markdown": [
       "<span style=\"color:#33cc33\">Correct</span>"
      ],
      "text/plain": [
       "Correct"
      ]
     },
     "metadata": {},
     "output_type": "display_data"
    }
   ],
   "source": [
    "\n",
    "def percentage_liked(ratings):\n",
    "    list_liked = [i>=4 for i in ratings]\n",
    "    # TODO: Complete the function\n",
    "    percentage_liked =  sum(list_liked)/len(list_liked)\n",
    "    return percentage_liked\n",
    "\n",
    "# Do not change: should return 0.5\n",
    "percentage_liked([1, 2, 3, 4, 5, 4, 5, 1])\n",
    "\n",
    "# Do not change: Check your answer\n",
    "q4.check()"
   ]
  },
  {
   "cell_type": "code",
   "execution_count": 13,
   "id": "a944a5e2",
   "metadata": {
    "execution": {
     "iopub.execute_input": "2025-02-22T14:30:07.893968Z",
     "iopub.status.busy": "2025-02-22T14:30:07.893632Z",
     "iopub.status.idle": "2025-02-22T14:30:07.897256Z",
     "shell.execute_reply": "2025-02-22T14:30:07.896305Z"
    },
    "papermill": {
     "duration": 0.012756,
     "end_time": "2025-02-22T14:30:07.898799",
     "exception": false,
     "start_time": "2025-02-22T14:30:07.886043",
     "status": "completed"
    },
    "tags": []
   },
   "outputs": [],
   "source": [
    "# Uncomment to see a hint\n",
    "#q4.hint()\n",
    "\n",
    "# Uncomment to see the solution\n",
    "#q4.solution()"
   ]
  },
  {
   "cell_type": "markdown",
   "id": "d024c6d3",
   "metadata": {
    "papermill": {
     "duration": 0.005853,
     "end_time": "2025-02-22T14:30:07.910752",
     "exception": false,
     "start_time": "2025-02-22T14:30:07.904899",
     "status": "completed"
    },
    "tags": []
   },
   "source": [
    "# 🌶️ Question 5\n",
    " \n",
    "Say you're doing analytics for a website.  You need to write a function that returns the percentage growth in the total number of users relative to a specified number of years ago.\n",
    "\n",
    "Your function `percentage_growth()` should take two arguments as input:\n",
    "- `num_users` = Python list with the total number of users each year.  So `num_users[0]` is the total number of users in the first year, `num_users[1]` is the total number of users in the second year, and so on.  The final entry in the list gives the total number of users in the most recently completed year.\n",
    "- `yrs_ago` = number of years to go back in time when calculating the growth percentage\n",
    "\n",
    "For instance, say `num_users = [920344, 1043553, 1204334, 1458996, 1503323, 1593432, 1623463, 1843064, 1930992, 2001078]`.\n",
    "- if `yrs_ago = 1`, we want the function to return a value of about `0.036`. This corresponds to a percentage growth of approximately 3.6%, calculated as (2001078 - 1930992)/1930992.\n",
    "- if `years_ago = 7`, we would want to return approximately `0.66`.  This corresponds to a percentage growth of approximately 66%, calculated as (2001078 - 1204334)/1204334.\n",
    "\n",
    "Your coworker sent you a draft of a function, but it doesn't seem to be doing the correct calculation.  Can you figure out what has gone wrong and make the needed changes?"
   ]
  },
  {
   "cell_type": "code",
   "execution_count": 14,
   "id": "f945776e",
   "metadata": {
    "execution": {
     "iopub.execute_input": "2025-02-22T14:30:07.923680Z",
     "iopub.status.busy": "2025-02-22T14:30:07.923330Z",
     "iopub.status.idle": "2025-02-22T14:30:07.930646Z",
     "shell.execute_reply": "2025-02-22T14:30:07.929622Z"
    },
    "papermill": {
     "duration": 0.015629,
     "end_time": "2025-02-22T14:30:07.932240",
     "exception": false,
     "start_time": "2025-02-22T14:30:07.916611",
     "status": "completed"
    },
    "tags": []
   },
   "outputs": [
    {
     "data": {
      "application/javascript": [
       "parent.postMessage({\"jupyterEvent\": \"custom.exercise_interaction\", \"data\": {\"outcomeType\": 1, \"valueTowardsCompletion\": 0.2, \"interactionType\": 1, \"questionType\": 2, \"questionId\": \"5_WebsiteAnalytics\", \"learnToolsVersion\": \"0.3.4\", \"failureMessage\": \"\", \"exceptionClass\": \"\", \"trace\": \"\"}}, \"*\")"
      ],
      "text/plain": [
       "<IPython.core.display.Javascript object>"
      ]
     },
     "metadata": {},
     "output_type": "display_data"
    },
    {
     "data": {
      "text/markdown": [
       "<span style=\"color:#33cc33\">Correct</span>"
      ],
      "text/plain": [
       "Correct"
      ]
     },
     "metadata": {},
     "output_type": "display_data"
    }
   ],
   "source": [
    "def percentage_growth(num_users, yrs_ago):\n",
    "    growth = (num_users[len(num_users)-1] - num_users[len(num_users)-yrs_ago-1])/num_users[len(num_users)-yrs_ago-1]\n",
    "    return growth\n",
    "\n",
    "# Do not change: Check your answer\n",
    "q5.check()"
   ]
  },
  {
   "cell_type": "code",
   "execution_count": 15,
   "id": "13d93681",
   "metadata": {
    "execution": {
     "iopub.execute_input": "2025-02-22T14:30:07.945918Z",
     "iopub.status.busy": "2025-02-22T14:30:07.945607Z",
     "iopub.status.idle": "2025-02-22T14:30:07.949338Z",
     "shell.execute_reply": "2025-02-22T14:30:07.948376Z"
    },
    "papermill": {
     "duration": 0.012216,
     "end_time": "2025-02-22T14:30:07.950878",
     "exception": false,
     "start_time": "2025-02-22T14:30:07.938662",
     "status": "completed"
    },
    "tags": []
   },
   "outputs": [],
   "source": [
    "# Uncomment to see a hint\n",
    "#q5.hint()\n",
    "\n",
    "# Uncomment to see the solution\n",
    "#q5.solution()"
   ]
  },
  {
   "cell_type": "markdown",
   "id": "8ddfeaba",
   "metadata": {
    "papermill": {
     "duration": 0.006035,
     "end_time": "2025-02-22T14:30:07.963164",
     "exception": false,
     "start_time": "2025-02-22T14:30:07.957129",
     "status": "completed"
    },
    "tags": []
   },
   "source": [
    "# Congratulations!\n",
    "\n",
    "Congratulations for finishing the Intro to Programming course!  You should be proud of your very first steps with learning programming.  As next steps, we recommend taking:\n",
    "- the **[Python course](http://www.kaggle.com/learn/python)**, and \n",
    "- the **[Intro to Machine Learning course](https://www.kaggle.com/learn/intro-to-machine-learning)**."
   ]
  },
  {
   "cell_type": "markdown",
   "id": "d588b39f",
   "metadata": {
    "papermill": {
     "duration": 0.005867,
     "end_time": "2025-02-22T14:30:07.976011",
     "exception": false,
     "start_time": "2025-02-22T14:30:07.970144",
     "status": "completed"
    },
    "tags": []
   },
   "source": [
    "---\n",
    "\n",
    "\n",
    "\n",
    "\n",
    "*Have questions or comments? Visit the [course discussion forum](https://www.kaggle.com/learn/intro-to-programming/discussion) to chat with other learners.*"
   ]
  }
 ],
 "metadata": {
  "kaggle": {
   "accelerator": "none",
   "dataSources": [],
   "isGpuEnabled": false,
   "isInternetEnabled": false,
   "language": "python",
   "sourceType": "notebook"
  },
  "kernelspec": {
   "display_name": "Python 3",
   "language": "python",
   "name": "python3"
  },
  "language_info": {
   "codemirror_mode": {
    "name": "ipython",
    "version": 3
   },
   "file_extension": ".py",
   "mimetype": "text/x-python",
   "name": "python",
   "nbconvert_exporter": "python",
   "pygments_lexer": "ipython3",
   "version": "3.10.12"
  },
  "papermill": {
   "default_parameters": {},
   "duration": 4.847279,
   "end_time": "2025-02-22T14:30:08.501620",
   "environment_variables": {},
   "exception": null,
   "input_path": "__notebook__.ipynb",
   "output_path": "__notebook__.ipynb",
   "parameters": {},
   "start_time": "2025-02-22T14:30:03.654341",
   "version": "2.6.0"
  }
 },
 "nbformat": 4,
 "nbformat_minor": 5
}
