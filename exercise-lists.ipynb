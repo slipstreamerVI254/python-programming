{
 "cells": [
  {
   "cell_type": "markdown",
   "id": "537eb3e1",
   "metadata": {
    "papermill": {
     "duration": 0.004358,
     "end_time": "2025-04-28T20:33:16.195805",
     "exception": false,
     "start_time": "2025-04-28T20:33:16.191447",
     "status": "completed"
    },
    "tags": []
   },
   "source": [
    "**This notebook is an exercise in the [Python](https://www.kaggle.com/learn/python) course.  You can reference the tutorial at [this link](https://www.kaggle.com/colinmorris/lists).**\n",
    "\n",
    "---\n"
   ]
  },
  {
   "cell_type": "markdown",
   "id": "3048fc70",
   "metadata": {
    "papermill": {
     "duration": 0.003243,
     "end_time": "2025-04-28T20:33:16.202621",
     "exception": false,
     "start_time": "2025-04-28T20:33:16.199378",
     "status": "completed"
    },
    "tags": []
   },
   "source": [
    "Things get more interesting with lists. You'll apply your new knowledge to solve the questions below. Remember to run the following cell first."
   ]
  },
  {
   "cell_type": "code",
   "execution_count": 1,
   "id": "c62952c2",
   "metadata": {
    "execution": {
     "iopub.execute_input": "2025-04-28T20:33:16.210859Z",
     "iopub.status.busy": "2025-04-28T20:33:16.210458Z",
     "iopub.status.idle": "2025-04-28T20:33:18.171622Z",
     "shell.execute_reply": "2025-04-28T20:33:18.170629Z"
    },
    "papermill": {
     "duration": 1.967087,
     "end_time": "2025-04-28T20:33:18.173131",
     "exception": false,
     "start_time": "2025-04-28T20:33:16.206044",
     "status": "completed"
    },
    "tags": []
   },
   "outputs": [
    {
     "name": "stdout",
     "output_type": "stream",
     "text": [
      "Setup complete.\n"
     ]
    }
   ],
   "source": [
    "from learntools.core import binder; binder.bind(globals())\n",
    "from learntools.python.ex4 import *\n",
    "print('Setup complete.')"
   ]
  },
  {
   "cell_type": "markdown",
   "id": "feef2598",
   "metadata": {
    "papermill": {
     "duration": 0.003325,
     "end_time": "2025-04-28T20:33:18.180172",
     "exception": false,
     "start_time": "2025-04-28T20:33:18.176847",
     "status": "completed"
    },
    "tags": []
   },
   "source": [
    "# 1.\n",
    "\n",
    "Complete the function below according to its docstring."
   ]
  },
  {
   "cell_type": "code",
   "execution_count": 2,
   "id": "62359687",
   "metadata": {
    "execution": {
     "iopub.execute_input": "2025-04-28T20:33:18.188419Z",
     "iopub.status.busy": "2025-04-28T20:33:18.187969Z",
     "iopub.status.idle": "2025-04-28T20:33:18.196907Z",
     "shell.execute_reply": "2025-04-28T20:33:18.196092Z"
    },
    "papermill": {
     "duration": 0.014643,
     "end_time": "2025-04-28T20:33:18.198287",
     "exception": false,
     "start_time": "2025-04-28T20:33:18.183644",
     "status": "completed"
    },
    "tags": []
   },
   "outputs": [
    {
     "data": {
      "application/javascript": [
       "parent.postMessage({\"jupyterEvent\": \"custom.exercise_interaction\", \"data\": {\"outcomeType\": 1, \"valueTowardsCompletion\": 0.2, \"interactionType\": 1, \"questionType\": 2, \"questionId\": \"1_SelectSecondItem\", \"learnToolsVersion\": \"0.3.5\", \"failureMessage\": \"\", \"exceptionClass\": \"\", \"trace\": \"\"}}, \"*\")"
      ],
      "text/plain": [
       "<IPython.core.display.Javascript object>"
      ]
     },
     "metadata": {},
     "output_type": "display_data"
    },
    {
     "data": {
      "text/markdown": [
       "<span style=\"color:#33cc33\">Correct</span>"
      ],
      "text/plain": [
       "Correct"
      ]
     },
     "metadata": {},
     "output_type": "display_data"
    }
   ],
   "source": [
    "def select_second(L):\n",
    "    \"\"\"Return the second element of the given list. If the list has no second\n",
    "    element, return None.\n",
    "    \"\"\"\n",
    "    if len(L) < 2:\n",
    "        return None\n",
    "    return L[1]\n",
    "\n",
    "# Check your answer\n",
    "q1.check()"
   ]
  },
  {
   "cell_type": "code",
   "execution_count": 3,
   "id": "b7aa0133",
   "metadata": {
    "execution": {
     "iopub.execute_input": "2025-04-28T20:33:18.207000Z",
     "iopub.status.busy": "2025-04-28T20:33:18.206723Z",
     "iopub.status.idle": "2025-04-28T20:33:18.210563Z",
     "shell.execute_reply": "2025-04-28T20:33:18.209612Z"
    },
    "papermill": {
     "duration": 0.009799,
     "end_time": "2025-04-28T20:33:18.211949",
     "exception": false,
     "start_time": "2025-04-28T20:33:18.202150",
     "status": "completed"
    },
    "tags": []
   },
   "outputs": [],
   "source": [
    "#q1.hint()\n",
    "#q1.solution()"
   ]
  },
  {
   "cell_type": "markdown",
   "id": "8ea1273b",
   "metadata": {
    "papermill": {
     "duration": 0.00338,
     "end_time": "2025-04-28T20:33:18.219221",
     "exception": false,
     "start_time": "2025-04-28T20:33:18.215841",
     "status": "completed"
    },
    "tags": []
   },
   "source": [
    "# 2.\n",
    "\n",
    "You are analyzing sports teams.  Members of each team are stored in a list. The Coach is the first name in the list, the captain is the second name in the list, and other players are listed after that. \n",
    "These lists are stored in another list, which starts with the best team and proceeds through the list to the worst team last.  Complete the function below to select the **captain** of the worst team."
   ]
  },
  {
   "cell_type": "code",
   "execution_count": 4,
   "id": "b9339e8a",
   "metadata": {
    "execution": {
     "iopub.execute_input": "2025-04-28T20:33:18.227642Z",
     "iopub.status.busy": "2025-04-28T20:33:18.227295Z",
     "iopub.status.idle": "2025-04-28T20:33:18.235123Z",
     "shell.execute_reply": "2025-04-28T20:33:18.234253Z"
    },
    "papermill": {
     "duration": 0.013672,
     "end_time": "2025-04-28T20:33:18.236518",
     "exception": false,
     "start_time": "2025-04-28T20:33:18.222846",
     "status": "completed"
    },
    "tags": []
   },
   "outputs": [
    {
     "data": {
      "application/javascript": [
       "parent.postMessage({\"jupyterEvent\": \"custom.exercise_interaction\", \"data\": {\"outcomeType\": 1, \"valueTowardsCompletion\": 0.2, \"interactionType\": 1, \"questionType\": 2, \"questionId\": \"2_LosingTeamCaptain\", \"learnToolsVersion\": \"0.3.5\", \"failureMessage\": \"\", \"exceptionClass\": \"\", \"trace\": \"\"}}, \"*\")"
      ],
      "text/plain": [
       "<IPython.core.display.Javascript object>"
      ]
     },
     "metadata": {},
     "output_type": "display_data"
    },
    {
     "data": {
      "text/markdown": [
       "<span style=\"color:#33cc33\">Correct</span>"
      ],
      "text/plain": [
       "Correct"
      ]
     },
     "metadata": {},
     "output_type": "display_data"
    }
   ],
   "source": [
    "def losing_team_captain(teams):\n",
    "    \"\"\"Given a list of teams, where each team is a list of names, return the 2nd player (captain)\n",
    "    from the last listed team\n",
    "    \"\"\"\n",
    "    return teams[-1][1]\n",
    "\n",
    "# Check your answer\n",
    "q2.check()"
   ]
  },
  {
   "cell_type": "code",
   "execution_count": 5,
   "id": "a6b3d192",
   "metadata": {
    "execution": {
     "iopub.execute_input": "2025-04-28T20:33:18.246044Z",
     "iopub.status.busy": "2025-04-28T20:33:18.245217Z",
     "iopub.status.idle": "2025-04-28T20:33:18.248971Z",
     "shell.execute_reply": "2025-04-28T20:33:18.248238Z"
    },
    "papermill": {
     "duration": 0.009896,
     "end_time": "2025-04-28T20:33:18.250454",
     "exception": false,
     "start_time": "2025-04-28T20:33:18.240558",
     "status": "completed"
    },
    "tags": []
   },
   "outputs": [],
   "source": [
    "#q2.hint()\n",
    "#q2.solution()"
   ]
  },
  {
   "cell_type": "markdown",
   "id": "226c0e1c",
   "metadata": {
    "papermill": {
     "duration": 0.003528,
     "end_time": "2025-04-28T20:33:18.258130",
     "exception": false,
     "start_time": "2025-04-28T20:33:18.254602",
     "status": "completed"
    },
    "tags": []
   },
   "source": [
    "# 3.\n",
    "\n",
    "The next iteration of Mario Kart will feature an extra-infuriating new item, the *Purple Shell*. When used, it warps the last place racer into first place and the first place racer into last place. Complete the function below to implement the Purple Shell's effect."
   ]
  },
  {
   "cell_type": "code",
   "execution_count": 6,
   "id": "5963d619",
   "metadata": {
    "execution": {
     "iopub.execute_input": "2025-04-28T20:33:18.266930Z",
     "iopub.status.busy": "2025-04-28T20:33:18.266621Z",
     "iopub.status.idle": "2025-04-28T20:33:18.274401Z",
     "shell.execute_reply": "2025-04-28T20:33:18.273336Z"
    },
    "papermill": {
     "duration": 0.013925,
     "end_time": "2025-04-28T20:33:18.275796",
     "exception": false,
     "start_time": "2025-04-28T20:33:18.261871",
     "status": "completed"
    },
    "tags": []
   },
   "outputs": [
    {
     "data": {
      "application/javascript": [
       "parent.postMessage({\"jupyterEvent\": \"custom.exercise_interaction\", \"data\": {\"outcomeType\": 1, \"valueTowardsCompletion\": 0.2, \"interactionType\": 1, \"questionType\": 2, \"questionId\": \"3_PurpleShell\", \"learnToolsVersion\": \"0.3.5\", \"failureMessage\": \"\", \"exceptionClass\": \"\", \"trace\": \"\"}}, \"*\")"
      ],
      "text/plain": [
       "<IPython.core.display.Javascript object>"
      ]
     },
     "metadata": {},
     "output_type": "display_data"
    },
    {
     "data": {
      "text/markdown": [
       "<span style=\"color:#33cc33\">Correct</span>"
      ],
      "text/plain": [
       "Correct"
      ]
     },
     "metadata": {},
     "output_type": "display_data"
    }
   ],
   "source": [
    "def purple_shell(racers):\n",
    "    \"\"\"Given a list of racers, set the first place racer (at the front of the list) to last\n",
    "    place and vice versa.\n",
    "    \n",
    "    >>> r = [\"Mario\", \"Bowser\", \"Luigi\"]\n",
    "    >>> purple_shell(r)\n",
    "    >>> r\n",
    "    [\"Luigi\", \"Bowser\", \"Mario\"]\n",
    "    \"\"\"\n",
    "    temp = racers[0]\n",
    "    racers[0] = racers[-1]\n",
    "    racers[-1] = temp\n",
    "\n",
    "# Check your answer\n",
    "q3.check()"
   ]
  },
  {
   "cell_type": "code",
   "execution_count": 7,
   "id": "89f727bc",
   "metadata": {
    "execution": {
     "iopub.execute_input": "2025-04-28T20:33:18.285184Z",
     "iopub.status.busy": "2025-04-28T20:33:18.284870Z",
     "iopub.status.idle": "2025-04-28T20:33:18.288911Z",
     "shell.execute_reply": "2025-04-28T20:33:18.288142Z"
    },
    "papermill": {
     "duration": 0.010483,
     "end_time": "2025-04-28T20:33:18.290466",
     "exception": false,
     "start_time": "2025-04-28T20:33:18.279983",
     "status": "completed"
    },
    "tags": []
   },
   "outputs": [],
   "source": [
    "#q3.hint()\n",
    "#q3.solution()"
   ]
  },
  {
   "cell_type": "markdown",
   "id": "38e58b34",
   "metadata": {
    "papermill": {
     "duration": 0.004715,
     "end_time": "2025-04-28T20:33:18.299485",
     "exception": false,
     "start_time": "2025-04-28T20:33:18.294770",
     "status": "completed"
    },
    "tags": []
   },
   "source": [
    "# 4.\n",
    "\n",
    "What are the lengths of the following lists? Fill in the variable `lengths` with your predictions. (Try to make a prediction for each list *without* just calling `len()` on it.)"
   ]
  },
  {
   "cell_type": "code",
   "execution_count": 8,
   "id": "9aa2756c",
   "metadata": {
    "execution": {
     "iopub.execute_input": "2025-04-28T20:33:18.308644Z",
     "iopub.status.busy": "2025-04-28T20:33:18.308278Z",
     "iopub.status.idle": "2025-04-28T20:33:18.316815Z",
     "shell.execute_reply": "2025-04-28T20:33:18.316043Z"
    },
    "papermill": {
     "duration": 0.014736,
     "end_time": "2025-04-28T20:33:18.318243",
     "exception": false,
     "start_time": "2025-04-28T20:33:18.303507",
     "status": "completed"
    },
    "tags": []
   },
   "outputs": [
    {
     "data": {
      "application/javascript": [
       "parent.postMessage({\"jupyterEvent\": \"custom.exercise_interaction\", \"data\": {\"outcomeType\": 1, \"valueTowardsCompletion\": 0.2, \"interactionType\": 1, \"questionType\": 1, \"questionId\": \"4_UnderstandLen\", \"learnToolsVersion\": \"0.3.5\", \"failureMessage\": \"\", \"exceptionClass\": \"\", \"trace\": \"\"}}, \"*\")"
      ],
      "text/plain": [
       "<IPython.core.display.Javascript object>"
      ]
     },
     "metadata": {},
     "output_type": "display_data"
    },
    {
     "data": {
      "text/markdown": [
       "<span style=\"color:#33cc33\">Correct:</span> \n",
       "\n",
       "\n",
       "- a: There are three items in this list. Nothing tricky yet.\n",
       "- b: The list `[2, 3]` counts as a single item. It has one item before it. So we have 2 items in the list\n",
       "- c: The empty list has 0 items\n",
       "- d: The expression is the same as the list `[2, 3]`, which has length 2."
      ],
      "text/plain": [
       "Correct: \n",
       "\n",
       "\n",
       "- a: There are three items in this list. Nothing tricky yet.\n",
       "- b: The list `[2, 3]` counts as a single item. It has one item before it. So we have 2 items in the list\n",
       "- c: The empty list has 0 items\n",
       "- d: The expression is the same as the list `[2, 3]`, which has length 2."
      ]
     },
     "metadata": {},
     "output_type": "display_data"
    }
   ],
   "source": [
    "a = [1, 2, 3]\n",
    "b = [1, [2, 3]]\n",
    "c = []\n",
    "d = [1, 2, 3][1:]\n",
    "\n",
    "# Put your predictions in the list below. Lengths should contain 4 numbers, the\n",
    "# first being the length of a, the second being the length of b and so on.\n",
    "lengths = [3,2,0,2]\n",
    "\n",
    "# Check your answer\n",
    "q4.check()"
   ]
  },
  {
   "cell_type": "code",
   "execution_count": 9,
   "id": "2767ece6",
   "metadata": {
    "execution": {
     "iopub.execute_input": "2025-04-28T20:33:18.327848Z",
     "iopub.status.busy": "2025-04-28T20:33:18.327513Z",
     "iopub.status.idle": "2025-04-28T20:33:18.331370Z",
     "shell.execute_reply": "2025-04-28T20:33:18.330590Z"
    },
    "papermill": {
     "duration": 0.010252,
     "end_time": "2025-04-28T20:33:18.332804",
     "exception": false,
     "start_time": "2025-04-28T20:33:18.322552",
     "status": "completed"
    },
    "tags": []
   },
   "outputs": [],
   "source": [
    "# line below provides some explanation\n",
    "#q4.solution()"
   ]
  },
  {
   "cell_type": "markdown",
   "id": "e7893f6d",
   "metadata": {
    "papermill": {
     "duration": 0.004128,
     "end_time": "2025-04-28T20:33:18.341507",
     "exception": false,
     "start_time": "2025-04-28T20:33:18.337379",
     "status": "completed"
    },
    "tags": []
   },
   "source": [
    "# 5. <span title=\"A bit spicy\" style=\"color: darkgreen \">🌶️</span>\n",
    "\n",
    "We're using lists to record people who attended our party and what order they arrived in. For example, the following list represents a party with 7 guests, in which Adela showed up first and Ford was the last to arrive:\n",
    "\n",
    "    party_attendees = ['Adela', 'Fleda', 'Owen', 'May', 'Mona', 'Gilbert', 'Ford']\n",
    "\n",
    "A guest is considered 'fashionably late' if they arrived after at least half of the party's guests. However, they must not be the very last guest (that's taking it too far). In the above example, Mona and Gilbert are the only guests who were fashionably late.\n",
    "\n",
    "Complete the function below which takes a list of party attendees as well as a person, and tells us whether that person is fashionably late."
   ]
  },
  {
   "cell_type": "code",
   "execution_count": 10,
   "id": "e5c0b507",
   "metadata": {
    "execution": {
     "iopub.execute_input": "2025-04-28T20:33:18.350937Z",
     "iopub.status.busy": "2025-04-28T20:33:18.350627Z",
     "iopub.status.idle": "2025-04-28T20:33:18.358796Z",
     "shell.execute_reply": "2025-04-28T20:33:18.357848Z"
    },
    "papermill": {
     "duration": 0.014688,
     "end_time": "2025-04-28T20:33:18.360346",
     "exception": false,
     "start_time": "2025-04-28T20:33:18.345658",
     "status": "completed"
    },
    "tags": []
   },
   "outputs": [
    {
     "data": {
      "application/javascript": [
       "parent.postMessage({\"jupyterEvent\": \"custom.exercise_interaction\", \"data\": {\"outcomeType\": 1, \"valueTowardsCompletion\": 0.2, \"interactionType\": 1, \"questionType\": 2, \"questionId\": \"5_FashionablyLate\", \"learnToolsVersion\": \"0.3.5\", \"failureMessage\": \"\", \"exceptionClass\": \"\", \"trace\": \"\"}}, \"*\")"
      ],
      "text/plain": [
       "<IPython.core.display.Javascript object>"
      ]
     },
     "metadata": {},
     "output_type": "display_data"
    },
    {
     "data": {
      "text/markdown": [
       "<span style=\"color:#33cc33\">Correct</span>"
      ],
      "text/plain": [
       "Correct"
      ]
     },
     "metadata": {},
     "output_type": "display_data"
    }
   ],
   "source": [
    "def fashionably_late(arrivals, name):\n",
    "    \"\"\"Given an ordered list of arrivals to the party and a name, return whether the guest with that\n",
    "    name was fashionably late.\n",
    "    \"\"\"\n",
    "    order = arrivals.index(name)\n",
    "    return order >= len(arrivals) / 2 and order != len(arrivals) - 1\n",
    "\n",
    "# Check your answer\n",
    "q5.check()"
   ]
  },
  {
   "cell_type": "code",
   "execution_count": 11,
   "id": "22edda3c",
   "metadata": {
    "execution": {
     "iopub.execute_input": "2025-04-28T20:33:18.370778Z",
     "iopub.status.busy": "2025-04-28T20:33:18.370381Z",
     "iopub.status.idle": "2025-04-28T20:33:18.374778Z",
     "shell.execute_reply": "2025-04-28T20:33:18.373874Z"
    },
    "papermill": {
     "duration": 0.011233,
     "end_time": "2025-04-28T20:33:18.376139",
     "exception": false,
     "start_time": "2025-04-28T20:33:18.364906",
     "status": "completed"
    },
    "tags": []
   },
   "outputs": [],
   "source": [
    "#q5.hint()\n",
    "#q5.solution()"
   ]
  },
  {
   "cell_type": "markdown",
   "id": "d50710f8",
   "metadata": {
    "papermill": {
     "duration": 0.004182,
     "end_time": "2025-04-28T20:33:18.385297",
     "exception": false,
     "start_time": "2025-04-28T20:33:18.381115",
     "status": "completed"
    },
    "tags": []
   },
   "source": [
    "# Keep Going\n",
    "\n",
    "That's it for lists and tuples! Now you have the baseline knowledge to **[learn about loops](https://www.kaggle.com/colinmorris/loops-and-list-comprehensions)**, which is where lists and tuples get really interesting. "
   ]
  },
  {
   "cell_type": "markdown",
   "id": "fefcb285",
   "metadata": {
    "papermill": {
     "duration": 0.004092,
     "end_time": "2025-04-28T20:33:18.393716",
     "exception": false,
     "start_time": "2025-04-28T20:33:18.389624",
     "status": "completed"
    },
    "tags": []
   },
   "source": [
    "---\n",
    "\n",
    "\n",
    "\n",
    "\n",
    "*Have questions or comments? Visit the [course discussion forum](https://www.kaggle.com/learn/python/discussion) to chat with other learners.*"
   ]
  }
 ],
 "metadata": {
  "kaggle": {
   "accelerator": "none",
   "dataSources": [],
   "isGpuEnabled": false,
   "isInternetEnabled": false,
   "language": "python",
   "sourceType": "notebook"
  },
  "kernelspec": {
   "display_name": "Python 3",
   "language": "python",
   "name": "python3"
  },
  "language_info": {
   "codemirror_mode": {
    "name": "ipython",
    "version": 3
   },
   "file_extension": ".py",
   "mimetype": "text/x-python",
   "name": "python",
   "nbconvert_exporter": "python",
   "pygments_lexer": "ipython3",
   "version": "3.11.11"
  },
  "learntools_metadata": {
   "lesson_index": 3,
   "type": "exercise"
  },
  "papermill": {
   "default_parameters": {},
   "duration": 7.685906,
   "end_time": "2025-04-28T20:33:19.017729",
   "environment_variables": {},
   "exception": null,
   "input_path": "__notebook__.ipynb",
   "output_path": "__notebook__.ipynb",
   "parameters": {},
   "start_time": "2025-04-28T20:33:11.331823",
   "version": "2.6.0"
  }
 },
 "nbformat": 4,
 "nbformat_minor": 5
}
