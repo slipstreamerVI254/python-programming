{
 "cells": [
  {
   "cell_type": "markdown",
   "id": "45f7c478",
   "metadata": {
    "papermill": {
     "duration": 0.005386,
     "end_time": "2025-02-22T12:25:49.499665",
     "exception": false,
     "start_time": "2025-02-22T12:25:49.494279",
     "status": "completed"
    },
    "tags": []
   },
   "source": [
    "**This notebook is an exercise in the [Intro to Programming](https://www.kaggle.com/learn/intro-to-programming) course.  You can reference the tutorial at [this link](https://www.kaggle.com/alexisbcook/functions).**\n",
    "\n",
    "---\n"
   ]
  },
  {
   "cell_type": "markdown",
   "id": "ba60b7b4",
   "metadata": {
    "papermill": {
     "duration": 0.004421,
     "end_time": "2025-02-22T12:25:49.509099",
     "exception": false,
     "start_time": "2025-02-22T12:25:49.504678",
     "status": "completed"
    },
    "tags": []
   },
   "source": [
    "In the tutorial, you learned about functions. In this exercise, you'll write some of your own!\n",
    "\n",
    "# Set up the notebook\n",
    "\n",
    "Run the next code cell without changes to set up the notebook."
   ]
  },
  {
   "cell_type": "code",
   "execution_count": 1,
   "id": "18a9d0f0",
   "metadata": {
    "execution": {
     "iopub.execute_input": "2025-02-22T12:25:49.519977Z",
     "iopub.status.busy": "2025-02-22T12:25:49.519559Z",
     "iopub.status.idle": "2025-02-22T12:25:50.564937Z",
     "shell.execute_reply": "2025-02-22T12:25:50.563663Z"
    },
    "papermill": {
     "duration": 1.053096,
     "end_time": "2025-02-22T12:25:50.567005",
     "exception": false,
     "start_time": "2025-02-22T12:25:49.513909",
     "status": "completed"
    },
    "tags": []
   },
   "outputs": [
    {
     "name": "stdout",
     "output_type": "stream",
     "text": [
      "Setup complete.\n"
     ]
    }
   ],
   "source": [
    "# Set up the exercise\n",
    "import math\n",
    "from learntools.core import binder\n",
    "binder.bind(globals())\n",
    "from learntools.intro_to_programming.ex2 import *\n",
    "print('Setup complete.')"
   ]
  },
  {
   "cell_type": "markdown",
   "id": "14bb48a8",
   "metadata": {
    "papermill": {
     "duration": 0.00476,
     "end_time": "2025-02-22T12:25:50.577802",
     "exception": false,
     "start_time": "2025-02-22T12:25:50.573042",
     "status": "completed"
    },
    "tags": []
   },
   "source": [
    "# Question 1\n",
    "\n",
    "In the [House Prices - Advanced Regression Techniques competition](https://www.kaggle.com/c/house-prices-advanced-regression-techniques/overview), you need to use information like the number of bedrooms and bathrooms to predict the price of a house.  Inspired by this competition, you'll write your own function to do this.\n",
    "\n",
    "In the next code cell, create a function `get_expected_cost()` that has two arguments:\n",
    "- `beds` - number of bedrooms \n",
    "- `baths` - number of bathrooms\n",
    "\n",
    "It should return the expected cost of a house with that number of bedrooms and bathrooms.  Assume that:\n",
    "- the expected cost for a house with 0 bedrooms and 0 bathrooms is `80000`.  \n",
    "- each bedroom adds `30000` to the expected cost\n",
    "- each bathroom adds `10000` to the expected cost.\n",
    "\n",
    "For instance, \n",
    "- a house with 1 bedroom and 1 bathroom has an expected cost of `120000`, and \n",
    "- a house with 2 bedrooms and 1 bathroom has an expected cost of `150000`."
   ]
  },
  {
   "cell_type": "code",
   "execution_count": 2,
   "id": "827a068a",
   "metadata": {
    "execution": {
     "iopub.execute_input": "2025-02-22T12:25:50.588885Z",
     "iopub.status.busy": "2025-02-22T12:25:50.588304Z",
     "iopub.status.idle": "2025-02-22T12:25:50.597014Z",
     "shell.execute_reply": "2025-02-22T12:25:50.596030Z"
    },
    "papermill": {
     "duration": 0.01622,
     "end_time": "2025-02-22T12:25:50.598797",
     "exception": false,
     "start_time": "2025-02-22T12:25:50.582577",
     "status": "completed"
    },
    "tags": []
   },
   "outputs": [
    {
     "data": {
      "application/javascript": [
       "parent.postMessage({\"jupyterEvent\": \"custom.exercise_interaction\", \"data\": {\"outcomeType\": 1, \"valueTowardsCompletion\": 0.2, \"interactionType\": 1, \"questionType\": 2, \"questionId\": \"1_GetExpectedCost\", \"learnToolsVersion\": \"0.3.4\", \"failureMessage\": \"\", \"exceptionClass\": \"\", \"trace\": \"\"}}, \"*\")"
      ],
      "text/plain": [
       "<IPython.core.display.Javascript object>"
      ]
     },
     "metadata": {},
     "output_type": "display_data"
    },
    {
     "data": {
      "text/markdown": [
       "<span style=\"color:#33cc33\">Correct</span>"
      ],
      "text/plain": [
       "Correct"
      ]
     },
     "metadata": {},
     "output_type": "display_data"
    }
   ],
   "source": [
    "# TODO: Complete the function\n",
    "def get_expected_cost(beds, baths):\n",
    "    value = 80000+beds*(30000)+baths*(10000)\n",
    "    return value\n",
    "\n",
    "# Check your answer \n",
    "q1.check()"
   ]
  },
  {
   "cell_type": "markdown",
   "id": "07818d69",
   "metadata": {
    "papermill": {
     "duration": 0.00476,
     "end_time": "2025-02-22T12:25:50.608920",
     "exception": false,
     "start_time": "2025-02-22T12:25:50.604160",
     "status": "completed"
    },
    "tags": []
   },
   "source": [
    "# Question 2\n",
    "\n",
    "You are thinking about buying a home and want to get an idea of how much you will spend, based on the number of bedrooms and bathrooms.  You are trying to decide between four different options:\n",
    "- Option 1: house with two bedrooms and three bathrooms\n",
    "- Option 2: house with three bedrooms and two bathrooms\n",
    "- Option 3: house with three bedrooms and three bathrooms\n",
    "- Option 4: house with three bedrooms and four bathrooms\n",
    "\n",
    "Use the `get_expected_cost()` function you defined in question 1 to set `option_1`, `option_2`, `option_3`, and `option_4` to the expected cost of each option."
   ]
  },
  {
   "cell_type": "code",
   "execution_count": 3,
   "id": "01fc690e",
   "metadata": {
    "execution": {
     "iopub.execute_input": "2025-02-22T12:25:50.620365Z",
     "iopub.status.busy": "2025-02-22T12:25:50.620039Z",
     "iopub.status.idle": "2025-02-22T12:25:50.629942Z",
     "shell.execute_reply": "2025-02-22T12:25:50.628895Z"
    },
    "papermill": {
     "duration": 0.017749,
     "end_time": "2025-02-22T12:25:50.631691",
     "exception": false,
     "start_time": "2025-02-22T12:25:50.613942",
     "status": "completed"
    },
    "tags": []
   },
   "outputs": [
    {
     "name": "stdout",
     "output_type": "stream",
     "text": [
      "170000\n",
      "190000\n",
      "200000\n",
      "210000\n"
     ]
    },
    {
     "data": {
      "application/javascript": [
       "parent.postMessage({\"jupyterEvent\": \"custom.exercise_interaction\", \"data\": {\"outcomeType\": 1, \"valueTowardsCompletion\": 0.2, \"interactionType\": 1, \"questionType\": 1, \"questionId\": \"2_RunGetExpectedCost\", \"learnToolsVersion\": \"0.3.4\", \"failureMessage\": \"\", \"exceptionClass\": \"\", \"trace\": \"\"}}, \"*\")"
      ],
      "text/plain": [
       "<IPython.core.display.Javascript object>"
      ]
     },
     "metadata": {},
     "output_type": "display_data"
    },
    {
     "data": {
      "text/markdown": [
       "<span style=\"color:#33cc33\">Correct</span>"
      ],
      "text/plain": [
       "Correct"
      ]
     },
     "metadata": {},
     "output_type": "display_data"
    }
   ],
   "source": [
    "# TODO: Use the get_expected_cost function to fill in each value\n",
    "option_one = get_expected_cost(2,3)\n",
    "option_two = get_expected_cost(3,2)\n",
    "option_three = get_expected_cost(3,3)\n",
    "option_four = get_expected_cost(3,4)\n",
    "\n",
    "print(option_one)\n",
    "print(option_two)\n",
    "print(option_three)\n",
    "print(option_four)\n",
    "\n",
    "# Check your answer\n",
    "q2.check()"
   ]
  },
  {
   "cell_type": "code",
   "execution_count": 4,
   "id": "9f5680d8",
   "metadata": {
    "execution": {
     "iopub.execute_input": "2025-02-22T12:25:50.644234Z",
     "iopub.status.busy": "2025-02-22T12:25:50.643886Z",
     "iopub.status.idle": "2025-02-22T12:25:50.647664Z",
     "shell.execute_reply": "2025-02-22T12:25:50.646650Z"
    },
    "papermill": {
     "duration": 0.012029,
     "end_time": "2025-02-22T12:25:50.649597",
     "exception": false,
     "start_time": "2025-02-22T12:25:50.637568",
     "status": "completed"
    },
    "tags": []
   },
   "outputs": [],
   "source": [
    "# Uncomment to see a hint\n",
    "#q2.hint()\n",
    "\n",
    "# Uncomment to view the solution\n",
    "#q2.solution()"
   ]
  },
  {
   "cell_type": "markdown",
   "id": "20c2b460",
   "metadata": {
    "papermill": {
     "duration": 0.00565,
     "end_time": "2025-02-22T12:25:50.661158",
     "exception": false,
     "start_time": "2025-02-22T12:25:50.655508",
     "status": "completed"
    },
    "tags": []
   },
   "source": [
    "# Question 3\n",
    "\n",
    "You're a home decorator, and you'd like to use Python to streamline some of your work.  Specifically, you're creating a tool that you intend to use to calculate the cost of painting a room.\n",
    "\n",
    "As a first step, define a function `get_cost()` that takes as input:\n",
    "- `sqft_walls` = total square feet of walls to be painted\n",
    "- `sqft_ceiling` = square feet of ceiling to be painted\n",
    "- `sqft_per_gallon` = number of square feet that you can cover with one gallon of paint\n",
    "- `cost_per_gallon` = cost (in dollars) of one gallon of paint\n",
    "\n",
    "It should return the cost (in dollars) of putting one coat of paint on all walls and the ceiling.  Assume you can buy the exact amount of paint that you need, so you can buy partial gallons (e.g., if you need 7.523 gallons, you can buy that exact amount, instead of needing to buy 8 gallons and waste some paint).  Do not round your answer."
   ]
  },
  {
   "cell_type": "code",
   "execution_count": 5,
   "id": "f879bbe7",
   "metadata": {
    "execution": {
     "iopub.execute_input": "2025-02-22T12:25:50.673437Z",
     "iopub.status.busy": "2025-02-22T12:25:50.673017Z",
     "iopub.status.idle": "2025-02-22T12:25:50.680603Z",
     "shell.execute_reply": "2025-02-22T12:25:50.679601Z"
    },
    "papermill": {
     "duration": 0.015664,
     "end_time": "2025-02-22T12:25:50.682352",
     "exception": false,
     "start_time": "2025-02-22T12:25:50.666688",
     "status": "completed"
    },
    "tags": []
   },
   "outputs": [
    {
     "data": {
      "application/javascript": [
       "parent.postMessage({\"jupyterEvent\": \"custom.exercise_interaction\", \"data\": {\"outcomeType\": 1, \"valueTowardsCompletion\": 0.2, \"interactionType\": 1, \"questionType\": 2, \"questionId\": \"3_GetCostPaint\", \"learnToolsVersion\": \"0.3.4\", \"failureMessage\": \"\", \"exceptionClass\": \"\", \"trace\": \"\"}}, \"*\")"
      ],
      "text/plain": [
       "<IPython.core.display.Javascript object>"
      ]
     },
     "metadata": {},
     "output_type": "display_data"
    },
    {
     "data": {
      "text/markdown": [
       "<span style=\"color:#33cc33\">Correct</span>"
      ],
      "text/plain": [
       "Correct"
      ]
     },
     "metadata": {},
     "output_type": "display_data"
    }
   ],
   "source": [
    "# TODO: Finish defining the function\n",
    "def get_cost(sqft_walls, sqft_ceiling, sqft_per_gallon, cost_per_gallon):\n",
    " sqft_total=sqft_walls+sqft_ceiling\n",
    " gallons=sqft_total/sqft_per_gallon\n",
    " cost = cost_per_gallon*gallons\n",
    " return cost\n",
    "\n",
    "# Check your answer\n",
    "q3.check()"
   ]
  },
  {
   "cell_type": "code",
   "execution_count": 6,
   "id": "add51be0",
   "metadata": {
    "execution": {
     "iopub.execute_input": "2025-02-22T12:25:50.695149Z",
     "iopub.status.busy": "2025-02-22T12:25:50.694796Z",
     "iopub.status.idle": "2025-02-22T12:25:50.698877Z",
     "shell.execute_reply": "2025-02-22T12:25:50.697476Z"
    },
    "papermill": {
     "duration": 0.01256,
     "end_time": "2025-02-22T12:25:50.700669",
     "exception": false,
     "start_time": "2025-02-22T12:25:50.688109",
     "status": "completed"
    },
    "tags": []
   },
   "outputs": [],
   "source": [
    "# Uncomment to see a hint\n",
    "#q3.hint()\n",
    "\n",
    "# Uncomment to view the solution\n",
    "#q3.solution()"
   ]
  },
  {
   "cell_type": "markdown",
   "id": "b1530be6",
   "metadata": {
    "papermill": {
     "duration": 0.005288,
     "end_time": "2025-02-22T12:25:50.711711",
     "exception": false,
     "start_time": "2025-02-22T12:25:50.706423",
     "status": "completed"
    },
    "tags": []
   },
   "source": [
    "# Question 4\n",
    "\n",
    "Use the `get_cost()` function you defined in Question 3 to calculate the cost of applying one coat of paint to a room with:\n",
    "- 432 square feet of walls, and\n",
    "- 144 square feet of ceiling.\n",
    "\n",
    "Assume that one gallon of paint covers 400 square feet and costs $15.  As in Question 3, assume you can buy partial gallons of paint.  Do not round your answer."
   ]
  },
  {
   "cell_type": "code",
   "execution_count": 7,
   "id": "aecd6fc1",
   "metadata": {
    "execution": {
     "iopub.execute_input": "2025-02-22T12:25:50.723796Z",
     "iopub.status.busy": "2025-02-22T12:25:50.723462Z",
     "iopub.status.idle": "2025-02-22T12:25:50.730664Z",
     "shell.execute_reply": "2025-02-22T12:25:50.729794Z"
    },
    "papermill": {
     "duration": 0.015114,
     "end_time": "2025-02-22T12:25:50.732264",
     "exception": false,
     "start_time": "2025-02-22T12:25:50.717150",
     "status": "completed"
    },
    "tags": []
   },
   "outputs": [
    {
     "data": {
      "application/javascript": [
       "parent.postMessage({\"jupyterEvent\": \"custom.exercise_interaction\", \"data\": {\"outcomeType\": 1, \"valueTowardsCompletion\": 0.2, \"interactionType\": 1, \"questionType\": 1, \"questionId\": \"4_GetCostPaintExample\", \"learnToolsVersion\": \"0.3.4\", \"failureMessage\": \"\", \"exceptionClass\": \"\", \"trace\": \"\"}}, \"*\")"
      ],
      "text/plain": [
       "<IPython.core.display.Javascript object>"
      ]
     },
     "metadata": {},
     "output_type": "display_data"
    },
    {
     "data": {
      "text/markdown": [
       "<span style=\"color:#33cc33\">Correct</span>"
      ],
      "text/plain": [
       "Correct"
      ]
     },
     "metadata": {},
     "output_type": "display_data"
    }
   ],
   "source": [
    "# TODO: Set the project_cost variable to the cost of the project\n",
    "project_cost = get_cost(432,144,400,15)\n",
    "\n",
    "# Check your answer\n",
    "q4.check()"
   ]
  },
  {
   "cell_type": "code",
   "execution_count": 8,
   "id": "1e0648c6",
   "metadata": {
    "execution": {
     "iopub.execute_input": "2025-02-22T12:25:50.745437Z",
     "iopub.status.busy": "2025-02-22T12:25:50.745061Z",
     "iopub.status.idle": "2025-02-22T12:25:50.748776Z",
     "shell.execute_reply": "2025-02-22T12:25:50.747813Z"
    },
    "papermill": {
     "duration": 0.012283,
     "end_time": "2025-02-22T12:25:50.750405",
     "exception": false,
     "start_time": "2025-02-22T12:25:50.738122",
     "status": "completed"
    },
    "tags": []
   },
   "outputs": [],
   "source": [
    "# Uncomment to see a hint\n",
    "#q4.hint()\n",
    "\n",
    "# Uncomment to view the solution\n",
    "#q4.solution()"
   ]
  },
  {
   "cell_type": "markdown",
   "id": "99ddc8d1",
   "metadata": {
    "papermill": {
     "duration": 0.005528,
     "end_time": "2025-02-22T12:25:50.761972",
     "exception": false,
     "start_time": "2025-02-22T12:25:50.756444",
     "status": "completed"
    },
    "tags": []
   },
   "source": [
    "# 🌶️ Question 5\n",
    "\n",
    "Now say you can no longer buy fractions of a gallon.  (For instance, if you need 4.3 gallons to do a project, then you have to buy 5 gallons of paint.)\n",
    "\n",
    "With this new scenario, you will create a new function `get_actual_cost` that uses the same inputs and calculates the cost of your project.\n",
    "\n",
    "One function that you'll need to use to do this is `math.ceil()`.  We demonstrate usage of this function in the code cell below.  It takes as a number as input and rounds the number up to the nearest integer.  \n",
    "\n",
    "Run the next code cell to test this function for yourself.  Feel free to change the value of `test_value` and make sure `math.ceil()` returns the number you expect."
   ]
  },
  {
   "cell_type": "code",
   "execution_count": 9,
   "id": "300f3d2a",
   "metadata": {
    "execution": {
     "iopub.execute_input": "2025-02-22T12:25:50.775025Z",
     "iopub.status.busy": "2025-02-22T12:25:50.774691Z",
     "iopub.status.idle": "2025-02-22T12:25:50.779660Z",
     "shell.execute_reply": "2025-02-22T12:25:50.778520Z"
    },
    "papermill": {
     "duration": 0.013846,
     "end_time": "2025-02-22T12:25:50.781731",
     "exception": false,
     "start_time": "2025-02-22T12:25:50.767885",
     "status": "completed"
    },
    "tags": []
   },
   "outputs": [
    {
     "name": "stdout",
     "output_type": "stream",
     "text": [
      "5\n"
     ]
    }
   ],
   "source": [
    "test_value = 4.009\n",
    "\n",
    "rounded_value = math.ceil(test_value)\n",
    "print(rounded_value)"
   ]
  },
  {
   "cell_type": "markdown",
   "id": "4e37caaa",
   "metadata": {
    "papermill": {
     "duration": 0.005581,
     "end_time": "2025-02-22T12:25:50.793440",
     "exception": false,
     "start_time": "2025-02-22T12:25:50.787859",
     "status": "completed"
    },
    "tags": []
   },
   "source": [
    "Use the next code cell to define the function `get_actual_cost()`.  You'll need to use the `math.ceil()` function to do this.\n",
    "\n",
    "When answering this question, note that it's completely valid to define a function that makes use of another function.  For instance, we can define a function `round_up_and_divide_by_three` that makes use of the `math.ceil` function:\n",
    "```\n",
    "def round_up_and_divide_by_three(num):\n",
    "    new_value = math.ceil(num)\n",
    "    final_value = new_value / 3\n",
    "    return final_value\n",
    "```"
   ]
  },
  {
   "cell_type": "code",
   "execution_count": 10,
   "id": "cbfff655",
   "metadata": {
    "execution": {
     "iopub.execute_input": "2025-02-22T12:25:50.806399Z",
     "iopub.status.busy": "2025-02-22T12:25:50.806024Z",
     "iopub.status.idle": "2025-02-22T12:25:50.813889Z",
     "shell.execute_reply": "2025-02-22T12:25:50.812990Z"
    },
    "papermill": {
     "duration": 0.016169,
     "end_time": "2025-02-22T12:25:50.815353",
     "exception": false,
     "start_time": "2025-02-22T12:25:50.799184",
     "status": "completed"
    },
    "tags": []
   },
   "outputs": [
    {
     "data": {
      "application/javascript": [
       "parent.postMessage({\"jupyterEvent\": \"custom.exercise_interaction\", \"data\": {\"outcomeType\": 1, \"valueTowardsCompletion\": 0.2, \"interactionType\": 1, \"questionType\": 2, \"questionId\": \"5_NoMoreFractions\", \"learnToolsVersion\": \"0.3.4\", \"failureMessage\": \"\", \"exceptionClass\": \"\", \"trace\": \"\"}}, \"*\")"
      ],
      "text/plain": [
       "<IPython.core.display.Javascript object>"
      ]
     },
     "metadata": {},
     "output_type": "display_data"
    },
    {
     "data": {
      "text/markdown": [
       "<span style=\"color:#33cc33\">Correct</span>"
      ],
      "text/plain": [
       "Correct"
      ]
     },
     "metadata": {},
     "output_type": "display_data"
    }
   ],
   "source": [
    "def get_actual_cost(sqft_walls, sqft_ceiling, sqft_per_gallon, cost_per_gallon):\n",
    "    sqft_total=sqft_walls+sqft_ceiling\n",
    "    gallons=sqft_total/sqft_per_gallon\n",
    "    gallons_abs=math.ceil(gallons)\n",
    "    cost =gallons_abs*cost_per_gallon \n",
    "    return cost\n",
    "\n",
    "# Check your answer\n",
    "q5.check()"
   ]
  },
  {
   "cell_type": "code",
   "execution_count": 11,
   "id": "287a237f",
   "metadata": {
    "execution": {
     "iopub.execute_input": "2025-02-22T12:25:50.829453Z",
     "iopub.status.busy": "2025-02-22T12:25:50.829079Z",
     "iopub.status.idle": "2025-02-22T12:25:50.832994Z",
     "shell.execute_reply": "2025-02-22T12:25:50.831923Z"
    },
    "papermill": {
     "duration": 0.012834,
     "end_time": "2025-02-22T12:25:50.834871",
     "exception": false,
     "start_time": "2025-02-22T12:25:50.822037",
     "status": "completed"
    },
    "tags": []
   },
   "outputs": [],
   "source": [
    "# Uncomment to see a hint\n",
    "#q5.hint()\n",
    "\n",
    "# Uncomment to view the solution\n",
    "#q5.solution()"
   ]
  },
  {
   "cell_type": "markdown",
   "id": "93288eef",
   "metadata": {
    "papermill": {
     "duration": 0.006144,
     "end_time": "2025-02-22T12:25:50.847275",
     "exception": false,
     "start_time": "2025-02-22T12:25:50.841131",
     "status": "completed"
    },
    "tags": []
   },
   "source": [
    "Once your function is verified as correct, run the next code cell to calculate the updated cost of your project."
   ]
  },
  {
   "cell_type": "code",
   "execution_count": 12,
   "id": "1167c844",
   "metadata": {
    "execution": {
     "iopub.execute_input": "2025-02-22T12:25:50.861292Z",
     "iopub.status.busy": "2025-02-22T12:25:50.860969Z",
     "iopub.status.idle": "2025-02-22T12:25:50.866501Z",
     "shell.execute_reply": "2025-02-22T12:25:50.865498Z"
    },
    "papermill": {
     "duration": 0.014111,
     "end_time": "2025-02-22T12:25:50.868078",
     "exception": false,
     "start_time": "2025-02-22T12:25:50.853967",
     "status": "completed"
    },
    "tags": []
   },
   "outputs": [
    {
     "data": {
      "text/plain": [
       "30"
      ]
     },
     "execution_count": 12,
     "metadata": {},
     "output_type": "execute_result"
    }
   ],
   "source": [
    "get_actual_cost(432, 144, 400, 15) "
   ]
  },
  {
   "cell_type": "markdown",
   "id": "e36bc308",
   "metadata": {
    "papermill": {
     "duration": 0.006101,
     "end_time": "2025-02-22T12:25:50.880532",
     "exception": false,
     "start_time": "2025-02-22T12:25:50.874431",
     "status": "completed"
    },
    "tags": []
   },
   "source": [
    "Say you're working with a slightly larger room.  Run the next code cell to calculate the cost of the project."
   ]
  },
  {
   "cell_type": "code",
   "execution_count": 13,
   "id": "460b51e1",
   "metadata": {
    "execution": {
     "iopub.execute_input": "2025-02-22T12:25:50.894078Z",
     "iopub.status.busy": "2025-02-22T12:25:50.893723Z",
     "iopub.status.idle": "2025-02-22T12:25:50.899915Z",
     "shell.execute_reply": "2025-02-22T12:25:50.898733Z"
    },
    "papermill": {
     "duration": 0.014856,
     "end_time": "2025-02-22T12:25:50.901552",
     "exception": false,
     "start_time": "2025-02-22T12:25:50.886696",
     "status": "completed"
    },
    "tags": []
   },
   "outputs": [
    {
     "data": {
      "text/plain": [
       "45"
      ]
     },
     "execution_count": 13,
     "metadata": {},
     "output_type": "execute_result"
    }
   ],
   "source": [
    "get_actual_cost(594, 288, 400, 15) "
   ]
  },
  {
   "cell_type": "markdown",
   "id": "bd11661b",
   "metadata": {
    "papermill": {
     "duration": 0.005918,
     "end_time": "2025-02-22T12:25:50.913874",
     "exception": false,
     "start_time": "2025-02-22T12:25:50.907956",
     "status": "completed"
    },
    "tags": []
   },
   "source": [
    "# Keep going\n",
    "\n",
    "Continue to learn about **[data types](https://www.kaggle.com/alexisbcook/data-types)**."
   ]
  },
  {
   "cell_type": "markdown",
   "id": "0f6457bc",
   "metadata": {
    "papermill": {
     "duration": 0.005782,
     "end_time": "2025-02-22T12:25:50.925754",
     "exception": false,
     "start_time": "2025-02-22T12:25:50.919972",
     "status": "completed"
    },
    "tags": []
   },
   "source": [
    "---\n",
    "\n",
    "\n",
    "\n",
    "\n",
    "*Have questions or comments? Visit the [course discussion forum](https://www.kaggle.com/learn/intro-to-programming/discussion) to chat with other learners.*"
   ]
  }
 ],
 "metadata": {
  "kaggle": {
   "accelerator": "none",
   "dataSources": [],
   "isGpuEnabled": false,
   "isInternetEnabled": false,
   "language": "python",
   "sourceType": "notebook"
  },
  "kernelspec": {
   "display_name": "Python 3",
   "language": "python",
   "name": "python3"
  },
  "language_info": {
   "codemirror_mode": {
    "name": "ipython",
    "version": 3
   },
   "file_extension": ".py",
   "mimetype": "text/x-python",
   "name": "python",
   "nbconvert_exporter": "python",
   "pygments_lexer": "ipython3",
   "version": "3.10.12"
  },
  "papermill": {
   "default_parameters": {},
   "duration": 5.025123,
   "end_time": "2025-02-22T12:25:51.551575",
   "environment_variables": {},
   "exception": null,
   "input_path": "__notebook__.ipynb",
   "output_path": "__notebook__.ipynb",
   "parameters": {},
   "start_time": "2025-02-22T12:25:46.526452",
   "version": "2.6.0"
  }
 },
 "nbformat": 4,
 "nbformat_minor": 5
}
