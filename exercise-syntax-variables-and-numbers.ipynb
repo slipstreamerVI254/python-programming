{
 "cells": [
  {
   "cell_type": "markdown",
   "id": "103d97e0",
   "metadata": {
    "papermill": {
     "duration": 0.005966,
     "end_time": "2025-03-23T12:16:47.960007",
     "exception": false,
     "start_time": "2025-03-23T12:16:47.954041",
     "status": "completed"
    },
    "tags": []
   },
   "source": [
    "**This notebook is an exercise in the [Python](https://www.kaggle.com/learn/python) course.  You can reference the tutorial at [this link](https://www.kaggle.com/colinmorris/hello-python).**\n",
    "\n",
    "---\n"
   ]
  },
  {
   "cell_type": "markdown",
   "id": "f4c2620a",
   "metadata": {
    "papermill": {
     "duration": 0.004955,
     "end_time": "2025-03-23T12:16:47.970765",
     "exception": false,
     "start_time": "2025-03-23T12:16:47.965810",
     "status": "completed"
    },
    "tags": []
   },
   "source": [
    "Welcome to your first set of Python coding problems.  If this is your first time using Kaggle Notebooks, welcome! \n",
    "\n",
    "Notebooks are composed of blocks (called \"cells\") of text and code. Each of these is editable, though you'll mainly be editing the code cells to answer some questions.\n",
    "\n",
    "To get started, try running the code cell below (by pressing the ► button, or clicking on the cell and pressing ctrl+enter on your keyboard)."
   ]
  },
  {
   "cell_type": "code",
   "execution_count": 1,
   "id": "503ae7d1",
   "metadata": {
    "execution": {
     "iopub.execute_input": "2025-03-23T12:16:47.982348Z",
     "iopub.status.busy": "2025-03-23T12:16:47.981989Z",
     "iopub.status.idle": "2025-03-23T12:16:47.989356Z",
     "shell.execute_reply": "2025-03-23T12:16:47.988308Z"
    },
    "papermill": {
     "duration": 0.01521,
     "end_time": "2025-03-23T12:16:47.991101",
     "exception": false,
     "start_time": "2025-03-23T12:16:47.975891",
     "status": "completed"
    },
    "tags": []
   },
   "outputs": [
    {
     "name": "stdout",
     "output_type": "stream",
     "text": [
      "You've successfully run some Python code\n",
      "Congratulations!\n",
      "Victor Iselo successfully ran some Python code\n"
     ]
    }
   ],
   "source": [
    "print(\"You've successfully run some Python code\")\n",
    "print(\"Congratulations!\")\n",
    "print(\"Victor Iselo successfully ran some Python code\")"
   ]
  },
  {
   "cell_type": "markdown",
   "id": "c45b6d1d",
   "metadata": {
    "papermill": {
     "duration": 0.005185,
     "end_time": "2025-03-23T12:16:48.001762",
     "exception": false,
     "start_time": "2025-03-23T12:16:47.996577",
     "status": "completed"
    },
    "tags": []
   },
   "source": [
    "Try adding another line of code in the cell above and re-running it. \n",
    "\n",
    "Now let's get a little fancier:  Add a new code cell by clicking on an existing code cell, hitting the escape key, and then hitting the `a` or `b` key.  The `a` key will add a cell above the current cell, and `b` adds a cell below.\n",
    "\n",
    "Great! Now you know how to use Notebooks.\n",
    "\n",
    "Each hands-on exercise starts by setting up our feedback and code checking mechanism. Run the code cell below to do that. Then you'll be ready to move on to question 0."
   ]
  },
  {
   "cell_type": "code",
   "execution_count": 2,
   "id": "bcbd56fd",
   "metadata": {
    "_kg_hide-input": true,
    "_kg_hide-output": true,
    "execution": {
     "iopub.execute_input": "2025-03-23T12:16:48.014221Z",
     "iopub.status.busy": "2025-03-23T12:16:48.013863Z",
     "iopub.status.idle": "2025-03-23T12:16:49.088915Z",
     "shell.execute_reply": "2025-03-23T12:16:49.087685Z"
    },
    "papermill": {
     "duration": 1.083099,
     "end_time": "2025-03-23T12:16:49.090553",
     "exception": false,
     "start_time": "2025-03-23T12:16:48.007454",
     "status": "completed"
    },
    "tags": []
   },
   "outputs": [
    {
     "name": "stdout",
     "output_type": "stream",
     "text": [
      "Setup complete! You're ready to start question 0.\n"
     ]
    }
   ],
   "source": [
    "from learntools.core import binder; binder.bind(globals())\n",
    "from learntools.python.ex1 import *\n",
    "print(\"Setup complete! You're ready to start question 0.\")"
   ]
  },
  {
   "cell_type": "markdown",
   "id": "361c94e0",
   "metadata": {
    "papermill": {
     "duration": 0.005063,
     "end_time": "2025-03-23T12:16:49.101258",
     "exception": false,
     "start_time": "2025-03-23T12:16:49.096195",
     "status": "completed"
    },
    "tags": []
   },
   "source": [
    "# 0.\n",
    "\n",
    "*This is a silly question intended as an introduction to the format we use for hands-on exercises throughout all Kaggle courses.*\n",
    "\n",
    "**What is your favorite color? **\n",
    "\n",
    "To complete this question, create a variable called `color` in the cell below with an appropriate value. The function call `q0.check()` (which we've already provided in the cell below) will check your answer."
   ]
  },
  {
   "cell_type": "code",
   "execution_count": 3,
   "id": "afb57c5a",
   "metadata": {
    "execution": {
     "iopub.execute_input": "2025-03-23T12:16:49.113337Z",
     "iopub.status.busy": "2025-03-23T12:16:49.112838Z",
     "iopub.status.idle": "2025-03-23T12:16:49.121389Z",
     "shell.execute_reply": "2025-03-23T12:16:49.120383Z"
    },
    "papermill": {
     "duration": 0.016428,
     "end_time": "2025-03-23T12:16:49.123063",
     "exception": false,
     "start_time": "2025-03-23T12:16:49.106635",
     "status": "completed"
    },
    "tags": []
   },
   "outputs": [
    {
     "data": {
      "application/javascript": [
       "parent.postMessage({\"jupyterEvent\": \"custom.exercise_interaction\", \"data\": {\"outcomeType\": 1, \"valueTowardsCompletion\": 0.25, \"interactionType\": 1, \"questionType\": 2, \"questionId\": \"0_ExerciseFormatTutorial\", \"learnToolsVersion\": \"0.3.4\", \"failureMessage\": \"\", \"exceptionClass\": \"\", \"trace\": \"\"}}, \"*\")"
      ],
      "text/plain": [
       "<IPython.core.display.Javascript object>"
      ]
     },
     "metadata": {},
     "output_type": "display_data"
    },
    {
     "data": {
      "text/markdown": [
       "<span style=\"color:#33cc33\">Correct:</span> What?! You got it right without needing a hint or anything? Drats. Well hey, you should still continue to the next step to get some practice asking for a hint and checking solutions. (Even though you obviously don't need any help here.)"
      ],
      "text/plain": [
       "Correct: What?! You got it right without needing a hint or anything? Drats. Well hey, you should still continue to the next step to get some practice asking for a hint and checking solutions. (Even though you obviously don't need any help here.)"
      ]
     },
     "metadata": {},
     "output_type": "display_data"
    }
   ],
   "source": [
    "# create a variable called color with an appropriate value on the line below\n",
    "# (Remember, strings in Python must be enclosed in 'single' or \"double\" quotes)\n",
    "color='blue'\n",
    "\n",
    "# Check your answer\n",
    "q0.check()"
   ]
  },
  {
   "cell_type": "markdown",
   "id": "4a3671bb",
   "metadata": {
    "papermill": {
     "duration": 0.00518,
     "end_time": "2025-03-23T12:16:49.134173",
     "exception": false,
     "start_time": "2025-03-23T12:16:49.128993",
     "status": "completed"
    },
    "tags": []
   },
   "source": [
    "Didn't get the right answer? How do you not even know your own favorite color?!\n",
    "\n",
    "Delete the `#` in the line below to make one of the lines run. You can choose between getting a hint or the full answer by choosing which line to remove the `#` from. \n",
    "\n",
    "Removing the `#` is called uncommenting, because it changes that line from a \"comment\" which Python doesn't run to code, which Python does run."
   ]
  },
  {
   "cell_type": "code",
   "execution_count": 4,
   "id": "7670701e",
   "metadata": {
    "execution": {
     "iopub.execute_input": "2025-03-23T12:16:49.146404Z",
     "iopub.status.busy": "2025-03-23T12:16:49.146059Z",
     "iopub.status.idle": "2025-03-23T12:16:49.149917Z",
     "shell.execute_reply": "2025-03-23T12:16:49.148893Z"
    },
    "papermill": {
     "duration": 0.011863,
     "end_time": "2025-03-23T12:16:49.151472",
     "exception": false,
     "start_time": "2025-03-23T12:16:49.139609",
     "status": "completed"
    },
    "tags": []
   },
   "outputs": [],
   "source": [
    "#q0.hint()\n",
    "#q0.solution()"
   ]
  },
  {
   "cell_type": "markdown",
   "id": "dd530d91",
   "metadata": {
    "papermill": {
     "duration": 0.005289,
     "end_time": "2025-03-23T12:16:49.162345",
     "exception": false,
     "start_time": "2025-03-23T12:16:49.157056",
     "status": "completed"
    },
    "tags": []
   },
   "source": [
    "The upcoming questions work the same way. The only thing that will change are the question numbers. For the next question, you'll call `q1.check()`, `q1.hint()`, `q1.solution()`, for question 2, you'll call `q2.check()`, and so on."
   ]
  },
  {
   "cell_type": "markdown",
   "id": "11350f0a",
   "metadata": {
    "papermill": {
     "duration": 0.005072,
     "end_time": "2025-03-23T12:16:49.172808",
     "exception": false,
     "start_time": "2025-03-23T12:16:49.167736",
     "status": "completed"
    },
    "tags": []
   },
   "source": [
    "<hr/>\n",
    "\n",
    "# 1.\n",
    "\n",
    "Complete the code below. In case it's helpful, here is the table of available arithmetic operations:\n",
    "\n",
    "\n",
    "\n",
    "| Operator     | Name           | Description                                            |\n",
    "|--------------|----------------|--------------------------------------------------------|\n",
    "| ``a + b``    | Addition       | Sum of ``a`` and ``b``                                 |\n",
    "| ``a - b``    | Subtraction    | Difference of ``a`` and ``b``                          |\n",
    "| ``a * b``    | Multiplication | Product of ``a`` and ``b``                             |\n",
    "| ``a / b``    | True division  | Quotient of ``a`` and ``b``                            |\n",
    "| ``a // b``   | Floor division | Quotient of ``a`` and ``b``, removing fractional parts |\n",
    "| ``a % b``    | Modulus        | Integer remainder after division of ``a`` by ``b``     |\n",
    "| ``a ** b``   | Exponentiation | ``a`` raised to the power of ``b``                     |\n",
    "| ``-a``       | Negation       | The negative of ``a``                                  |\n",
    "\n",
    "<span style=\"display:none\"></span>\n"
   ]
  },
  {
   "cell_type": "code",
   "execution_count": 5,
   "id": "f8e5ce78",
   "metadata": {
    "execution": {
     "iopub.execute_input": "2025-03-23T12:16:49.185015Z",
     "iopub.status.busy": "2025-03-23T12:16:49.184617Z",
     "iopub.status.idle": "2025-03-23T12:16:49.193203Z",
     "shell.execute_reply": "2025-03-23T12:16:49.192099Z"
    },
    "papermill": {
     "duration": 0.016666,
     "end_time": "2025-03-23T12:16:49.194819",
     "exception": false,
     "start_time": "2025-03-23T12:16:49.178153",
     "status": "completed"
    },
    "tags": []
   },
   "outputs": [
    {
     "data": {
      "application/javascript": [
       "parent.postMessage({\"jupyterEvent\": \"custom.exercise_interaction\", \"data\": {\"outcomeType\": 1, \"valueTowardsCompletion\": 0.25, \"interactionType\": 1, \"questionType\": 1, \"questionId\": \"1_CircleArea\", \"learnToolsVersion\": \"0.3.4\", \"failureMessage\": \"\", \"exceptionClass\": \"\", \"trace\": \"\"}}, \"*\")"
      ],
      "text/plain": [
       "<IPython.core.display.Javascript object>"
      ]
     },
     "metadata": {},
     "output_type": "display_data"
    },
    {
     "data": {
      "text/markdown": [
       "<span style=\"color:#33cc33\">Correct</span>"
      ],
      "text/plain": [
       "Correct"
      ]
     },
     "metadata": {},
     "output_type": "display_data"
    }
   ],
   "source": [
    "pi = 3.14159 # approximate\n",
    "diameter = 3\n",
    "\n",
    "# Create a variable called 'radius' equal to half the diameter\n",
    "radius=diameter/2\n",
    "\n",
    "# Create a variable called 'area', using the formula for the area of a circle: pi times the radius squared\n",
    "area=pi*radius*radius\n",
    "\n",
    "# Check your answer\n",
    "q1.check()"
   ]
  },
  {
   "cell_type": "code",
   "execution_count": 6,
   "id": "b7389a92",
   "metadata": {
    "execution": {
     "iopub.execute_input": "2025-03-23T12:16:49.207756Z",
     "iopub.status.busy": "2025-03-23T12:16:49.207430Z",
     "iopub.status.idle": "2025-03-23T12:16:49.211112Z",
     "shell.execute_reply": "2025-03-23T12:16:49.210256Z"
    },
    "papermill": {
     "duration": 0.011875,
     "end_time": "2025-03-23T12:16:49.212579",
     "exception": false,
     "start_time": "2025-03-23T12:16:49.200704",
     "status": "completed"
    },
    "tags": []
   },
   "outputs": [],
   "source": [
    "# Uncomment and run the lines below if you need help.\n",
    "#q1.hint()\n",
    "#q1.solution()"
   ]
  },
  {
   "cell_type": "markdown",
   "id": "11591142",
   "metadata": {
    "papermill": {
     "duration": 0.005604,
     "end_time": "2025-03-23T12:16:49.224301",
     "exception": false,
     "start_time": "2025-03-23T12:16:49.218697",
     "status": "completed"
    },
    "tags": []
   },
   "source": [
    "<hr/>\n",
    "\n",
    "# 2.\n",
    "\n",
    "Add code to the following cell to swap variables `a` and `b` (so that `a` refers to the object previously referred to by `b` and vice versa)."
   ]
  },
  {
   "cell_type": "code",
   "execution_count": 7,
   "id": "3c58fb2d",
   "metadata": {
    "execution": {
     "iopub.execute_input": "2025-03-23T12:16:49.237275Z",
     "iopub.status.busy": "2025-03-23T12:16:49.236920Z",
     "iopub.status.idle": "2025-03-23T12:16:49.244974Z",
     "shell.execute_reply": "2025-03-23T12:16:49.244040Z"
    },
    "papermill": {
     "duration": 0.016529,
     "end_time": "2025-03-23T12:16:49.246677",
     "exception": false,
     "start_time": "2025-03-23T12:16:49.230148",
     "status": "completed"
    },
    "tags": []
   },
   "outputs": [
    {
     "data": {
      "application/javascript": [
       "parent.postMessage({\"jupyterEvent\": \"custom.exercise_interaction\", \"data\": {\"outcomeType\": 1, \"valueTowardsCompletion\": 0.25, \"interactionType\": 1, \"questionType\": 2, \"questionId\": \"2_VariableSwap\", \"learnToolsVersion\": \"0.3.4\", \"failureMessage\": \"\", \"exceptionClass\": \"\", \"trace\": \"\"}}, \"*\")"
      ],
      "text/plain": [
       "<IPython.core.display.Javascript object>"
      ]
     },
     "metadata": {},
     "output_type": "display_data"
    },
    {
     "data": {
      "text/markdown": [
       "<span style=\"color:#33cc33\">Correct:</span> \n",
       "\n",
       "The most straightforward solution is to use a third variable to temporarily store one of the old values. e.g.:\n",
       "\n",
       "    tmp = a\n",
       "    a = b\n",
       "    b = tmp\n",
       "\n",
       "If you've read lots of Python code, you might have seen the following trick to swap two variables in one line:\n",
       "\n",
       "    a, b = b, a\n",
       "\n",
       "We'll demystify this bit of Python magic later when we talk about *tuples*."
      ],
      "text/plain": [
       "Correct: \n",
       "\n",
       "The most straightforward solution is to use a third variable to temporarily store one of the old values. e.g.:\n",
       "\n",
       "    tmp = a\n",
       "    a = b\n",
       "    b = tmp\n",
       "\n",
       "If you've read lots of Python code, you might have seen the following trick to swap two variables in one line:\n",
       "\n",
       "    a, b = b, a\n",
       "\n",
       "We'll demystify this bit of Python magic later when we talk about *tuples*."
      ]
     },
     "metadata": {},
     "output_type": "display_data"
    }
   ],
   "source": [
    "########### Setup code - don't touch this part ######################\n",
    "# If you're curious, these are examples of lists. We'll talk about \n",
    "# them in depth a few lessons from now. For now, just know that they're\n",
    "# yet another type of Python object, like int or float.\n",
    "a = [1, 2, 3]\n",
    "b = [3, 2, 1]\n",
    "q2.store_original_ids()\n",
    "######################################################################\n",
    "\n",
    "# Your code goes here. Swap the values to which a and b refer.\n",
    "# If you get stuck, you can always uncomment one or both of the lines in\n",
    "# the next cell for a hint, or to peek at the solution.\n",
    "a, b = b, a\n",
    "######################################################################\n",
    "\n",
    "# Check your answer\n",
    "q2.check()"
   ]
  },
  {
   "cell_type": "code",
   "execution_count": 8,
   "id": "e1508efb",
   "metadata": {
    "execution": {
     "iopub.execute_input": "2025-03-23T12:16:49.260295Z",
     "iopub.status.busy": "2025-03-23T12:16:49.259936Z",
     "iopub.status.idle": "2025-03-23T12:16:49.263737Z",
     "shell.execute_reply": "2025-03-23T12:16:49.262829Z"
    },
    "papermill": {
     "duration": 0.012443,
     "end_time": "2025-03-23T12:16:49.265564",
     "exception": false,
     "start_time": "2025-03-23T12:16:49.253121",
     "status": "completed"
    },
    "tags": []
   },
   "outputs": [],
   "source": [
    "#q2.hint()"
   ]
  },
  {
   "cell_type": "code",
   "execution_count": 9,
   "id": "b2fe3d72",
   "metadata": {
    "execution": {
     "iopub.execute_input": "2025-03-23T12:16:49.279277Z",
     "iopub.status.busy": "2025-03-23T12:16:49.278929Z",
     "iopub.status.idle": "2025-03-23T12:16:49.282521Z",
     "shell.execute_reply": "2025-03-23T12:16:49.281649Z"
    },
    "papermill": {
     "duration": 0.012303,
     "end_time": "2025-03-23T12:16:49.284073",
     "exception": false,
     "start_time": "2025-03-23T12:16:49.271770",
     "status": "completed"
    },
    "tags": []
   },
   "outputs": [],
   "source": [
    "#q2.solution()"
   ]
  },
  {
   "cell_type": "markdown",
   "id": "7e6ff7bc",
   "metadata": {
    "papermill": {
     "duration": 0.005752,
     "end_time": "2025-03-23T12:16:49.296106",
     "exception": false,
     "start_time": "2025-03-23T12:16:49.290354",
     "status": "completed"
    },
    "tags": []
   },
   "source": [
    "<hr/>\n",
    "\n",
    "# 3a.\n",
    "\n",
    "Add parentheses to the following expression so that it evaluates to 1."
   ]
  },
  {
   "cell_type": "code",
   "execution_count": 10,
   "id": "9aafc61c",
   "metadata": {
    "execution": {
     "iopub.execute_input": "2025-03-23T12:16:49.309452Z",
     "iopub.status.busy": "2025-03-23T12:16:49.309105Z",
     "iopub.status.idle": "2025-03-23T12:16:49.314678Z",
     "shell.execute_reply": "2025-03-23T12:16:49.313641Z"
    },
    "papermill": {
     "duration": 0.014118,
     "end_time": "2025-03-23T12:16:49.316277",
     "exception": false,
     "start_time": "2025-03-23T12:16:49.302159",
     "status": "completed"
    },
    "tags": []
   },
   "outputs": [
    {
     "data": {
      "text/plain": [
       "1"
      ]
     },
     "execution_count": 10,
     "metadata": {},
     "output_type": "execute_result"
    }
   ],
   "source": [
    "(5 - 3) // 2"
   ]
  },
  {
   "cell_type": "code",
   "execution_count": 11,
   "id": "e5737504",
   "metadata": {
    "execution": {
     "iopub.execute_input": "2025-03-23T12:16:49.330116Z",
     "iopub.status.busy": "2025-03-23T12:16:49.329724Z",
     "iopub.status.idle": "2025-03-23T12:16:49.333618Z",
     "shell.execute_reply": "2025-03-23T12:16:49.332572Z"
    },
    "papermill": {
     "duration": 0.012631,
     "end_time": "2025-03-23T12:16:49.335282",
     "exception": false,
     "start_time": "2025-03-23T12:16:49.322651",
     "status": "completed"
    },
    "tags": []
   },
   "outputs": [],
   "source": [
    "#q3.a.hint()"
   ]
  },
  {
   "cell_type": "code",
   "execution_count": 12,
   "id": "58886a63",
   "metadata": {
    "execution": {
     "iopub.execute_input": "2025-03-23T12:16:49.349057Z",
     "iopub.status.busy": "2025-03-23T12:16:49.348672Z",
     "iopub.status.idle": "2025-03-23T12:16:49.356056Z",
     "shell.execute_reply": "2025-03-23T12:16:49.355062Z"
    },
    "papermill": {
     "duration": 0.016185,
     "end_time": "2025-03-23T12:16:49.357729",
     "exception": false,
     "start_time": "2025-03-23T12:16:49.341544",
     "status": "completed"
    },
    "tags": []
   },
   "outputs": [
    {
     "data": {
      "application/javascript": [
       "parent.postMessage({\"jupyterEvent\": \"custom.exercise_interaction\", \"data\": {\"interactionType\": 3, \"questionType\": 4, \"questionId\": \"3.1_ArithmeticParensEasy\", \"learnToolsVersion\": \"0.3.4\", \"valueTowardsCompletion\": 0.0, \"failureMessage\": \"\", \"exceptionClass\": \"\", \"trace\": \"\", \"outcomeType\": 4}}, \"*\")"
      ],
      "text/plain": [
       "<IPython.core.display.Javascript object>"
      ]
     },
     "metadata": {},
     "output_type": "display_data"
    },
    {
     "data": {
      "text/markdown": [
       "<span style=\"color:#33cc99\">Solution:</span> \n",
       "```python\n",
       "(5 - 3) // 2\n",
       "```"
      ],
      "text/plain": [
       "Solution: \n",
       "```python\n",
       "(5 - 3) // 2\n",
       "```"
      ]
     },
     "metadata": {},
     "output_type": "display_data"
    }
   ],
   "source": [
    "# Check your answer (Run this code cell to receive credit!)\n",
    "q3.a.solution()"
   ]
  },
  {
   "cell_type": "markdown",
   "id": "ee183c5c",
   "metadata": {
    "papermill": {
     "duration": 0.00611,
     "end_time": "2025-03-23T12:16:49.370494",
     "exception": false,
     "start_time": "2025-03-23T12:16:49.364384",
     "status": "completed"
    },
    "tags": []
   },
   "source": [
    "# 3b.  <span title=\"A bit spicy\" style=\"color: darkgreen \">🌶️</span>\n",
    "\n",
    "<small>Questions, like this one, marked a spicy pepper are a bit harder.</small>\n",
    "\n",
    "Add parentheses to the following expression so that it evaluates to 0."
   ]
  },
  {
   "cell_type": "code",
   "execution_count": 13,
   "id": "d1e5522d",
   "metadata": {
    "execution": {
     "iopub.execute_input": "2025-03-23T12:16:49.384529Z",
     "iopub.status.busy": "2025-03-23T12:16:49.384195Z",
     "iopub.status.idle": "2025-03-23T12:16:49.389935Z",
     "shell.execute_reply": "2025-03-23T12:16:49.388865Z"
    },
    "papermill": {
     "duration": 0.014879,
     "end_time": "2025-03-23T12:16:49.391632",
     "exception": false,
     "start_time": "2025-03-23T12:16:49.376753",
     "status": "completed"
    },
    "tags": []
   },
   "outputs": [
    {
     "data": {
      "text/plain": [
       "0"
      ]
     },
     "execution_count": 13,
     "metadata": {},
     "output_type": "execute_result"
    }
   ],
   "source": [
    "(8 - 3 )* (2- (1 + 1))"
   ]
  },
  {
   "cell_type": "code",
   "execution_count": 14,
   "id": "4d2e7a5e",
   "metadata": {
    "execution": {
     "iopub.execute_input": "2025-03-23T12:16:49.407875Z",
     "iopub.status.busy": "2025-03-23T12:16:49.407497Z",
     "iopub.status.idle": "2025-03-23T12:16:49.411895Z",
     "shell.execute_reply": "2025-03-23T12:16:49.410752Z"
    },
    "papermill": {
     "duration": 0.013858,
     "end_time": "2025-03-23T12:16:49.413634",
     "exception": false,
     "start_time": "2025-03-23T12:16:49.399776",
     "status": "completed"
    },
    "tags": []
   },
   "outputs": [],
   "source": [
    "#q3.b.hint()"
   ]
  },
  {
   "cell_type": "code",
   "execution_count": 15,
   "id": "aa731636",
   "metadata": {
    "execution": {
     "iopub.execute_input": "2025-03-23T12:16:49.428571Z",
     "iopub.status.busy": "2025-03-23T12:16:49.428217Z",
     "iopub.status.idle": "2025-03-23T12:16:49.435441Z",
     "shell.execute_reply": "2025-03-23T12:16:49.434562Z"
    },
    "papermill": {
     "duration": 0.016454,
     "end_time": "2025-03-23T12:16:49.436995",
     "exception": false,
     "start_time": "2025-03-23T12:16:49.420541",
     "status": "completed"
    },
    "tags": []
   },
   "outputs": [
    {
     "data": {
      "application/javascript": [
       "parent.postMessage({\"jupyterEvent\": \"custom.exercise_interaction\", \"data\": {\"interactionType\": 3, \"questionType\": 4, \"questionId\": \"3.2_ArithmeticParensHard\", \"learnToolsVersion\": \"0.3.4\", \"valueTowardsCompletion\": 0.0, \"failureMessage\": \"\", \"exceptionClass\": \"\", \"trace\": \"\", \"outcomeType\": 4}}, \"*\")"
      ],
      "text/plain": [
       "<IPython.core.display.Javascript object>"
      ]
     },
     "metadata": {},
     "output_type": "display_data"
    },
    {
     "data": {
      "text/markdown": [
       "<span style=\"color:#33cc99\">Solution:</span> `(8 - 3) * (2 - (1 + 1))` is one solution. There may be others."
      ],
      "text/plain": [
       "Solution: `(8 - 3) * (2 - (1 + 1))` is one solution. There may be others."
      ]
     },
     "metadata": {},
     "output_type": "display_data"
    }
   ],
   "source": [
    "# Check your answer (Run this code cell to receive credit!)\n",
    "q3.b.solution()"
   ]
  },
  {
   "cell_type": "markdown",
   "id": "e5e18cd5",
   "metadata": {
    "papermill": {
     "duration": 0.006651,
     "end_time": "2025-03-23T12:16:49.451566",
     "exception": false,
     "start_time": "2025-03-23T12:16:49.444915",
     "status": "completed"
    },
    "tags": []
   },
   "source": [
    "<hr/>\n",
    "\n",
    "# 4. \n",
    "Alice, Bob and Carol have agreed to pool their Halloween candy and split it evenly among themselves.\n",
    "For the sake of their friendship, any candies left over will be smashed. For example, if they collectively\n",
    "bring home 91 candies, they'll take 30 each and smash 1.\n",
    "\n",
    "Write an arithmetic expression below to calculate how many candies they must smash for a given haul."
   ]
  },
  {
   "cell_type": "code",
   "execution_count": 16,
   "id": "c62e0fc3",
   "metadata": {
    "execution": {
     "iopub.execute_input": "2025-03-23T12:16:49.466445Z",
     "iopub.status.busy": "2025-03-23T12:16:49.466091Z",
     "iopub.status.idle": "2025-03-23T12:16:49.473735Z",
     "shell.execute_reply": "2025-03-23T12:16:49.472727Z"
    },
    "papermill": {
     "duration": 0.016972,
     "end_time": "2025-03-23T12:16:49.475348",
     "exception": false,
     "start_time": "2025-03-23T12:16:49.458376",
     "status": "completed"
    },
    "tags": []
   },
   "outputs": [
    {
     "data": {
      "application/javascript": [
       "parent.postMessage({\"jupyterEvent\": \"custom.exercise_interaction\", \"data\": {\"outcomeType\": 1, \"valueTowardsCompletion\": 0.25, \"interactionType\": 1, \"questionType\": 1, \"questionId\": \"4_CandySplitting\", \"learnToolsVersion\": \"0.3.4\", \"failureMessage\": \"\", \"exceptionClass\": \"\", \"trace\": \"\"}}, \"*\")"
      ],
      "text/plain": [
       "<IPython.core.display.Javascript object>"
      ]
     },
     "metadata": {},
     "output_type": "display_data"
    },
    {
     "data": {
      "text/markdown": [
       "<span style=\"color:#33cc33\">Correct</span>"
      ],
      "text/plain": [
       "Correct"
      ]
     },
     "metadata": {},
     "output_type": "display_data"
    }
   ],
   "source": [
    "# Variables representing the number of candies collected by alice, bob, and carol\n",
    "alice_candies = 121\n",
    "bob_candies = 77\n",
    "carol_candies = 109\n",
    "\n",
    "# Your code goes here! Replace the right-hand side of this assignment with an expression\n",
    "# involving alice_candies, bob_candies, and carol_candies\n",
    "to_smash = (alice_candies + bob_candies + carol_candies) % 3\n",
    "# Check your answer\n",
    "q4.check()"
   ]
  },
  {
   "cell_type": "code",
   "execution_count": 17,
   "id": "bfb7172d",
   "metadata": {
    "execution": {
     "iopub.execute_input": "2025-03-23T12:16:49.491047Z",
     "iopub.status.busy": "2025-03-23T12:16:49.490693Z",
     "iopub.status.idle": "2025-03-23T12:16:49.494587Z",
     "shell.execute_reply": "2025-03-23T12:16:49.493511Z"
    },
    "papermill": {
     "duration": 0.013759,
     "end_time": "2025-03-23T12:16:49.496400",
     "exception": false,
     "start_time": "2025-03-23T12:16:49.482641",
     "status": "completed"
    },
    "tags": []
   },
   "outputs": [],
   "source": [
    "#q4.hint()\n",
    "#q4.solution()"
   ]
  },
  {
   "cell_type": "markdown",
   "id": "84620852",
   "metadata": {
    "papermill": {
     "duration": 0.006949,
     "end_time": "2025-03-23T12:16:49.510432",
     "exception": false,
     "start_time": "2025-03-23T12:16:49.503483",
     "status": "completed"
    },
    "tags": []
   },
   "source": [
    "# Keep Going\n",
    "\n",
    "Next up, you'll **[learn to write new functions and understand functions others write](https://www.kaggle.com/colinmorris/functions-and-getting-help)**. This will make you at least 10 times more productive as a Python programmer. "
   ]
  },
  {
   "cell_type": "markdown",
   "id": "409a0e25",
   "metadata": {
    "papermill": {
     "duration": 0.006959,
     "end_time": "2025-03-23T12:16:49.524536",
     "exception": false,
     "start_time": "2025-03-23T12:16:49.517577",
     "status": "completed"
    },
    "tags": []
   },
   "source": [
    "---\n",
    "\n",
    "\n",
    "\n",
    "\n",
    "*Have questions or comments? Visit the [course discussion forum](https://www.kaggle.com/learn/python/discussion) to chat with other learners.*"
   ]
  }
 ],
 "metadata": {
  "kaggle": {
   "accelerator": "none",
   "dataSources": [],
   "isGpuEnabled": false,
   "isInternetEnabled": false,
   "language": "python",
   "sourceType": "notebook"
  },
  "kernelspec": {
   "display_name": "Python 3",
   "language": "python",
   "name": "python3"
  },
  "language_info": {
   "codemirror_mode": {
    "name": "ipython",
    "version": 3
   },
   "file_extension": ".py",
   "mimetype": "text/x-python",
   "name": "python",
   "nbconvert_exporter": "python",
   "pygments_lexer": "ipython3",
   "version": "3.10.12"
  },
  "learntools_metadata": {
   "lesson_index": 0,
   "type": "exercise"
  },
  "papermill": {
   "default_parameters": {},
   "duration": 5.64901,
   "end_time": "2025-03-23T12:16:50.151860",
   "environment_variables": {},
   "exception": null,
   "input_path": "__notebook__.ipynb",
   "output_path": "__notebook__.ipynb",
   "parameters": {},
   "start_time": "2025-03-23T12:16:44.502850",
   "version": "2.6.0"
  }
 },
 "nbformat": 4,
 "nbformat_minor": 5
}
